{
  "nbformat": 4,
  "nbformat_minor": 0,
  "metadata": {
    "colab": {
      "provenance": []
    },
    "kernelspec": {
      "name": "python3",
      "display_name": "Python 3"
    },
    "language_info": {
      "name": "python"
    }
  },
  "cells": [
    {
      "cell_type": "markdown",
      "source": [],
      "metadata": {
        "id": "Lb7KM8LGsMmA"
      }
    },
    {
      "cell_type": "markdown",
      "source": [
        "**Q1. DISCUSS STRING SLICING AND PROVIDE EXAMPLES.**\n",
        "\n",
        "Ans: String slicing is a powerful feature in Python that allows to extract a portion of a string using a simple syntax.It is a flexible and efficient way to access and manipulate portions of strings in Python, allowing for concise code when handling text data. The basic syntax for slicing a string is:\n",
        "\n",
        "string[start:end:step]\n",
        "\n",
        "*   start: The index where the slice begins (inclusive).\n",
        "*   end: The index where the slice ends (exclusive).\n",
        "*   step: The increment (or step) between each index in the slice.\n",
        "\n",
        "\n",
        "EXAMPLES:\n",
        "\n",
        "1.Simple Slicing"
      ],
      "metadata": {
        "id": "56slxEO8sONQ"
      }
    },
    {
      "cell_type": "code",
      "source": [
        "text = \"Hello, World!\"\n",
        "text[0:5]"
      ],
      "metadata": {
        "colab": {
          "base_uri": "https://localhost:8080/",
          "height": 35
        },
        "id": "ywXlEL5Zt-wA",
        "outputId": "88c4eaa6-925f-45ca-a791-9b58b61f3f49"
      },
      "execution_count": null,
      "outputs": [
        {
          "output_type": "execute_result",
          "data": {
            "text/plain": [
              "'Hello'"
            ],
            "application/vnd.google.colaboratory.intrinsic+json": {
              "type": "string"
            }
          },
          "metadata": {},
          "execution_count": 3
        }
      ]
    },
    {
      "cell_type": "markdown",
      "source": [
        "2.Omitting start and end"
      ],
      "metadata": {
        "id": "fBsEXGrVuqw-"
      }
    },
    {
      "cell_type": "code",
      "source": [
        "text = \"Hello, World!\"\n",
        "text[:5]\n"
      ],
      "metadata": {
        "colab": {
          "base_uri": "https://localhost:8080/",
          "height": 35
        },
        "id": "PHZOdnwFucLj",
        "outputId": "b76454c7-aff0-4b05-acb4-d197d00ee323"
      },
      "execution_count": null,
      "outputs": [
        {
          "output_type": "execute_result",
          "data": {
            "text/plain": [
              "'Hello'"
            ],
            "application/vnd.google.colaboratory.intrinsic+json": {
              "type": "string"
            }
          },
          "metadata": {},
          "execution_count": 6
        }
      ]
    },
    {
      "cell_type": "code",
      "source": [
        "text[7:]"
      ],
      "metadata": {
        "colab": {
          "base_uri": "https://localhost:8080/",
          "height": 35
        },
        "id": "JRmPwU4ovCTm",
        "outputId": "577f9bfc-a114-451d-deab-6f633270c208"
      },
      "execution_count": null,
      "outputs": [
        {
          "output_type": "execute_result",
          "data": {
            "text/plain": [
              "'World!'"
            ],
            "application/vnd.google.colaboratory.intrinsic+json": {
              "type": "string"
            }
          },
          "metadata": {},
          "execution_count": 7
        }
      ]
    },
    {
      "cell_type": "markdown",
      "source": [
        "3.Using step"
      ],
      "metadata": {
        "id": "gx7kBCwnvGuE"
      }
    },
    {
      "cell_type": "code",
      "source": [
        "text = \"Hello, World!\"\n",
        "text[::2]"
      ],
      "metadata": {
        "colab": {
          "base_uri": "https://localhost:8080/",
          "height": 35
        },
        "id": "OipSySVRvLcy",
        "outputId": "6d8a1ad4-20f4-476d-8512-8ac84b0cf625"
      },
      "execution_count": null,
      "outputs": [
        {
          "output_type": "execute_result",
          "data": {
            "text/plain": [
              "'Hlo ol!'"
            ],
            "application/vnd.google.colaboratory.intrinsic+json": {
              "type": "string"
            }
          },
          "metadata": {},
          "execution_count": 9
        }
      ]
    },
    {
      "cell_type": "markdown",
      "source": [
        "4.Negative indices"
      ],
      "metadata": {
        "id": "28t9jLWavYpR"
      }
    },
    {
      "cell_type": "code",
      "source": [
        "text = \"Hello, World!\"\n",
        "text[-6:-1]"
      ],
      "metadata": {
        "colab": {
          "base_uri": "https://localhost:8080/",
          "height": 35
        },
        "id": "nvSdmtuivcMi",
        "outputId": "bda7e9d0-60e2-48a4-f337-c515bd6f9ce0"
      },
      "execution_count": null,
      "outputs": [
        {
          "output_type": "execute_result",
          "data": {
            "text/plain": [
              "'World'"
            ],
            "application/vnd.google.colaboratory.intrinsic+json": {
              "type": "string"
            }
          },
          "metadata": {},
          "execution_count": 10
        }
      ]
    },
    {
      "cell_type": "markdown",
      "source": [
        "**Q2. EXPLAIN THE KEY FEATURES OF LISTS IN PYTHON.**\n",
        "\n",
        "ANS: Lists in Python are one of the most versatile and commonly used data structures. Here are the key features of lists:\n",
        "\n",
        "1. Ordered Collection\n",
        "\n",
        "Lists maintain the order of elements. The items in a list are indexed, meaning you can access them by their position.\n",
        "\n",
        "2. Mutable\n",
        "\n",
        "Lists are mutable, which means you can change their content without creating a new list. You can add, remove, or modify elements.\n",
        "\n",
        "3. Dynamic Size\n",
        "\n",
        "Lists can grow and shrink in size as needed. You can append or remove items, and the list will adjust automatically.\n",
        "\n",
        "4. Heterogeneous Elements\n",
        "\n",
        "Lists can hold items of different data types, including integers, strings, floats, and even other lists.\n",
        "\n",
        "5. Nested Lists\n",
        "\n",
        "Lists can contain other lists as elements, allowing for the creation of multi-dimensional data structures.\n",
        "\n",
        "6. Built-in Methods\n",
        "\n",
        "Python provides a variety of built-in methods for lists, such as:\n",
        "\n",
        "append():Adds an item to the end of the list.\n",
        "\n",
        "extend(): Extends the list by appending elements from another iterable.\n",
        "\n",
        "insert(): Inserts an item at a specified index.\n",
        "\n",
        "remove(): Removes the first occurrence of a value.\n",
        "\n",
        "pop(): Removes and returns an item at a given position (or the last item if no index is specified).\n",
        "\n",
        "sort(): Sorts the list in place.\n",
        "\n",
        "reverse(): Reverses the order of the list.\n",
        "\n",
        "7. Indexing and Slicing\n",
        "\n",
        "You can access elements using positive and negative indexing, and you can slice lists to create sublists.\n",
        "\n",
        "8. Comprehensions\n",
        "\n",
        "Python supports list comprehensions, which provide a concise way to create lists based on existing lists or other iterables.\n",
        "\n",
        "\n",
        "**Q3. DESCRIBE HOW TO ACCESS,MODIFY AND DELETE ELEMENTS IN A LIST WITH EXAMPLES.**\n",
        "\n",
        "Ans: Accessing, modifying, and deleting elements in a list in Python is straightforward and intuitive.\n",
        "\n",
        "1. Accessing Elements\n",
        "\n",
        "You can access list elements using indexing. Python uses zero-based indexing, so the first element is at index 0.\n",
        "\n",
        "2. Modifying Elements\n",
        "\n",
        "Lists are mutable, meaning you can change their contents. You can modify elements by assigning new values to specific indices.\n",
        "\n",
        "3. Deleting Elements\n",
        "\n",
        "You can delete elements from a list using several methods:\n",
        "\n",
        "Using del: Deletes an element by index.\n",
        "\n",
        "Using remove(): Removes the first occurrence of a specific value.\n",
        "\n",
        "Using pop(): Removes and returns an element at a specific index (default is the last element).\n",
        "\n",
        "Examples:\n"
      ],
      "metadata": {
        "id": "xZk-pSSlv5e9"
      }
    },
    {
      "cell_type": "code",
      "source": [
        "#Accessing elements\n",
        "fruits = [\"apple\", \"banana\", \"cherry\"]\n",
        "fruits[0]"
      ],
      "metadata": {
        "colab": {
          "base_uri": "https://localhost:8080/",
          "height": 35
        },
        "id": "nd8MpQWWxT17",
        "outputId": "39a76201-e992-43a2-e853-c47d7f16b2f1"
      },
      "execution_count": null,
      "outputs": [
        {
          "output_type": "execute_result",
          "data": {
            "text/plain": [
              "'apple'"
            ],
            "application/vnd.google.colaboratory.intrinsic+json": {
              "type": "string"
            }
          },
          "metadata": {},
          "execution_count": 20
        }
      ]
    },
    {
      "cell_type": "code",
      "source": [
        "#Modifying a list\n",
        "#Adding an item to the list\n",
        "fruits = [\"apple\", \"banana\", \"cherry\"]\n",
        "fruits.append(\"orange\")\n",
        "fruits"
      ],
      "metadata": {
        "colab": {
          "base_uri": "https://localhost:8080/"
        },
        "id": "RRiOQlmifg7s",
        "outputId": "4e316fc9-d1b4-4eca-e407-277f05069897"
      },
      "execution_count": null,
      "outputs": [
        {
          "output_type": "execute_result",
          "data": {
            "text/plain": [
              "['apple', 'banana', 'cherry', 'orange']"
            ]
          },
          "metadata": {},
          "execution_count": 4
        }
      ]
    },
    {
      "cell_type": "code",
      "source": [
        "#Replacing an item with another item\n",
        "fruits = [\"apple\", \"banana\", \"cherry\"]\n",
        "fruits[1] = \"blueberry\"\n",
        "fruits"
      ],
      "metadata": {
        "colab": {
          "base_uri": "https://localhost:8080/"
        },
        "id": "jjC0XJbiiqeN",
        "outputId": "2774364f-2dc0-461a-e982-310118547f51"
      },
      "execution_count": null,
      "outputs": [
        {
          "output_type": "execute_result",
          "data": {
            "text/plain": [
              "['apple', 'blueberry', 'cherry']"
            ]
          },
          "metadata": {},
          "execution_count": 10
        }
      ]
    },
    {
      "cell_type": "code",
      "source": [
        "#Removing an item\n",
        "fruits=['apple', 'banana', 'cherry', 'orange']\n",
        "fruits.remove(\"apple\")\n",
        "fruits"
      ],
      "metadata": {
        "colab": {
          "base_uri": "https://localhost:8080/"
        },
        "id": "DvCtV6Ncf_hH",
        "outputId": "5e105d3a-3c3b-453e-fdaf-5eac97486675"
      },
      "execution_count": null,
      "outputs": [
        {
          "output_type": "execute_result",
          "data": {
            "text/plain": [
              "['banana', 'cherry', 'orange']"
            ]
          },
          "metadata": {},
          "execution_count": 6
        }
      ]
    },
    {
      "cell_type": "code",
      "source": [
        "fruits=['apple', 'banana', 'cherry', 'orange']\n",
        "fruits.pop()"
      ],
      "metadata": {
        "colab": {
          "base_uri": "https://localhost:8080/",
          "height": 35
        },
        "id": "oKYaZv2WjOLj",
        "outputId": "a54ab949-ae6b-4fbd-9aec-1f1d4f7965de"
      },
      "execution_count": null,
      "outputs": [
        {
          "output_type": "execute_result",
          "data": {
            "text/plain": [
              "'orange'"
            ],
            "application/vnd.google.colaboratory.intrinsic+json": {
              "type": "string"
            }
          },
          "metadata": {},
          "execution_count": 11
        }
      ]
    },
    {
      "cell_type": "code",
      "source": [
        "fruits=['apple', 'banana', 'cherry', 'orange']\n",
        "del fruits[2]\n",
        "fruits"
      ],
      "metadata": {
        "colab": {
          "base_uri": "https://localhost:8080/"
        },
        "id": "udqhBiLjjdgq",
        "outputId": "b9108932-5519-4aa0-ce86-f578178b25af"
      },
      "execution_count": null,
      "outputs": [
        {
          "output_type": "execute_result",
          "data": {
            "text/plain": [
              "['apple', 'banana', 'orange']"
            ]
          },
          "metadata": {},
          "execution_count": 13
        }
      ]
    },
    {
      "cell_type": "markdown",
      "source": [
        "**Q4. COMPARE AND CONTRAST TUPLES ANS LISTS WITH EXAMPLES.**\n",
        "\n",
        "Ans: Tuples and lists are both built-in data structures in Python, but they have distinct characteristics and use cases.\n",
        "\n",
        "Similarities:\n",
        "\n",
        "1.Ordered: Both tuples and lists maintain the order of elements. You can access items using indexing.\n",
        "\n",
        "2.Heterogeneous: Both can store items of different data types, such as integers, strings, and other collections.\n",
        "\n",
        "3.Nested: Both can contain other tuples or lists as elements.\n",
        "\n",
        "Differences:\n",
        "\n",
        "1. Mutability:\n",
        "\n",
        "Lists: Mutable, meaning their elements can be changed after creation.\n",
        "\n",
        "Tuples: Immutable, meaning once created, their elements cannot be changed.\n",
        "\n",
        "2. Use Cases\n",
        "\n",
        "Lists: Used when you need a collection of items that may change, such as in dynamic data scenarios.\n",
        "\n",
        "Tuples: Used when the data should not change, such as fixed collections or as keys in dictionaries.\n",
        "\n",
        "\n",
        "EXAMPLES:\n"
      ],
      "metadata": {
        "id": "V0zV8L5ajqlY"
      }
    },
    {
      "cell_type": "code",
      "source": [
        "#Example of List\n",
        "\n",
        "\n",
        "my_list = [1, 2, 3]\n",
        "my_list[0] = 10             #Modifying the list\n",
        "print(my_list)"
      ],
      "metadata": {
        "colab": {
          "base_uri": "https://localhost:8080/"
        },
        "id": "CEBc2d2slG6E",
        "outputId": "0e8d5aae-b262-4637-827a-5e439fc6e769"
      },
      "execution_count": null,
      "outputs": [
        {
          "output_type": "stream",
          "name": "stdout",
          "text": [
            "[10, 2, 3]\n"
          ]
        }
      ]
    },
    {
      "cell_type": "code",
      "source": [
        "#Example of Tuple\n",
        "\n",
        "my_tuple = (1, 2, 3)\n",
        "# my_tuple[0] = 10  # This would raise a TypeError."
      ],
      "metadata": {
        "id": "XCZAXWjXlct5"
      },
      "execution_count": null,
      "outputs": []
    },
    {
      "cell_type": "markdown",
      "source": [
        "**Q5. DESCRIBE THE KEY FEATURES OF SETS AND PROVIDE EXAMPLES OF THEIR USE.**\n",
        "\n",
        "Ans: Sets are a built-in data structure in Python that store unordered collections of unique elements.\n",
        "\n",
        "\n",
        "Key Features of Sets are:\n",
        "\n",
        "1. Unordered:\n",
        "\n",
        "Sets do not maintain the order of elements. When you iterate over a set, the order is not guaranteed.\n",
        "\n",
        "2. Unique Elements:\n",
        "\n",
        "Sets automatically remove duplicate values. Each element can only appear once in a set.\n",
        "\n",
        "3. Mutable:\n",
        "\n",
        "You can add or remove elements from a set after it has been created.\n",
        "\n",
        "4. Dynamic Size:\n",
        "\n",
        "Sets can grow and shrink in size as elements are added or removed.\n",
        "\n",
        "5. Mathematical Set Operations:\n",
        "\n",
        "Sets support various operations like union, intersection, difference, and symmetric difference.\n",
        "\n",
        "\n",
        "Examples of Sets are:\n"
      ],
      "metadata": {
        "id": "APijQiDtmO7B"
      }
    },
    {
      "cell_type": "code",
      "source": [
        "fruits = {'apple', 'banana', 'cherry'}\n",
        "print(fruits)"
      ],
      "metadata": {
        "colab": {
          "base_uri": "https://localhost:8080/"
        },
        "id": "-UpS5q9dlruO",
        "outputId": "7029f956-176a-4973-9ed1-3141aaf94597"
      },
      "execution_count": null,
      "outputs": [
        {
          "output_type": "stream",
          "name": "stdout",
          "text": [
            "{'apple', 'cherry', 'banana'}\n"
          ]
        }
      ]
    },
    {
      "cell_type": "code",
      "source": [
        "fruits.add('date')\n",
        "print(fruits)"
      ],
      "metadata": {
        "colab": {
          "base_uri": "https://localhost:8080/"
        },
        "id": "sD72v_SAnEfs",
        "outputId": "dd4b18b9-9fc7-4891-a997-2f9940a351c5"
      },
      "execution_count": null,
      "outputs": [
        {
          "output_type": "stream",
          "name": "stdout",
          "text": [
            "{'apple', 'date', 'cherry', 'banana'}\n"
          ]
        }
      ]
    },
    {
      "cell_type": "code",
      "source": [
        "# Duplicate values are automatically removed\n",
        "numbers = {1, 2, 2, 3, 4}\n",
        "print(numbers)"
      ],
      "metadata": {
        "colab": {
          "base_uri": "https://localhost:8080/"
        },
        "id": "_DvaYxwTnJDw",
        "outputId": "b2aaf6ba-d769-4c75-96a2-354402d76137"
      },
      "execution_count": null,
      "outputs": [
        {
          "output_type": "stream",
          "name": "stdout",
          "text": [
            "{1, 2, 3, 4}\n"
          ]
        }
      ]
    },
    {
      "cell_type": "code",
      "source": [
        "my_set = {1, 2, 3, 4}\n",
        "3 in my_set"
      ],
      "metadata": {
        "colab": {
          "base_uri": "https://localhost:8080/"
        },
        "id": "SjXTop_dnQUq",
        "outputId": "d08ed200-c0a5-40d4-c343-cd44774fe31a"
      },
      "execution_count": null,
      "outputs": [
        {
          "output_type": "execute_result",
          "data": {
            "text/plain": [
              "True"
            ]
          },
          "metadata": {},
          "execution_count": 18
        }
      ]
    },
    {
      "cell_type": "markdown",
      "source": [
        "\n",
        "**Q6.DISCUSS THE USE CASES OF TUPLES AND SETS IN PYTHON PROGRAMMING.**\n",
        "\n",
        "Ans: Tuples and sets serve distinct purposes in Python programming, and their use cases reflect their unique characteristics.\n",
        "\n",
        "**Tuples**\n",
        "\n",
        " Best for fixed collections, returning multiple values, maintaining data integrity, and using as dictionary keys.\n",
        "\n",
        "**Use Cases of Tuples:**\n",
        "\n",
        "**1. Immutable Collections:**\n",
        "\n",
        "Tuples are ideal for data that should not change throughout the program, such as coordinates or fixed configuration values.\n",
        "\n",
        "**2. Returning Multiple Values from Functions:**\n",
        "\n",
        "Tuples are often used to return multiple values from a function conveniently.\n",
        "\n",
        "**3. Data Integrity:**\n",
        "\n",
        "Use tuples when you want to ensure that the data cannot be modified, thus maintaining its integrity.\n",
        "\n",
        "**4.Dictionary Keys:**\n",
        "\n",
        "Tuples can be used as keys in dictionaries due to their immutability, whereas lists cannot.\n",
        "\n",
        "**5.Fixed Size Collections:**\n",
        "\n",
        "Use tuples to represent fixed-size collections of items, such as RGB color .\n",
        "\n",
        "EXAMPLES:"
      ],
      "metadata": {
        "id": "S7Lb23jBohSl"
      }
    },
    {
      "cell_type": "code",
      "source": [
        "box1=(\"a\",\"b\")\n",
        "box2=(\"c\",\"d\")\n",
        "new_box=(box1,box2)\n",
        "new_box"
      ],
      "metadata": {
        "colab": {
          "base_uri": "https://localhost:8080/"
        },
        "id": "wawxCilKlfi9",
        "outputId": "028ec81e-7eb6-4f3e-a06d-0814b10e0253"
      },
      "execution_count": null,
      "outputs": [
        {
          "output_type": "execute_result",
          "data": {
            "text/plain": [
              "(('a', 'b'), ('c', 'd'))"
            ]
          },
          "metadata": {},
          "execution_count": 8
        }
      ]
    },
    {
      "cell_type": "markdown",
      "source": [
        "**Sets**\n",
        "\n",
        "Sets excel in storing unique elements, performing fast membership tests, and supporting set operations.\n",
        "\n",
        "**Use cases of Sets:**\n",
        "\n",
        "**1.Unique Element Storage:**\n",
        "\n",
        "Sets automatically handle duplicates, making them ideal for storing unique items. This is useful in scenarios like removing duplicates from a list.\n",
        "\n",
        "**2.Membership Testing:**\n",
        "\n",
        "Sets provide fast membership testing. Checking if an item exists in a set, making it efficient for large datasets.\n",
        "\n",
        "**3.Mathematical Set Operations:**\n",
        "\n",
        "Sets support mathematical operations like union, intersection, difference, and symmetric difference, making them useful for problems involving collections of items.\n",
        "\n",
        "**EXAMPLES:**\n",
        "\n"
      ],
      "metadata": {
        "id": "CB_jIaGeRSOQ"
      }
    },
    {
      "cell_type": "code",
      "source": [
        "unique_numbers = set([1, 2, 2, 3, 4])"
      ],
      "metadata": {
        "id": "36hhE58XSgP_"
      },
      "execution_count": null,
      "outputs": []
    },
    {
      "cell_type": "code",
      "source": [
        "my_set = {1, 2, 3}\n",
        "print(2 in my_set)"
      ],
      "metadata": {
        "colab": {
          "base_uri": "https://localhost:8080/"
        },
        "id": "SXfO1BjNSkka",
        "outputId": "a8944daa-6355-4987-8b1c-6c91cb0a24c0"
      },
      "execution_count": null,
      "outputs": [
        {
          "output_type": "stream",
          "name": "stdout",
          "text": [
            "True\n"
          ]
        }
      ]
    },
    {
      "cell_type": "markdown",
      "source": [
        "**Q7. DESCRIBE HOW TO ADD,MODIFY AND DELETE ITEMS IN A DICTIONARY WITH EXAMPLES.**\n",
        "\n",
        "Ans: Dictionaries are mutable collections that store key-value pairs. You can easily add, modify, and delete items in a dictionary.\n",
        "\n",
        "1. Adding Items\n",
        "\n",
        "You can add items to a dictionary by assigning a value to a new key.\n",
        "\n"
      ],
      "metadata": {
        "id": "lfLbV6JjTZm_"
      }
    },
    {
      "cell_type": "code",
      "source": [
        "my_dict = {'name': 'Alice', 'age': 30}\n",
        "my_dict['city'] = 'New York'\n",
        "print(my_dict)"
      ],
      "metadata": {
        "colab": {
          "base_uri": "https://localhost:8080/"
        },
        "id": "ckKjEGHaU8aP",
        "outputId": "5ef4bf4f-9039-461e-ecb1-fc2a07beaa83"
      },
      "execution_count": null,
      "outputs": [
        {
          "output_type": "stream",
          "name": "stdout",
          "text": [
            "{'name': 'Alice', 'age': 30, 'city': 'New York'}\n"
          ]
        }
      ]
    },
    {
      "cell_type": "markdown",
      "source": [
        "2.Modifying Items\n",
        "\n",
        "To modify an existing item, simply assign a new value to the existing key."
      ],
      "metadata": {
        "id": "wdH8OvLHVRa9"
      }
    },
    {
      "cell_type": "code",
      "source": [
        "my_dict['age'] = 31\n",
        "\n",
        "print(my_dict)"
      ],
      "metadata": {
        "colab": {
          "base_uri": "https://localhost:8080/"
        },
        "id": "YOymOyi4VXrZ",
        "outputId": "4fcf0637-4b34-4d8e-b623-1fc495b40055"
      },
      "execution_count": null,
      "outputs": [
        {
          "output_type": "stream",
          "name": "stdout",
          "text": [
            "{'name': 'Alice', 'age': 31, 'city': 'New York'}\n"
          ]
        }
      ]
    },
    {
      "cell_type": "markdown",
      "source": [
        "3.Deleting Items\n",
        "\n",
        "You can delete items from a dictionary using the del statement or the pop() method."
      ],
      "metadata": {
        "id": "ehugZaeXVfx_"
      }
    },
    {
      "cell_type": "code",
      "source": [
        "del my_dict['city']\n",
        "\n",
        "print(my_dict)"
      ],
      "metadata": {
        "colab": {
          "base_uri": "https://localhost:8080/"
        },
        "id": "OXACkEywVka6",
        "outputId": "cb88ec05-dce8-4baa-e195-41609ca97082"
      },
      "execution_count": null,
      "outputs": [
        {
          "output_type": "stream",
          "name": "stdout",
          "text": [
            "{'name': 'Alice', 'age': 31}\n"
          ]
        }
      ]
    },
    {
      "cell_type": "code",
      "source": [
        "age = my_dict.pop('age')\n",
        "\n",
        "print(my_dict)\n",
        "print(age)"
      ],
      "metadata": {
        "colab": {
          "base_uri": "https://localhost:8080/"
        },
        "id": "Sp-1hswIVrcv",
        "outputId": "92c5ee2e-c5af-428d-8763-7dba94532166"
      },
      "execution_count": null,
      "outputs": [
        {
          "output_type": "stream",
          "name": "stdout",
          "text": [
            "{'name': 'Alice'}\n",
            "31\n"
          ]
        }
      ]
    },
    {
      "cell_type": "markdown",
      "source": [
        "**Q8. Discuss the importance of dictionary keys being immutable and provide examples.**\n",
        "\n",
        "Ans: The immutability of dictionary keys in Python is crucial for several reasons, primarily related to how dictionaries function internally.Immutability of dictionary keys is vital for ensuring the hashability and consistency of keys, which in turn guarantees the efficient performance and integrity of data in dictionaries.Immutable types like strings and tuples can serve as keys, while mutable types like lists or dictionaries themselves cannot.\n",
        "\n",
        "**Importance of Immutable Keys**\n",
        "\n",
        "**1. Hashing:**\n",
        "\n",
        "Dictionary keys must be hashable, which means they need to have a fixed hash value that does not change over their lifetime. This is essential for the underlying implementation of dictionaries, which uses hash tables for efficient key-value lookups.\n",
        "\n",
        "**2.Consistency:**\n",
        "\n",
        "If keys were mutable (like lists), changing the key after it’s added to a dictionary would alter its hash value. This could lead to inconsistencies and make it impossible to retrieve the value associated with that key.\n",
        "\n",
        "**3.Performance:**\n",
        "\n",
        "The ability to quickly find values based on keys is a significant advantage of dictionaries. Immutable keys ensure that the performance of dictionary operations (like lookup, insertion, and deletion) remains efficient.\n",
        "\n",
        "**4. Data Integrity:**\n",
        "\n",
        "By enforcing immutability, dictionaries help maintain data integrity. Once a key-value pair is established, the key remains unchanged, ensuring reliable data access.\n"
      ],
      "metadata": {
        "id": "Y7zI4UQ1Vy6-"
      }
    },
    {
      "cell_type": "code",
      "source": [
        "my_dict = {}\n",
        "my_key = (1, 2)  # A tuple (immutable)\n",
        "my_dict[my_key] = \"Value associated with (1, 2)\"\n",
        "\n",
        "print(my_dict[my_key])"
      ],
      "metadata": {
        "colab": {
          "base_uri": "https://localhost:8080/"
        },
        "id": "lnC4xhdAnwkd",
        "outputId": "09463b2c-24ae-4a02-ca53-a0906e5c5285"
      },
      "execution_count": null,
      "outputs": [
        {
          "output_type": "stream",
          "name": "stdout",
          "text": [
            "Value associated with (1, 2)\n"
          ]
        }
      ]
    },
    {
      "cell_type": "code",
      "source": [
        "point_dict = {(0, 0): \"Origin\", (1, 1): \"Point A\"}\n",
        "point_dict[0,0]"
      ],
      "metadata": {
        "colab": {
          "base_uri": "https://localhost:8080/",
          "height": 35
        },
        "id": "Nk34mVNyn4a-",
        "outputId": "3767e053-ca15-4ce4-d4a1-b68db07a5f4f"
      },
      "execution_count": null,
      "outputs": [
        {
          "output_type": "execute_result",
          "data": {
            "text/plain": [
              "'Origin'"
            ],
            "application/vnd.google.colaboratory.intrinsic+json": {
              "type": "string"
            }
          },
          "metadata": {},
          "execution_count": 12
        }
      ]
    }
  ]
}