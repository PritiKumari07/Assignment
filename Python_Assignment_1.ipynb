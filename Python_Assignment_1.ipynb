{
  "nbformat": 4,
  "nbformat_minor": 0,
  "metadata": {
    "colab": {
      "provenance": []
    },
    "kernelspec": {
      "name": "python3",
      "display_name": "Python 3"
    },
    "language_info": {
      "name": "python"
    }
  },
  "cells": [
    {
      "cell_type": "markdown",
      "source": [],
      "metadata": {
        "id": "F1BbFwCiChga"
      }
    },
    {
      "cell_type": "markdown",
      "source": [
        "**Q1. EXPLAIN THE KEY FEATURES OF PYTHON THAT MAKE IT A POPULAR CHOICE FOR PROGRAMMING.**\n",
        "\n",
        "Ans: Key features of Python are as follows:\n",
        "\n",
        "1.Cross-Platform Compatibility: Python runs on various operating systems, including Windows,MacOS, and Linux, which makes it a flexible choice for developers.\n",
        "\n",
        "2.Readability and Simplicity: Python's syntax is clear and intuitive, making it easier for beginners to learn and for experienced programmers to read and maintain code.\n",
        "\n",
        "3.Integration Capabilities: Python can easily integrate with other languages and technologies, making it a good choice for projects that involve multiple programming languages.\n",
        "\n",
        "4.High Demand in Industry: Python is widely used in various fields, including web development, data analysis, artificial intelligence, and automation, making skills in Python highly sought after in the job market.\n",
        "\n",
        "5.Extensive Standard Library: Python comes with a comprehensive standard library that provides modules and functions for a wide range of tasks, reducing the need for third-party libraries for common tasks.\n",
        "\n",
        "\n",
        "\n",
        "\n",
        "**Q2.DESCRIBE THE ROLE OF PREDEFINED KEYWORDS IN PYTHON AND PROVIDE EXAMPLES OF HOW THEY ARE USED IN A PROGRAM.**\n",
        "\n",
        "Ans: The predefined keywords in Python are fundamental to writing effective Python code, as they define how the program operates and how data flows within it.\n",
        "\n",
        "Here are some of the most commonly used keywords in Python:\n",
        "\n",
        "1.CONDITIONAL STATEMENTS\n",
        "\n",
        "*   if\n",
        "*   if else\n",
        "*   elif\n",
        "*   nested if else\n",
        "\n",
        "\n",
        "2.LOOP STATEMENTS\n",
        "\n",
        "*   for\n",
        "*   while\n",
        "\n",
        "\n",
        "3.CONTROL STATEMENTS\n",
        "\n",
        "*   break\n",
        "*   continue\n",
        "\n",
        "\n",
        "Examples:\n"
      ],
      "metadata": {
        "id": "cFtNUqCZCjIZ"
      }
    },
    {
      "cell_type": "code",
      "source": [
        "x=10\n",
        "if x>5:\n",
        "    print(\"x is greater than 5\")\n",
        "else:\n",
        "    print(\"x is 5 or less than 5\")"
      ],
      "metadata": {
        "colab": {
          "base_uri": "https://localhost:8080/"
        },
        "id": "kO5_YQmYETqr",
        "outputId": "f2f6ffb9-24aa-4e14-c982-bf26dc4f5972"
      },
      "execution_count": 1,
      "outputs": [
        {
          "output_type": "stream",
          "name": "stdout",
          "text": [
            "x is greater than 5\n"
          ]
        }
      ]
    },
    {
      "cell_type": "code",
      "source": [
        "for i in range(5):\n",
        "    print(i)"
      ],
      "metadata": {
        "colab": {
          "base_uri": "https://localhost:8080/"
        },
        "id": "EzgGChEwFEit",
        "outputId": "73b87428-c4ba-4a00-8b68-c1aaf4497518"
      },
      "execution_count": 2,
      "outputs": [
        {
          "output_type": "stream",
          "name": "stdout",
          "text": [
            "0\n",
            "1\n",
            "2\n",
            "3\n",
            "4\n"
          ]
        }
      ]
    },
    {
      "cell_type": "code",
      "source": [
        "n=5\n",
        "i=1\n",
        "while i<=n:\n",
        "    print(i)\n",
        "    i=(i+1)"
      ],
      "metadata": {
        "colab": {
          "base_uri": "https://localhost:8080/"
        },
        "id": "CwO9YFjHFIqw",
        "outputId": "f3ca663a-2ea2-4dfd-e029-aafd1d95e881"
      },
      "execution_count": 3,
      "outputs": [
        {
          "output_type": "stream",
          "name": "stdout",
          "text": [
            "1\n",
            "2\n",
            "3\n",
            "4\n",
            "5\n"
          ]
        }
      ]
    },
    {
      "cell_type": "code",
      "source": [
        "n=7\n",
        "i=1\n",
        "while i<n:\n",
        "    print(i)\n",
        "    i=(i+1)\n",
        "    if i==5:\n",
        "        break\n",
        "else:\n",
        "    print(\"Not Applicable\")"
      ],
      "metadata": {
        "colab": {
          "base_uri": "https://localhost:8080/"
        },
        "id": "_go2NV3VFNhk",
        "outputId": "8724cd1b-b130-433d-b1c4-909fbaee6ec7"
      },
      "execution_count": 4,
      "outputs": [
        {
          "output_type": "stream",
          "name": "stdout",
          "text": [
            "1\n",
            "2\n",
            "3\n",
            "4\n"
          ]
        }
      ]
    },
    {
      "cell_type": "markdown",
      "source": [
        "Q3.**COMPARE AND CONTRAST MUTABLE AND IMMUTABLE OBJECTS IN PYTHON WITH EXAMPLES**.\n",
        "\n",
        "Ans: In Python, objects are categorized as mutable or immutable based on whether their state can be changed after they are created. Here’s a comparison of the two, along with examples:\n",
        "\n",
        "**MUTABLE OBJECTS**\n",
        "\n",
        "It can be changed in place, meaning you can modify their contents without changing their identity.\n",
        "\n",
        "**Characteristics:**\n",
        "\n",
        "\n",
        "*   Can be altered after creation.\n",
        "*   Changes do not create a new object.\n",
        "\n",
        "\n",
        "Examples:\n",
        "\n",
        "*   Lists"
      ],
      "metadata": {
        "id": "NjO95FQbFdu1"
      }
    },
    {
      "cell_type": "code",
      "source": [
        "list_cont = [0,1, 2, 3, 4, 5,True,False]\n",
        "print(list_cont[5])\n",
        "list_cont[3]=\"Patty\"\n",
        "print(list_cont[3])"
      ],
      "metadata": {
        "colab": {
          "base_uri": "https://localhost:8080/"
        },
        "id": "qnxfordUGkC6",
        "outputId": "0ac126a5-5758-42d4-cc57-dd7a113c3662"
      },
      "execution_count": 5,
      "outputs": [
        {
          "output_type": "stream",
          "name": "stdout",
          "text": [
            "5\n",
            "Patty\n"
          ]
        }
      ]
    },
    {
      "cell_type": "code",
      "source": [
        "a=[1,2,3,4,5,6,7,8,9]\n",
        "a[4]=\"9999\"\n",
        "print(a)"
      ],
      "metadata": {
        "colab": {
          "base_uri": "https://localhost:8080/"
        },
        "id": "75Rn58zCGn0T",
        "outputId": "7ac70abb-1b2e-463e-fc2f-a21a449d2f21"
      },
      "execution_count": 6,
      "outputs": [
        {
          "output_type": "stream",
          "name": "stdout",
          "text": [
            "[1, 2, 3, 4, '9999', 6, 7, 8, 9]\n"
          ]
        }
      ]
    },
    {
      "cell_type": "markdown",
      "source": [
        "**IMMUTABLE OBJECT**\n",
        "\n",
        "\n",
        "*   It cannot be changed.\n",
        "*   New object is created upon modification.\n",
        "\n",
        "\n",
        "Examples:\n",
        "\n",
        "*   String\n",
        "*   Tuples\n",
        "\n",
        "\n",
        "\n",
        "**Q4.DISCUSS THE DIFFERENT TYPES OF OPERATORS IN PYTHON AND PROVIDE EXAMPLES OF HOW THEY ARE USED.**\n",
        "\n",
        "Ans: In Python, operators are special symbols that perform operations on variables and values. They can be classified into several categories:\n",
        "\n",
        "**Arithmetic Operators**\n",
        "* Addition Operator(+)  \n",
        "* Subtraction Operator(-)  \n",
        "* Multiplication Operator(*)  \n",
        "* Division Operator(/)\n",
        "* Modulus Operator(%)\n",
        "* Exponential Operator(**)\n",
        "* Floor Operator(//)\n",
        "\n",
        "Examples:"
      ],
      "metadata": {
        "id": "ZB0-1PRnGw_0"
      }
    },
    {
      "cell_type": "code",
      "source": [
        "a=7\n",
        "b=8\n",
        "b-a"
      ],
      "metadata": {
        "colab": {
          "base_uri": "https://localhost:8080/"
        },
        "id": "Iar-7QKcJSs6",
        "outputId": "55fc8db8-880a-4df0-a0e6-2f61f12431fd"
      },
      "execution_count": 7,
      "outputs": [
        {
          "output_type": "execute_result",
          "data": {
            "text/plain": [
              "1"
            ]
          },
          "metadata": {},
          "execution_count": 7
        }
      ]
    },
    {
      "cell_type": "code",
      "source": [
        "a=3\n",
        "b=9\n",
        "a+b"
      ],
      "metadata": {
        "colab": {
          "base_uri": "https://localhost:8080/"
        },
        "id": "Mt8fAf4jJWWI",
        "outputId": "3da155d8-7c72-4c8a-d92f-a2ad7f6f81b0"
      },
      "execution_count": 8,
      "outputs": [
        {
          "output_type": "execute_result",
          "data": {
            "text/plain": [
              "12"
            ]
          },
          "metadata": {},
          "execution_count": 8
        }
      ]
    },
    {
      "cell_type": "code",
      "source": [
        "a=6\n",
        "b=4\n",
        "a*b"
      ],
      "metadata": {
        "colab": {
          "base_uri": "https://localhost:8080/"
        },
        "id": "gKicRQDjJWuw",
        "outputId": "67192fa9-0342-4d74-c6d4-97df3b6440fe"
      },
      "execution_count": 9,
      "outputs": [
        {
          "output_type": "execute_result",
          "data": {
            "text/plain": [
              "24"
            ]
          },
          "metadata": {},
          "execution_count": 9
        }
      ]
    },
    {
      "cell_type": "code",
      "source": [
        "a=50\n",
        "b=5\n",
        "a/b"
      ],
      "metadata": {
        "colab": {
          "base_uri": "https://localhost:8080/"
        },
        "id": "ePiV6CkCJXMw",
        "outputId": "f183a176-b788-44ee-8315-2dd08f5bc3a6"
      },
      "execution_count": 10,
      "outputs": [
        {
          "output_type": "execute_result",
          "data": {
            "text/plain": [
              "10.0"
            ]
          },
          "metadata": {},
          "execution_count": 10
        }
      ]
    },
    {
      "cell_type": "code",
      "source": [
        "a=21\n",
        "b=4\n",
        "a%b"
      ],
      "metadata": {
        "colab": {
          "base_uri": "https://localhost:8080/"
        },
        "id": "ABaXEoDIJXfs",
        "outputId": "2bae42c0-d5fb-473b-e786-ad2ad7bd6e09"
      },
      "execution_count": 11,
      "outputs": [
        {
          "output_type": "execute_result",
          "data": {
            "text/plain": [
              "1"
            ]
          },
          "metadata": {},
          "execution_count": 11
        }
      ]
    },
    {
      "cell_type": "code",
      "source": [
        "a=7\n",
        "b=6\n",
        "a**b"
      ],
      "metadata": {
        "colab": {
          "base_uri": "https://localhost:8080/"
        },
        "id": "j5aeqcRnJjhA",
        "outputId": "8317d99f-b21b-4c5c-c6b2-23818cf6a4b2"
      },
      "execution_count": 12,
      "outputs": [
        {
          "output_type": "execute_result",
          "data": {
            "text/plain": [
              "117649"
            ]
          },
          "metadata": {},
          "execution_count": 12
        }
      ]
    },
    {
      "cell_type": "code",
      "source": [
        "a=4\n",
        "b=3\n",
        "a//b"
      ],
      "metadata": {
        "colab": {
          "base_uri": "https://localhost:8080/"
        },
        "id": "k4c263TxJjk_",
        "outputId": "f6010ef5-91b6-47da-ca8a-c07ecb2e18fd"
      },
      "execution_count": 13,
      "outputs": [
        {
          "output_type": "execute_result",
          "data": {
            "text/plain": [
              "1"
            ]
          },
          "metadata": {},
          "execution_count": 13
        }
      ]
    },
    {
      "cell_type": "markdown",
      "source": [
        "**Comparison Operators**\n",
        "\n",
        "These operators are used to compare two values and return a Boolean result.\n",
        "\n",
        "Examples:"
      ],
      "metadata": {
        "id": "tA8gdbWnJuYW"
      }
    },
    {
      "cell_type": "code",
      "source": [
        "2==2"
      ],
      "metadata": {
        "colab": {
          "base_uri": "https://localhost:8080/"
        },
        "id": "fI9xIBsmK-L2",
        "outputId": "149247af-927e-48a9-de95-56e8d12fabdd"
      },
      "execution_count": 14,
      "outputs": [
        {
          "output_type": "execute_result",
          "data": {
            "text/plain": [
              "True"
            ]
          },
          "metadata": {},
          "execution_count": 14
        }
      ]
    },
    {
      "cell_type": "code",
      "source": [
        "4!=2"
      ],
      "metadata": {
        "colab": {
          "base_uri": "https://localhost:8080/"
        },
        "id": "7nxA6ACjK_m7",
        "outputId": "9a0d1e64-e0b8-45b1-e57f-a959370fb899"
      },
      "execution_count": 15,
      "outputs": [
        {
          "output_type": "execute_result",
          "data": {
            "text/plain": [
              "True"
            ]
          },
          "metadata": {},
          "execution_count": 15
        }
      ]
    },
    {
      "cell_type": "code",
      "source": [
        "12>=5"
      ],
      "metadata": {
        "colab": {
          "base_uri": "https://localhost:8080/"
        },
        "id": "uKwNn01QLC7m",
        "outputId": "0023fe2b-e012-4bdd-d76d-904ebdb639b7"
      },
      "execution_count": 16,
      "outputs": [
        {
          "output_type": "execute_result",
          "data": {
            "text/plain": [
              "True"
            ]
          },
          "metadata": {},
          "execution_count": 16
        }
      ]
    },
    {
      "cell_type": "code",
      "source": [
        "32<=84784"
      ],
      "metadata": {
        "colab": {
          "base_uri": "https://localhost:8080/"
        },
        "id": "VrO53uizLGKT",
        "outputId": "9063984f-4916-4504-9568-3a6ec07e5536"
      },
      "execution_count": 17,
      "outputs": [
        {
          "output_type": "execute_result",
          "data": {
            "text/plain": [
              "True"
            ]
          },
          "metadata": {},
          "execution_count": 17
        }
      ]
    },
    {
      "cell_type": "markdown",
      "source": [
        "**Logical Operators**\n",
        "\n",
        "These operators are used to combine conditional statements.\n",
        "\n",
        "They are:\n",
        "\n",
        "*   AND\n",
        "*   OR\n",
        "*   NOT\n",
        "\n",
        "Examples:\n"
      ],
      "metadata": {
        "id": "zRmNAKvBLKvQ"
      }
    },
    {
      "cell_type": "code",
      "source": [
        "True and True"
      ],
      "metadata": {
        "colab": {
          "base_uri": "https://localhost:8080/"
        },
        "id": "FCK_nN1ULfPS",
        "outputId": "d48cfd3f-9bc6-47d1-b4f8-dc408c5240ef"
      },
      "execution_count": 18,
      "outputs": [
        {
          "output_type": "execute_result",
          "data": {
            "text/plain": [
              "True"
            ]
          },
          "metadata": {},
          "execution_count": 18
        }
      ]
    },
    {
      "cell_type": "code",
      "source": [
        "False or True"
      ],
      "metadata": {
        "colab": {
          "base_uri": "https://localhost:8080/"
        },
        "id": "WrkN1GvPLiHD",
        "outputId": "1e2db94a-581a-47f9-9ddc-0b357032c220"
      },
      "execution_count": 19,
      "outputs": [
        {
          "output_type": "execute_result",
          "data": {
            "text/plain": [
              "True"
            ]
          },
          "metadata": {},
          "execution_count": 19
        }
      ]
    },
    {
      "cell_type": "code",
      "source": [
        "not True"
      ],
      "metadata": {
        "colab": {
          "base_uri": "https://localhost:8080/"
        },
        "id": "qZDY-pZtLnJ-",
        "outputId": "0507f3c0-dfad-46cf-e1d5-b69bcabe12ee"
      },
      "execution_count": 20,
      "outputs": [
        {
          "output_type": "execute_result",
          "data": {
            "text/plain": [
              "False"
            ]
          },
          "metadata": {},
          "execution_count": 20
        }
      ]
    },
    {
      "cell_type": "code",
      "source": [
        "False and False"
      ],
      "metadata": {
        "colab": {
          "base_uri": "https://localhost:8080/"
        },
        "id": "tOMxz8DpLpMP",
        "outputId": "936d0a94-6143-4ee5-d5e1-24d064b217b8"
      },
      "execution_count": 21,
      "outputs": [
        {
          "output_type": "execute_result",
          "data": {
            "text/plain": [
              "False"
            ]
          },
          "metadata": {},
          "execution_count": 21
        }
      ]
    },
    {
      "cell_type": "code",
      "source": [
        "not False"
      ],
      "metadata": {
        "colab": {
          "base_uri": "https://localhost:8080/"
        },
        "id": "HsPpfzBuLvMm",
        "outputId": "81039e75-0cdb-4e40-ada5-78a0840645a8"
      },
      "execution_count": 22,
      "outputs": [
        {
          "output_type": "execute_result",
          "data": {
            "text/plain": [
              "True"
            ]
          },
          "metadata": {},
          "execution_count": 22
        }
      ]
    },
    {
      "cell_type": "markdown",
      "source": [
        "**Assignment Operators**\n",
        "\n",
        "These operators are used to assign values to variables.\n",
        "\n",
        "Examples:"
      ],
      "metadata": {
        "id": "ojHUZr2sL02_"
      }
    },
    {
      "cell_type": "code",
      "source": [
        "a=5\n",
        "a"
      ],
      "metadata": {
        "colab": {
          "base_uri": "https://localhost:8080/"
        },
        "id": "udbbuI7XL4cN",
        "outputId": "93779076-44ae-4027-8f20-46fb9a35fae2"
      },
      "execution_count": 25,
      "outputs": [
        {
          "output_type": "execute_result",
          "data": {
            "text/plain": [
              "5"
            ]
          },
          "metadata": {},
          "execution_count": 25
        }
      ]
    },
    {
      "cell_type": "code",
      "source": [
        "b=12\n",
        "b/=3\n",
        "b"
      ],
      "metadata": {
        "colab": {
          "base_uri": "https://localhost:8080/"
        },
        "id": "taKDb6qOL7X2",
        "outputId": "27ca5714-a83b-49dd-90ba-31b67935c656"
      },
      "execution_count": 24,
      "outputs": [
        {
          "output_type": "execute_result",
          "data": {
            "text/plain": [
              "4.0"
            ]
          },
          "metadata": {},
          "execution_count": 24
        }
      ]
    },
    {
      "cell_type": "code",
      "source": [
        "m=34\n",
        "m+=2\n",
        "m"
      ],
      "metadata": {
        "colab": {
          "base_uri": "https://localhost:8080/"
        },
        "id": "4PiYoLGoL7bn",
        "outputId": "50f86803-6958-49bf-8dc2-2d09f0b308ba"
      },
      "execution_count": 23,
      "outputs": [
        {
          "output_type": "execute_result",
          "data": {
            "text/plain": [
              "36"
            ]
          },
          "metadata": {},
          "execution_count": 23
        }
      ]
    },
    {
      "cell_type": "markdown",
      "source": [
        "**Bitwise Operators**\n",
        "\n",
        "These operators perform operations on binary representations of integers.\n",
        "\n",
        "\n",
        "*  Bitwise AND (&)\n",
        "*  Bitwise OR (|)\n",
        "*  Bitwise XOR (^)\n",
        "*  Bitwise NOT (~)\n",
        "*  Left Shift (<<)\n",
        "*  Right Shift (>>)\n",
        "\n",
        "Examples:\n"
      ],
      "metadata": {
        "id": "XzRUZcAmMEVT"
      }
    },
    {
      "cell_type": "code",
      "source": [
        "10&10"
      ],
      "metadata": {
        "colab": {
          "base_uri": "https://localhost:8080/"
        },
        "id": "wvpbrEn4MtfS",
        "outputId": "3aeb192a-65a2-4452-aef9-d4cde3a538d7"
      },
      "execution_count": 26,
      "outputs": [
        {
          "output_type": "execute_result",
          "data": {
            "text/plain": [
              "10"
            ]
          },
          "metadata": {},
          "execution_count": 26
        }
      ]
    },
    {
      "cell_type": "code",
      "source": [
        "20 | 3"
      ],
      "metadata": {
        "colab": {
          "base_uri": "https://localhost:8080/"
        },
        "id": "p4wWs7FnMxeq",
        "outputId": "f3a6a86e-f3a6-477d-9d48-8c0263706495"
      },
      "execution_count": 27,
      "outputs": [
        {
          "output_type": "execute_result",
          "data": {
            "text/plain": [
              "23"
            ]
          },
          "metadata": {},
          "execution_count": 27
        }
      ]
    },
    {
      "cell_type": "code",
      "source": [
        "35>>2"
      ],
      "metadata": {
        "colab": {
          "base_uri": "https://localhost:8080/"
        },
        "id": "oUrvYXmYM0xP",
        "outputId": "efd3503b-5e0a-4ff4-edb6-81a1ba2803d7"
      },
      "execution_count": 29,
      "outputs": [
        {
          "output_type": "execute_result",
          "data": {
            "text/plain": [
              "8"
            ]
          },
          "metadata": {},
          "execution_count": 29
        }
      ]
    },
    {
      "cell_type": "code",
      "source": [
        "23<<4"
      ],
      "metadata": {
        "colab": {
          "base_uri": "https://localhost:8080/"
        },
        "id": "PMPobLmXM0z0",
        "outputId": "a062f5df-e072-4d0f-f9b9-8a3d869a8d90"
      },
      "execution_count": 30,
      "outputs": [
        {
          "output_type": "execute_result",
          "data": {
            "text/plain": [
              "368"
            ]
          },
          "metadata": {},
          "execution_count": 30
        }
      ]
    },
    {
      "cell_type": "code",
      "source": [
        "3^6"
      ],
      "metadata": {
        "colab": {
          "base_uri": "https://localhost:8080/"
        },
        "id": "Jeu0X62sM02W",
        "outputId": "ffc7491e-f034-4926-a5f8-f64bdbcdf1be"
      },
      "execution_count": 28,
      "outputs": [
        {
          "output_type": "execute_result",
          "data": {
            "text/plain": [
              "5"
            ]
          },
          "metadata": {},
          "execution_count": 28
        }
      ]
    },
    {
      "cell_type": "markdown",
      "source": [
        "**Identity Operators**\n",
        "\n",
        "These operators are used to compare the memory locations of two objects.\n",
        "\n",
        "Example:\n"
      ],
      "metadata": {
        "id": "D3EBNx5jNCLp"
      }
    },
    {
      "cell_type": "code",
      "source": [
        "a=2\n",
        "b=4\n",
        "a is b"
      ],
      "metadata": {
        "colab": {
          "base_uri": "https://localhost:8080/"
        },
        "id": "PH_LvAuTNIUv",
        "outputId": "84390250-d02e-47fa-b525-2ec6076042ce"
      },
      "execution_count": 31,
      "outputs": [
        {
          "output_type": "execute_result",
          "data": {
            "text/plain": [
              "False"
            ]
          },
          "metadata": {},
          "execution_count": 31
        }
      ]
    },
    {
      "cell_type": "code",
      "source": [
        "a is not b"
      ],
      "metadata": {
        "colab": {
          "base_uri": "https://localhost:8080/"
        },
        "id": "HEgnYzorNJVe",
        "outputId": "ac94116a-1254-43bd-8e03-99b59ab78ece"
      },
      "execution_count": 32,
      "outputs": [
        {
          "output_type": "execute_result",
          "data": {
            "text/plain": [
              "True"
            ]
          },
          "metadata": {},
          "execution_count": 32
        }
      ]
    },
    {
      "cell_type": "code",
      "source": [
        "a=2\n",
        "b=a\n",
        "a is b"
      ],
      "metadata": {
        "colab": {
          "base_uri": "https://localhost:8080/"
        },
        "id": "cJt22SRLNJY-",
        "outputId": "aa31d659-47ac-4500-9ba1-3dc394482e35"
      },
      "execution_count": 33,
      "outputs": [
        {
          "output_type": "execute_result",
          "data": {
            "text/plain": [
              "True"
            ]
          },
          "metadata": {},
          "execution_count": 33
        }
      ]
    },
    {
      "cell_type": "markdown",
      "source": [
        "**Membership Operators**\n",
        "\n",
        "These operators are used to test for membership in sequences like strings, lists, or tuples.\n",
        "\n",
        "* IN\n",
        "* NOT IN\n",
        "\n",
        "Examples:"
      ],
      "metadata": {
        "id": "4V_Pw81VNWJn"
      }
    },
    {
      "cell_type": "code",
      "source": [
        "a=\"Patty\"\n",
        "\"t\" in a"
      ],
      "metadata": {
        "colab": {
          "base_uri": "https://localhost:8080/"
        },
        "id": "PlijP1Q7Njj_",
        "outputId": "1148628d-ccc0-42f0-b209-69003e19af4e"
      },
      "execution_count": 35,
      "outputs": [
        {
          "output_type": "execute_result",
          "data": {
            "text/plain": [
              "True"
            ]
          },
          "metadata": {},
          "execution_count": 35
        }
      ]
    },
    {
      "cell_type": "code",
      "source": [
        "b = [1, 2, 3]\n",
        "2 in b"
      ],
      "metadata": {
        "colab": {
          "base_uri": "https://localhost:8080/"
        },
        "id": "rQ3gLp8QNjtb",
        "outputId": "fcde443b-21a1-4981-e823-9f418b4b41e5"
      },
      "execution_count": 34,
      "outputs": [
        {
          "output_type": "execute_result",
          "data": {
            "text/plain": [
              "True"
            ]
          },
          "metadata": {},
          "execution_count": 34
        }
      ]
    },
    {
      "cell_type": "markdown",
      "source": [
        "**Q5.EXPLAIN THE CONCEPT OF TYPECASTING IN PYTHON WITH EXAMPLES.**\n",
        "\n",
        "Ans: Typecasting in Python refers to the conversion of one data type into another. Python has built-in functions to facilitate this, allowing to convert between types like integers, floats,strings, and more.\n",
        "\n",
        "Examples:"
      ],
      "metadata": {
        "id": "nAYElfYmNvIE"
      }
    },
    {
      "cell_type": "code",
      "source": [
        "a=3\n",
        "type(a)"
      ],
      "metadata": {
        "colab": {
          "base_uri": "https://localhost:8080/"
        },
        "id": "H6yR3ki8N_RK",
        "outputId": "4cf525da-aca0-4d73-cb4f-514f8aa7e66b"
      },
      "execution_count": 36,
      "outputs": [
        {
          "output_type": "execute_result",
          "data": {
            "text/plain": [
              "int"
            ]
          },
          "metadata": {},
          "execution_count": 36
        }
      ]
    },
    {
      "cell_type": "code",
      "source": [
        "float(a)"
      ],
      "metadata": {
        "colab": {
          "base_uri": "https://localhost:8080/"
        },
        "id": "RLQ-njRDOBlU",
        "outputId": "f069c093-ebb4-4b8c-9a09-fbdb54247a84"
      },
      "execution_count": 37,
      "outputs": [
        {
          "output_type": "execute_result",
          "data": {
            "text/plain": [
              "3.0"
            ]
          },
          "metadata": {},
          "execution_count": 37
        }
      ]
    },
    {
      "cell_type": "code",
      "source": [
        "str(a)"
      ],
      "metadata": {
        "colab": {
          "base_uri": "https://localhost:8080/",
          "height": 35
        },
        "id": "_C4WfZdtOBoZ",
        "outputId": "aeddad39-0235-4ebc-f40e-efdce10f401f"
      },
      "execution_count": 38,
      "outputs": [
        {
          "output_type": "execute_result",
          "data": {
            "text/plain": [
              "'3'"
            ],
            "application/vnd.google.colaboratory.intrinsic+json": {
              "type": "string"
            }
          },
          "metadata": {},
          "execution_count": 38
        }
      ]
    },
    {
      "cell_type": "code",
      "source": [
        "p=\"3.55\"\n",
        "print(type(p))\n",
        "float(p)"
      ],
      "metadata": {
        "colab": {
          "base_uri": "https://localhost:8080/"
        },
        "id": "YSjGmB9BOBsB",
        "outputId": "251cdca3-0f73-4d30-db5e-bc521b098295"
      },
      "execution_count": 39,
      "outputs": [
        {
          "output_type": "stream",
          "name": "stdout",
          "text": [
            "<class 'str'>\n"
          ]
        },
        {
          "output_type": "execute_result",
          "data": {
            "text/plain": [
              "3.55"
            ]
          },
          "metadata": {},
          "execution_count": 39
        }
      ]
    },
    {
      "cell_type": "markdown",
      "source": [
        "**Q6.HOW DO CONDITIONAL STATEMENTS WORK IN PYTHON?ILLUSTRATE WITH EXAMPLES.**\n",
        "\n",
        "\n",
        "Ans: Conditional statements in Python allow you to execute specific blocks of code based on certain conditions. The main conditional statements are if, elif (else if), and else.\n",
        "\n",
        "\n",
        "* if: Checks a condition and executes the block if it's true.\n",
        "* elif: Checks another condition if the previous if was false.\n",
        "* else: Executes if none of the previous conditions are true.\n",
        "\n",
        "Examples:"
      ],
      "metadata": {
        "id": "o20hdhUMOLYe"
      }
    },
    {
      "cell_type": "code",
      "source": [
        "age = 18\n",
        "\n",
        "if age >= 18:\n",
        "    print(\"You are an adult.\")"
      ],
      "metadata": {
        "colab": {
          "base_uri": "https://localhost:8080/"
        },
        "id": "3NLt1JZ8Oyj3",
        "outputId": "e5f9e247-e0e6-49b2-e4ab-714480ed367e"
      },
      "execution_count": 42,
      "outputs": [
        {
          "output_type": "stream",
          "name": "stdout",
          "text": [
            "You are an adult.\n"
          ]
        }
      ]
    },
    {
      "cell_type": "code",
      "source": [
        "age = 16\n",
        "\n",
        "if age >= 18:\n",
        "    print(\"You are an adult.\")\n",
        "else:\n",
        "    print(\"You are not an adult.\")"
      ],
      "metadata": {
        "colab": {
          "base_uri": "https://localhost:8080/"
        },
        "id": "jmRFnN1mOyqG",
        "outputId": "11990804-473a-4e94-a4d2-965ba86ea24d"
      },
      "execution_count": 40,
      "outputs": [
        {
          "output_type": "stream",
          "name": "stdout",
          "text": [
            "You are not an adult.\n"
          ]
        }
      ]
    },
    {
      "cell_type": "code",
      "source": [
        "score = 85\n",
        "\n",
        "if score >= 90:\n",
        "    print(\"Grade: A\")\n",
        "elif score >= 80:\n",
        "    print(\"Grade: B\")\n",
        "elif score >= 70:\n",
        "    print(\"Grade: C\")\n",
        "else:\n",
        "    print(\"Grade: F\")"
      ],
      "metadata": {
        "colab": {
          "base_uri": "https://localhost:8080/"
        },
        "id": "hIyrXjQ5OywG",
        "outputId": "a47acd03-41bc-4225-95cb-f31ae533b7c4"
      },
      "execution_count": 41,
      "outputs": [
        {
          "output_type": "stream",
          "name": "stdout",
          "text": [
            "Grade: B\n"
          ]
        }
      ]
    },
    {
      "cell_type": "markdown",
      "source": [
        "Q**7.DESCRIBE THE DIFFERENT TYPES OF LOOPS IN PYTHON AND THEIR USE CASES WITH EXAMPLES.**\n",
        "\n",
        "Ans: In Python, loops are used to execute a block of code repeatedly. The two primary types of loops are for loops and while loops.\n",
        "\n",
        "1. For Loop\n",
        "\n",
        "The for loop is used to iterate over a sequence (like a list, string, or range). It is useful when you know the number of iterations in advance.\n",
        "\n",
        "Example:"
      ],
      "metadata": {
        "id": "GDBo-V1tPCBU"
      }
    },
    {
      "cell_type": "code",
      "source": [
        "fruits = [\"apple\", \"banana\", \"cherry\"]\n",
        "\n",
        "for fruit in fruits:\n",
        "    print(fruit)"
      ],
      "metadata": {
        "colab": {
          "base_uri": "https://localhost:8080/"
        },
        "id": "M0aUurSnPUCL",
        "outputId": "6ca534c3-0930-4860-fb9a-de0c1dbac31c"
      },
      "execution_count": 43,
      "outputs": [
        {
          "output_type": "stream",
          "name": "stdout",
          "text": [
            "apple\n",
            "banana\n",
            "cherry\n"
          ]
        }
      ]
    },
    {
      "cell_type": "code",
      "source": [
        "for i in range(5):\n",
        "    print(i)"
      ],
      "metadata": {
        "colab": {
          "base_uri": "https://localhost:8080/"
        },
        "id": "Pb0RMMr4PZc8",
        "outputId": "a130d25b-5ff3-4998-9c6a-52ac16684848"
      },
      "execution_count": 44,
      "outputs": [
        {
          "output_type": "stream",
          "name": "stdout",
          "text": [
            "0\n",
            "1\n",
            "2\n",
            "3\n",
            "4\n"
          ]
        }
      ]
    },
    {
      "cell_type": "code",
      "source": [
        "for num in range(5):\n",
        "    if num == 2:\n",
        "        continue\n",
        "    print(num)"
      ],
      "metadata": {
        "colab": {
          "base_uri": "https://localhost:8080/"
        },
        "id": "vOjdj9V0PgeQ",
        "outputId": "f67b92d5-954a-481d-ffbf-2d9e5af207ab"
      },
      "execution_count": 45,
      "outputs": [
        {
          "output_type": "stream",
          "name": "stdout",
          "text": [
            "0\n",
            "1\n",
            "3\n",
            "4\n"
          ]
        }
      ]
    },
    {
      "cell_type": "markdown",
      "source": [
        "2.While Loop\n",
        "\n",
        "The while loop continues executing as long as a specified condition is True. It is useful when the number of iterations is not known beforehand and depends on dynamic conditions.\n",
        "\n",
        "Example:"
      ],
      "metadata": {
        "id": "dvADHKxsPhf8"
      }
    },
    {
      "cell_type": "code",
      "source": [
        "n=5\n",
        "i=1\n",
        "while i<=n:\n",
        "    print(i)\n",
        "    i=(i+1)"
      ],
      "metadata": {
        "colab": {
          "base_uri": "https://localhost:8080/"
        },
        "id": "ElKZDzMjPkQe",
        "outputId": "fde0482a-945b-4830-beed-a7a25928b1f9"
      },
      "execution_count": 46,
      "outputs": [
        {
          "output_type": "stream",
          "name": "stdout",
          "text": [
            "1\n",
            "2\n",
            "3\n",
            "4\n",
            "5\n"
          ]
        }
      ]
    }
  ]
}