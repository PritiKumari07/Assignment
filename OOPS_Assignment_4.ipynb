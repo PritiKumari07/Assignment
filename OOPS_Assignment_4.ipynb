{
  "nbformat": 4,
  "nbformat_minor": 0,
  "metadata": {
    "colab": {
      "provenance": []
    },
    "kernelspec": {
      "name": "python3",
      "display_name": "Python 3"
    },
    "language_info": {
      "name": "python"
    }
  },
  "cells": [
    {
      "cell_type": "markdown",
      "source": [
        "**Q1. WHAT ARE THE FIVE KEY CONCEPTS OF OBJECT ORIENTED PROGRAMMING?**\n",
        "\n",
        "**Ans:** The five key concepts of object-oriented programming (OOP) are:\n",
        "\n",
        "1. **Encapsulation:** This principle involves bundling the data (attributes) and methods (functions) that operate on the data into a single unit called an object. It restricts direct access to some of an object's components, which can help prevent unintended interference and misuse.\n",
        "\n",
        "2. **Abstraction:** Abstraction allows programmers to focus on the essential features of an object while hiding the complex implementation details. It simplifies complex systems by modeling classes based on the essential characteristics of the objects they represent.\n",
        "\n",
        "3. **Inheritance:** Inheritance is a mechanism by which one class (the child or subclass) can inherit attributes and methods from another class (the parent or superclass). This promotes code reuse and establishes a hierarchical relationship between classes.\n",
        "\n",
        "4. **Polymorphism:** Polymorphism enables a single interface to represent different underlying forms (data types). It allows methods to do different things based on the object it is acting upon, typically achieved through method overriding or overloading.\n",
        "\n",
        "5. **Classes and Objects:** At the core of OOP are classes (blueprints for creating objects) and objects (instances of classes). A class defines the properties and behaviors that its objects will have, while objects represent real-world entities.\n",
        "\n",
        "\n",
        "\n",
        "**Q2. WRITE A PYTHON CLASS FOR A 'CAR' WITH ATTRIBUTES FOR 'MAKEL', 'MODEL', 'YEAR'.INCLUDE A METHOD TO DISPLAY CAR'S INFORMATION.**\n"
      ],
      "metadata": {
        "id": "bqO4JD8QuVt9"
      }
    },
    {
      "cell_type": "code",
      "source": [
        "class Car:\n",
        "    def __init__(self, make, model, year):\n",
        "        self.make = make\n",
        "        self.model = model\n",
        "        self.year = year\n",
        "\n",
        "    def display_info(self):\n",
        "        print(f\"Car Make: {self.make}\")\n",
        "        print(f\"Car Model: {self.model}\")\n",
        "        print(f\"Car Year: {self.year}\")\n",
        "\n",
        "\n",
        "my_car = Car(\"Toyota\", \"Camry\", 2020)\n",
        "my_car.display_info()\n",
        "\n",
        "\n"
      ],
      "metadata": {
        "colab": {
          "base_uri": "https://localhost:8080/"
        },
        "id": "YJZIhFBdv1ZH",
        "outputId": "76127828-3af5-4f7f-d070-6922fad6a8f2"
      },
      "execution_count": null,
      "outputs": [
        {
          "output_type": "stream",
          "name": "stdout",
          "text": [
            "Car Make: Toyota\n",
            "Car Model: Camry\n",
            "Car Year: 2020\n"
          ]
        }
      ]
    },
    {
      "cell_type": "markdown",
      "source": [
        "**Q3. EXPLAIN THE DIFFERENCE BETWEEN INSTANCE METHODS,AND CLASS METHODS.PROVIDE AN EXAMPLE FOR EACH.**\n",
        "\n",
        "**Ans:** In Python, instance methods and class methods are two types of methods that serve different purposes and have different behaviors.\n",
        "\n",
        "**Instance Methods**\n",
        "\n",
        "Instance methods are functions defined within a class that operate on instances of that class. They take self as their first parameter, which refers to the instance of the class that is calling the method.\n",
        "\n",
        "Example:\n",
        "\n"
      ],
      "metadata": {
        "id": "iM8mylqQwWA0"
      }
    },
    {
      "cell_type": "code",
      "source": [
        "class Dog:\n",
        "    def __init__(self, name):\n",
        "        self.name = name\n",
        "\n",
        "    def bark(self):\n",
        "        return f\"{self.name} says Woof!\"\n",
        "\n",
        "\n",
        "my_dog = Dog(\"Buddy\")\n",
        "print(my_dog.bark())\n",
        "\n",
        "\n",
        "\n",
        "#In this example, bark is an instance method. It uses the self parameter to access the instance's name attribute.\n"
      ],
      "metadata": {
        "colab": {
          "base_uri": "https://localhost:8080/"
        },
        "id": "h0CM6XGPw78O",
        "outputId": "ef4ae3c4-60b4-4497-bf2f-8bed50b79870"
      },
      "execution_count": null,
      "outputs": [
        {
          "output_type": "stream",
          "name": "stdout",
          "text": [
            "Buddy says Woof!\n"
          ]
        }
      ]
    },
    {
      "cell_type": "markdown",
      "source": [
        "**Class Methods**\n",
        "\n",
        "Class methods are functions that are defined with the @classmethod decorator and take cls as their first parameter, which refers to the class itself rather than an instance. Class methods can be called on the class itself, not just on instances.\n",
        "\n",
        "Example:"
      ],
      "metadata": {
        "id": "eOD-_VohxF6-"
      }
    },
    {
      "cell_type": "code",
      "source": [
        "class Dog:\n",
        "    species = \"Canis familiaris\"  # Class attribute\n",
        "\n",
        "    def __init__(self, name):\n",
        "        self.name = name\n",
        "\n",
        "    @classmethod\n",
        "    def get_species(cls):\n",
        "        return cls.species\n",
        "\n",
        "\n",
        "print(Dog.get_species())\n",
        "\n",
        "\n",
        "#In this example, get_species is a class method. It uses the cls parameter to access the class attribute species. This method can be called directly on the class without needing an instance.\n",
        "\n"
      ],
      "metadata": {
        "colab": {
          "base_uri": "https://localhost:8080/"
        },
        "id": "W7ls-BaTxdXJ",
        "outputId": "e14f3bfe-e74e-423f-f4c6-3abfc2d59f7d"
      },
      "execution_count": null,
      "outputs": [
        {
          "output_type": "stream",
          "name": "stdout",
          "text": [
            "Canis familiaris\n"
          ]
        }
      ]
    },
    {
      "cell_type": "markdown",
      "source": [
        "**Q4. HOW DOES PYTHON IMPLEMENT METHOD OVERLOADING? GIVE AN EXAMPLE.**\n",
        "\n",
        "**Ans:** Python does not support method overloading in the traditional sense, as seen in languages like Java or C++. Instead, Python allows only one method with a given name within a class. However, you can achieve similar functionality using default arguments, variable-length arguments, or by checking the types of the arguments within a single method.\n",
        "\n",
        "Example Using Default Arguments:"
      ],
      "metadata": {
        "id": "e_y5VwPixogt"
      }
    },
    {
      "cell_type": "code",
      "source": [
        "class Calculator:\n",
        "    def add(self, a, b=0, c=0):\n",
        "        return a + b + c\n",
        "\n",
        "\n",
        "calc = Calculator()\n",
        "print(calc.add(5))\n",
        "print(calc.add(5, 10))\n",
        "print(calc.add(5, 10, 15))\n",
        "\n",
        "\n",
        "#In this example, the add method can accept one, two, or three arguments. The default values for b and c allow for flexibility in the number of inputs.\n",
        "\n",
        "\n"
      ],
      "metadata": {
        "colab": {
          "base_uri": "https://localhost:8080/"
        },
        "id": "u6zKxo8tyPnO",
        "outputId": "4ed04caa-99c5-4f00-87a5-2f5cf3095cb7"
      },
      "execution_count": null,
      "outputs": [
        {
          "output_type": "stream",
          "name": "stdout",
          "text": [
            "5\n",
            "15\n",
            "30\n"
          ]
        }
      ]
    },
    {
      "cell_type": "markdown",
      "source": [
        "Example Using Variable-Length Arguments"
      ],
      "metadata": {
        "id": "n91sLfXyym_b"
      }
    },
    {
      "cell_type": "code",
      "source": [
        "class Concatenator:\n",
        "    def concatenate(self, *args):\n",
        "        return ' '.join(args)\n",
        "\n",
        "\n",
        "concat = Concatenator()\n",
        "print(concat.concatenate(\"Hello\"))\n",
        "print(concat.concatenate(\"Hello\", \"world!\"))\n",
        "print(concat.concatenate(\"Python\", \"is\", \"awesome!\"))\n",
        "\n",
        "\n",
        "#Here, the concatenate method can take any number of string arguments, allowing it to handle multiple inputs in a single method.\n"
      ],
      "metadata": {
        "colab": {
          "base_uri": "https://localhost:8080/"
        },
        "id": "3qleNmohypUK",
        "outputId": "60a0608b-8cb2-40fe-90d5-bbd5d88d9562"
      },
      "execution_count": null,
      "outputs": [
        {
          "output_type": "stream",
          "name": "stdout",
          "text": [
            "Hello\n",
            "Hello world!\n",
            "Python is awesome!\n"
          ]
        }
      ]
    },
    {
      "cell_type": "markdown",
      "source": [
        "**Q5. WHAT ARE THE THREE TYPES OF ACCESS MODIFIERS IN PYTHON? HOW ARE THEY DENOTED?**\n",
        "\n",
        "**Ans:** In Python, there are three main types of access modifiers that control the visibility of class members (attributes and methods):\n",
        "\n",
        "1. **Public**:\n",
        "\n",
        "   **Denotation**: No special prefix.\n",
        "\n",
        "   **Example**: 'self.attribute'\n",
        "\n",
        "   **Access**: Members are accessible from outside the class.\n",
        "\n",
        "2. **Protected**:\n",
        "\n",
        "   **Denotation**: A single underscore prefix ('_').\n",
        "\n",
        "   **Example**: 'self._attribute'\n",
        "\n",
        "   **Access**: Intended for internal use within the class and its subclasses. It can still be accessed from outside but is a convention to indicate that it should be treated as a non-public part of the API.\n",
        "\n",
        "3. **Private**:\n",
        "\n",
        "   **Denotation**: A double underscore prefix ('__').\n",
        "\n",
        "   **Example**: 'self.__attribute'\n",
        "   \n",
        "   **Access**: Members are not accessible from outside the class. This is achieved through name mangling, where the interpreter changes the name of the attribute to include the class name.\n",
        "\n",
        "These modifiers help manage the encapsulation and organization of code within classes."
      ],
      "metadata": {
        "id": "zTomj4kZy0J5"
      }
    },
    {
      "cell_type": "markdown",
      "source": [
        "**Q6. DESCRIBE THE FIVE TYPES OF INHERITENCE IN PYTHON.PROVIDE A SIMPLE EXAMPLE OF MULTIPLE INHERITANCE.**\n",
        "\n",
        "**Ans:** In Python, there are five main types of inheritance:\n",
        "\n",
        "**1. Single Inheritance:**\n",
        "\n",
        "A class inherits from one parent class.\n",
        "\n",
        "Example:"
      ],
      "metadata": {
        "id": "Nd27B40Fxwlt"
      }
    },
    {
      "cell_type": "code",
      "source": [
        "class Parent:\n",
        "    def display(self):\n",
        "        print(\"This is the parent class.\")\n",
        "\n",
        "class Child(Parent):\n",
        "    pass\n",
        "\n",
        "c = Child()\n",
        "c.display()\n"
      ],
      "metadata": {
        "colab": {
          "base_uri": "https://localhost:8080/"
        },
        "id": "QC4adZSiziZQ",
        "outputId": "e04ca215-34e2-4963-ab17-74d9bd9c7923"
      },
      "execution_count": null,
      "outputs": [
        {
          "output_type": "stream",
          "name": "stdout",
          "text": [
            "This is the parent class.\n"
          ]
        }
      ]
    },
    {
      "cell_type": "markdown",
      "source": [
        "**2. Multiple Inheritance:**\n",
        "\n",
        "A class inherits from more than one parent class.\n",
        "\n",
        "Example:\n"
      ],
      "metadata": {
        "id": "N5Fpg7F7z0Nm"
      }
    },
    {
      "cell_type": "code",
      "source": [
        "class ClassA:\n",
        "    def method_a(self):\n",
        "        print(\"Method from Class A\")\n",
        "\n",
        "class ClassB:\n",
        "    def method_b(self):\n",
        "        print(\"Method from Class B\")\n",
        "\n",
        "class Child(ClassA, ClassB):\n",
        "    pass\n",
        "\n",
        "c = Child()\n",
        "c.method_a()\n",
        "c.method_b()\n"
      ],
      "metadata": {
        "colab": {
          "base_uri": "https://localhost:8080/"
        },
        "id": "aUYoWef60Hg2",
        "outputId": "a014d673-fb0b-49c1-d0e0-6f00a6b6d6a8"
      },
      "execution_count": null,
      "outputs": [
        {
          "output_type": "stream",
          "name": "stdout",
          "text": [
            "Method from Class A\n",
            "Method from Class B\n"
          ]
        }
      ]
    },
    {
      "cell_type": "markdown",
      "source": [
        "**3. Multilevel Inheritance:**\n",
        "\n",
        "A class inherits from a parent class, which is also a child of another class.\n",
        "\n",
        "Example:"
      ],
      "metadata": {
        "id": "tmaYUJ7G0OQC"
      }
    },
    {
      "cell_type": "code",
      "source": [
        "class Grandparent:\n",
        "    def display(self):\n",
        "        print(\"This is the grandparent class.\")\n",
        "\n",
        "class Parent(Grandparent):\n",
        "    def show(self):\n",
        "        print(\"This is the parent class.\")\n",
        "\n",
        "class Child(Parent):\n",
        "    pass\n",
        "\n",
        "c = Child()\n",
        "c.display()\n",
        "c.show()"
      ],
      "metadata": {
        "colab": {
          "base_uri": "https://localhost:8080/"
        },
        "id": "34k-pxkW0XEg",
        "outputId": "ee4175e2-93e6-495d-d0b1-25ff38294e4e"
      },
      "execution_count": null,
      "outputs": [
        {
          "output_type": "stream",
          "name": "stdout",
          "text": [
            "This is the grandparent class.\n",
            "This is the parent class.\n"
          ]
        }
      ]
    },
    {
      "cell_type": "markdown",
      "source": [
        "**4. Hierarchical Inheritance:**\n",
        "\n",
        "Multiple classes inherit from a single parent class.\n",
        "\n",
        "Example:\n"
      ],
      "metadata": {
        "id": "2INGbDtz0ogH"
      }
    },
    {
      "cell_type": "code",
      "source": [
        "class Parent:\n",
        "    def display(self):\n",
        "        print(\"This is the parent class.\")\n",
        "\n",
        "class Child1(Parent):\n",
        "    pass\n",
        "\n",
        "class Child2(Parent):\n",
        "    pass\n",
        "\n",
        "c1 = Child1()\n",
        "c2 = Child2()\n",
        "c1.display()\n",
        "c2.display()\n"
      ],
      "metadata": {
        "colab": {
          "base_uri": "https://localhost:8080/"
        },
        "id": "rp4WZcl80y7C",
        "outputId": "f33c38e8-8513-4c02-f49f-5435228c9e77"
      },
      "execution_count": null,
      "outputs": [
        {
          "output_type": "stream",
          "name": "stdout",
          "text": [
            "This is the parent class.\n",
            "This is the parent class.\n"
          ]
        }
      ]
    },
    {
      "cell_type": "markdown",
      "source": [
        "**5. Hybrid Inheritance:**\n",
        "\n",
        "A combination of two or more types of inheritance.\n",
        "\n",
        "Example: (combining multiple and multilevel inheritance)"
      ],
      "metadata": {
        "id": "8qTfmKGX05-H"
      }
    },
    {
      "cell_type": "code",
      "source": [
        "class Base:\n",
        "    pass\n",
        "\n",
        "class Derived1(Base):\n",
        "    pass\n",
        "\n",
        "class Derived2(Base):\n",
        "    pass\n",
        "\n",
        "class Child(Derived1, Derived2):\n",
        "    pass\n",
        "\n",
        "c = Child()\n"
      ],
      "metadata": {
        "id": "ASV5fHyX1AEi"
      },
      "execution_count": null,
      "outputs": []
    },
    {
      "cell_type": "markdown",
      "source": [
        "**Q7. WHAT IS THE METHOD RESOLUTION ORDER (MRO) IN PYTHON? HOW CAN YOU RETRIEVE IT PROGRAMMATICALLY?**\n",
        "\n",
        "**Ans:** The Method Resolution Order (MRO) in Python determines the order in which base classes are searched when executing a method. It is particularly important in the context of multiple inheritance, where a class can inherit from more than one parent class. The MRO ensures that the correct method is called in a consistent and predictable manner.\n",
        "\n",
        "**MRO Rules:**\n",
        "\n",
        "**1. C3 Linearization:** Python uses the C3 linearization algorithm to create a linear order of classes, ensuring that a class appears before its parents and that the order respects the inheritance hierarchy.\n",
        "\n",
        "**2.Depth-First Search:**  MRO follows a depth-first approach to search for methods, prioritizing the leftmost class in the inheritance hierarchy.\n",
        "\n",
        "**Retrieving MRO Programmatically:**\n",
        "\n",
        "You can retrieve the MRO of a class using the mro() method or the __mro__ attribute.\n",
        "\n",
        "Example:"
      ],
      "metadata": {
        "id": "tH4e_NXK1J2k"
      }
    },
    {
      "cell_type": "code",
      "source": [
        "class A:\n",
        "    pass\n",
        "\n",
        "class B(A):\n",
        "    pass\n",
        "\n",
        "class C(A):\n",
        "    pass\n",
        "\n",
        "class D(B, C):\n",
        "    pass\n",
        "\n",
        "\n",
        "print(D.mro())           #In this example, the MRO for class D shows the order in which Python will look for methods: first in D, then in B, followed by C, and finally in A and object. This order helps resolve potential conflicts in method resolution when dealing with multiple inheritance.\n",
        "print(D.__mro__)"
      ],
      "metadata": {
        "colab": {
          "base_uri": "https://localhost:8080/"
        },
        "id": "17gqkH_o2_TX",
        "outputId": "5480bf18-436d-4fc7-e385-594251a6284d"
      },
      "execution_count": null,
      "outputs": [
        {
          "output_type": "stream",
          "name": "stdout",
          "text": [
            "[<class '__main__.D'>, <class '__main__.B'>, <class '__main__.C'>, <class '__main__.A'>, <class 'object'>]\n",
            "(<class '__main__.D'>, <class '__main__.B'>, <class '__main__.C'>, <class '__main__.A'>, <class 'object'>)\n"
          ]
        }
      ]
    },
    {
      "cell_type": "markdown",
      "source": [
        "**Q8. CREATE AN ABSTRACT BASE CLASS 'SHAPE' WITH AN ABSTRACT METHOD 'AREA()' .THEN CREATE TWO SUBCLASSES 'CIRCLE' AND 'RECTANGLE' THAT IMPLEMENT THE 'AREA()' METHOD.**\n",
        "\n",
        "**Ans:** You can create an abstract base class in Python using the abc module. Here's how to define an abstract base class Shape with an abstract method area(), and then create subclasses Circle and Rectangle that implement the area() method.\n",
        "\n",
        "**Example Code:**\n",
        "\n",
        "\n"
      ],
      "metadata": {
        "id": "b5qIuAq_3jzb"
      }
    },
    {
      "cell_type": "code",
      "source": [
        "from abc import ABC, abstractmethod\n",
        "import math\n",
        "\n",
        "# Abstract Base Class\n",
        "class Shape(ABC):\n",
        "    @abstractmethod\n",
        "    def area(self):\n",
        "        pass\n",
        "\n",
        "# Subclass for Circle\n",
        "class Circle(Shape):\n",
        "    def __init__(self, radius):\n",
        "        self.radius = radius\n",
        "\n",
        "    def area(self):\n",
        "        return math.pi * (self.radius ** 2)\n",
        "\n",
        "# Subclass for Rectangle\n",
        "\n",
        "class Rectangle(Shape):\n",
        "    def __init__(self, width, height):\n",
        "        self.width = width\n",
        "        self.height = height\n",
        "\n",
        "    def area(self):\n",
        "        return self.width * self.height\n",
        "\n",
        "\n",
        "circle = Circle(5)\n",
        "rectangle = Rectangle(4, 6)\n",
        "\n",
        "print(f\"Area of Circle: {circle.area():.2f}\")\n",
        "print(f\"Area of Rectangle: {rectangle.area():.2f}\")\n"
      ],
      "metadata": {
        "colab": {
          "base_uri": "https://localhost:8080/"
        },
        "id": "T0jbkO7Z-dEj",
        "outputId": "c07beeaa-3d4b-4397-e8d6-4f3c4649e3a2"
      },
      "execution_count": null,
      "outputs": [
        {
          "output_type": "stream",
          "name": "stdout",
          "text": [
            "Area of Circle: 78.54\n",
            "Area of Rectangle: 24.00\n"
          ]
        }
      ]
    },
    {
      "cell_type": "markdown",
      "source": [
        "**Explanation:**\n",
        "\n",
        "**Shape Class:** This is the abstract base class that defines the area() method as abstract, meaning any subclass must implement this method.\n",
        "\n",
        "**Circle Class:**This subclass implements the area() method, calculating the area of a circle.\n",
        "\n",
        "**Rectangle Class**: This subclass also implements the area() method, calculating the area using the formula :\n",
        "\n",
        "width×height.\n",
        "\n",
        "The example usage creates instances of Circle and Rectangle, and calls their area() methods to print the calculated areas."
      ],
      "metadata": {
        "id": "wXMQMA7w-oUQ"
      }
    },
    {
      "cell_type": "markdown",
      "source": [
        "**Q9. DEMONSTRATE POLYMORPHISM BY CREATING A FUCTION THAT CAN WORK DIFFERENT SHAPE OBJECTS TO CALCULATE AND PRINTS THEIR AREAS.**\n",
        "\n",
        "**Ans:** Polymorphism allows different classes to be treated as instances of the same class through a common interface. In the context of the Shape class with subclasses Circle and Rectangle, we can create a function that accepts any shape object and calculates its area.\n",
        "\n",
        "**Example Code:**"
      ],
      "metadata": {
        "id": "5tvu05e__Uvs"
      }
    },
    {
      "cell_type": "code",
      "source": [
        "from abc import ABC, abstractmethod\n",
        "import math\n",
        "\n",
        "# Abstract Base Class\n",
        "class Shape(ABC):\n",
        "    @abstractmethod\n",
        "    def area(self):\n",
        "        pass\n",
        "\n",
        "# Subclass for Circle\n",
        "class Circle(Shape):\n",
        "    def __init__(self, radius):\n",
        "        self.radius = radius\n",
        "\n",
        "    def area(self):\n",
        "        return math.pi * (self.radius ** 2)\n",
        "\n",
        "# Subclass for Rectangle\n",
        "class Rectangle(Shape):\n",
        "    def __init__(self, width, height):\n",
        "        self.width = width\n",
        "        self.height = height\n",
        "\n",
        "    def area(self):\n",
        "        return self.width * self.height\n",
        "\n",
        "# Function to calculate and print area\n",
        "def print_area(shape):\n",
        "    print(f\"Area: {shape.area():.2f}\")\n",
        "\n",
        "# Example usage\n",
        "circle = Circle(5)\n",
        "rectangle = Rectangle(4, 6)\n",
        "\n",
        "print_area(circle)\n",
        "print_area(rectangle)\n"
      ],
      "metadata": {
        "colab": {
          "base_uri": "https://localhost:8080/"
        },
        "id": "KX9-Px_rEUQ3",
        "outputId": "3b67147f-388f-4389-c1ab-a733b5f13c5a"
      },
      "execution_count": null,
      "outputs": [
        {
          "output_type": "stream",
          "name": "stdout",
          "text": [
            "Area: 78.54\n",
            "Area: 24.00\n"
          ]
        }
      ]
    },
    {
      "cell_type": "markdown",
      "source": [
        "**Explanation:**\n",
        "\n",
        "**Polymorphic Function (print_area):** This function takes an object of type Shape (or any subclass thereof) and calls the area() method. Because both Circle and Rectangle implement the area() method, the correct version is called based on the object passed in.\n",
        "\n",
        "**Example Usage:** The print_area function is called with instances of Circle and Rectangle, demonstrating polymorphism. Each call correctly computes and prints the area for the respective shape.\n",
        "\n",
        "\n",
        "This design showcases how polymorphism allows the same function to operate on different types of objects seamlessly."
      ],
      "metadata": {
        "id": "N9TdAVp2EfzU"
      }
    },
    {
      "cell_type": "markdown",
      "source": [
        "**Q10. IMPLEMENT ENCAPSULATION IN A 'BANKACCOUNT' CLASS WITH PRIVATE ATTRIBUTES 'BALANCE' AND 'ACCOUNT_NUMBER'.INCLUDE METHODS FOR DEPOSIT,WITHDRAWAL AND BALANCE INQUIRY.**"
      ],
      "metadata": {
        "id": "Dpsl85dfEqmq"
      }
    },
    {
      "cell_type": "code",
      "source": [
        "class BankAccount:\n",
        "    def __init__(self, account_number, initial_balance=0.0):\n",
        "        self.__account_number = account_number  # Private attribute\n",
        "        self.__balance = initial_balance          # Private attribute\n",
        "\n",
        "    def deposit(self, amount):\n",
        "        if amount > 0:\n",
        "            self.__balance += amount\n",
        "            print(f\"Deposited: ${amount:.2f}\")\n",
        "        else:\n",
        "            print(\"Deposit amount must be positive.\")\n",
        "\n",
        "    def withdraw(self, amount):\n",
        "        if 0 < amount <= self.__balance:\n",
        "            self.__balance -= amount\n",
        "            print(f\"Withdrew: ${amount:.2f}\")\n",
        "        else:\n",
        "            print(\"Withdrawal amount must be positive and cannot exceed the balance.\")\n",
        "\n",
        "    def balance_inquiry(self):\n",
        "        print(f\"Account Number: {self.__account_number}, Balance: ${self.__balance:.2f}\")\n",
        "\n",
        "# Example usage\n",
        "account = BankAccount(\"123456789\", 100.0)\n",
        "\n",
        "account.balance_inquiry()\n",
        "account.deposit(50.0)\n",
        "account.withdraw(30.0)\n",
        "account.balance_inquiry()\n",
        "\n",
        "account.withdraw(200.0)"
      ],
      "metadata": {
        "colab": {
          "base_uri": "https://localhost:8080/"
        },
        "id": "vf_nyNf-Fhuk",
        "outputId": "dab5f5e3-b886-4f0a-e79a-cb940c6abede"
      },
      "execution_count": null,
      "outputs": [
        {
          "output_type": "stream",
          "name": "stdout",
          "text": [
            "Account Number: 123456789, Balance: $100.00\n",
            "Deposited: $50.00\n",
            "Withdrew: $30.00\n",
            "Account Number: 123456789, Balance: $120.00\n",
            "Withdrawal amount must be positive and cannot exceed the balance.\n"
          ]
        }
      ]
    },
    {
      "cell_type": "markdown",
      "source": [
        "**Q11. WRITE A CLASS THAT OVERRIDES THE '__STR__' AND '__AND__' MAGIC METHODS . WHAT WILL THESE METHODS ALLOW YOU TO DO?**\n",
        "\n",
        "**Ans:** In Python, the __str__ and __and__ magic methods allow you to customize the string representation of an object and define behavior for the & (bitwise AND) operator, respectively.\n",
        "\n",
        "**Example Class**\n",
        "\n",
        "Here's a class called CustomNumber that overrides both the '__str__' and '__and__' magic methods:"
      ],
      "metadata": {
        "id": "CfoCnYyAF5Hi"
      }
    },
    {
      "cell_type": "code",
      "source": [
        "class CustomNumber:\n",
        "    def __init__(self, value):\n",
        "        self.value = value\n",
        "\n",
        "    def __str__(self):\n",
        "        return f\"CustomNumber(value={self.value})\"\n",
        "\n",
        "    def __and__(self, other):\n",
        "        if isinstance(other, CustomNumber):\n",
        "            return CustomNumber(self.value & other.value)\n",
        "        return NotImplemented\n",
        "\n",
        "# Example usage\n",
        "num1 = CustomNumber(5)  # Binary: 0101\n",
        "num2 = CustomNumber(3)  # Binary: 0011\n",
        "\n",
        "print(num1)\n",
        "print(num2)\n",
        "\n",
        "result = num1 & num2\n",
        "print(result)\n"
      ],
      "metadata": {
        "colab": {
          "base_uri": "https://localhost:8080/"
        },
        "id": "daJavLDAG8vh",
        "outputId": "ffd0075e-594c-43b6-ad35-087ac8de4b84"
      },
      "execution_count": null,
      "outputs": [
        {
          "output_type": "stream",
          "name": "stdout",
          "text": [
            "CustomNumber(value=5)\n",
            "CustomNumber(value=3)\n",
            "CustomNumber(value=1)\n"
          ]
        }
      ]
    },
    {
      "cell_type": "markdown",
      "source": [
        "**Explanation:**\n",
        "\n",
        "**__str__ Method:**\n",
        "\n",
        "\n",
        "*  This method is called when you use the print() function or str() on an object of CustomNumber. It returns a string that represents the object, allowing for a more informative output.\n",
        "\n",
        "* In this example, calling print(num1) outputs CustomNumber(value=5) instead of the default representation.   \n",
        "\n",
        "\n",
        "**__and__ Method:**\n",
        "\n",
        "*   This method is invoked when the & operator is used between two instances of CustomNumber. It defines how the bitwise AND operation behaves for the class.\n",
        "\n",
        "*  If the other object is also an instance of CustomNumber, it returns a new CustomNumber instance containing the result of the bitwise AND of the two values. If other is not an instance of CustomNumber, it returns NotImplemented, allowing Python to handle the situation appropriately.\n",
        "\n",
        "\n",
        "**What These Methods Allow You to Do:**\n",
        "\n",
        "**String Representation:** The __str__ method allows you to control how your tring Representation:objects are represented as strings, making it easier to debug and understand the data contained within the object.\n",
        "\n",
        "**Operator Overloading:** The __and__ method allows you to define custom behavior for the & operator, enabling intuitive usage of your class in arithmetic or logical expressions, thereby enhancing the usability of your objects."
      ],
      "metadata": {
        "id": "uNx19FnJHHKg"
      }
    },
    {
      "cell_type": "markdown",
      "source": [
        "**Q12. CREATE A DECORATOR THAT MEASURES AND PRINT THE EXECUTION TIME OF A FUNCTION.**\n"
      ],
      "metadata": {
        "id": "rO8kLYPoJ6Bx"
      }
    },
    {
      "cell_type": "code",
      "source": [
        "import time\n",
        "from functools import wraps\n",
        "\n",
        "def execution_time_decorator(func):\n",
        "    @wraps(func)\n",
        "    def wrapper(*args, **kwargs):\n",
        "        start_time = time.time()\n",
        "        result = func(*args, **kwargs)\n",
        "        end_time = time.time()\n",
        "        execution_time = end_time - start_time\n",
        "        print(f\"Execution time of {func.__name__}: {execution_time:.4f} seconds\")\n",
        "        return result\n",
        "    return wrapper\n",
        "\n",
        "# Example usage\n",
        "@execution_time_decorator\n",
        "def sample_function():\n",
        "    time.sleep(2)\n",
        "sample_function()\n"
      ],
      "metadata": {
        "colab": {
          "base_uri": "https://localhost:8080/"
        },
        "id": "j4ttre6NgLDx",
        "outputId": "cc5fde50-47ee-40ed-b84a-2a466c37f4e9"
      },
      "execution_count": null,
      "outputs": [
        {
          "output_type": "stream",
          "name": "stdout",
          "text": [
            "Execution time of sample_function: 2.0021 seconds\n"
          ]
        }
      ]
    },
    {
      "cell_type": "markdown",
      "source": [
        "**Q13. EXPLAIN THE CONCEPT OF THE DIAMOND PROBLEM IN MULTIPLE INHERITANCE.HOW DOES PYTHON RESOLVE IT**?\n",
        "\n",
        "**Ans:** The diamond problem is a common issue in multiple inheritance scenarios, particularly in object-oriented programming languages. It arises when a class inherits from two classes that both inherit from a common base class. This can lead to ambiguity about which version of a method or property should be used.\n",
        "\n",
        "**RESOLUTION OF DIAMOND PROBLEM**\n",
        "\n",
        "Python uses a method resolution order (MRO) to resolve these ambiguities. The MRO defines the order in which base classes are looked up when searching for a method. Python uses the C3 linearization algorithm (also known as C3 superclass linearization) to establish this order.\n",
        "\n",
        "Here's how it works:\n",
        "\n",
        "**Linearization:** The MRO for a class is determined by a linearization process that combines the order of the base classes.\n",
        "\n",
        "**Depth-First Search:** Python follows a depth-first search approach, but it ensures that the base classes are only considered once and maintains the left-to-right order of classes."
      ],
      "metadata": {
        "id": "1Wxy38OYgkSB"
      }
    },
    {
      "cell_type": "markdown",
      "source": [
        "**Q14. WRITE A CLASS METHOD THAT KEEP TRACKS OF THE NUMBER OF INSTANCES CREATED FROM A CLASS.**\n",
        "\n",
        "Ans: To create a class method that tracks the number of instances created from a class, you can use a class variable to count the instances. Here's a simple implementation in Python:"
      ],
      "metadata": {
        "id": "N5fnX8R_Bzsj"
      }
    },
    {
      "cell_type": "code",
      "source": [
        "class InstanceCounter:\n",
        "    # Class variable to keep track of the number of instances\n",
        "    instance_count = 0\n",
        "\n",
        "    def __init__(self):\n",
        "        # Increment the count each time an instance is created\n",
        "        InstanceCounter.instance_count += 1\n",
        "\n",
        "    @classmethod\n",
        "    def get_instance_count(cls):\n",
        "        # Class method to return the current instance count\n",
        "        return cls.instance_count\n",
        "\n",
        "# Example usage\n",
        "if __name__ == \"__main__\":\n",
        "    obj1 = InstanceCounter()\n",
        "    obj2 = InstanceCounter()\n",
        "    obj3 = InstanceCounter()\n",
        "\n",
        "    print(\"Number of instances created:\", InstanceCounter.get_instance_count())\n"
      ],
      "metadata": {
        "colab": {
          "base_uri": "https://localhost:8080/"
        },
        "id": "v2AT8NsQCNNL",
        "outputId": "e636f5c4-f6ba-4607-f87a-e070f1a541a6"
      },
      "execution_count": 1,
      "outputs": [
        {
          "output_type": "stream",
          "name": "stdout",
          "text": [
            "Number of instances created: 3\n"
          ]
        }
      ]
    },
    {
      "cell_type": "markdown",
      "source": [
        "**Explanation:**\n",
        "\n",
        "**Class Variable:** instance_count is a class variable that is shared across all instances of InstanceCounter.\n",
        "\n",
        "**Constructor (__init__ method):** Every time an instance is created, the constructor increments the instance_count.\n",
        "\n",
        "**Class Method:** get_instance_count is a class method that returns the current value of instance_count, allowing you to access the count without needing an instance of the class.\n",
        "\n",
        "\n",
        "**Q15. IMPLEMENT A STASTIC METHOD IN A CLASS THAT CHECKS IF A GIVEN YEAR IS A LEAP YEAR.**\n",
        "\n",
        "**Ans:** You can implement a static method in a class to check if a given year is a leap year. A year is considered a leap year if:\n",
        "\n",
        "1. It is divisible by 4.\n",
        "\n",
        "2. It is not divisible by 100 unless it is also divisible by 400.\n"
      ],
      "metadata": {
        "id": "cHuvEaeuCNcC"
      }
    },
    {
      "cell_type": "code",
      "source": [
        "class YearUtils:\n",
        "    @staticmethod\n",
        "    def is_leap_year(year):\n",
        "        \"\"\"Check if a given year is a leap year.\"\"\"\n",
        "        if (year % 4 == 0 and year % 100 != 0) or (year % 400 == 0):\n",
        "            return True\n",
        "        return False\n",
        "\n",
        "# Example usage\n",
        "if __name__ == \"__main__\":\n",
        "    year = 2024\n",
        "    if YearUtils.is_leap_year(year):\n",
        "        print(f\"{year} is a leap year.\")\n",
        "    else:\n",
        "        print(f\"{year} is not a leap year.\")\n"
      ],
      "metadata": {
        "colab": {
          "base_uri": "https://localhost:8080/"
        },
        "id": "FWqz6w3XDUbR",
        "outputId": "54b2bcc2-b854-4e0f-eee2-fe9bd3209872"
      },
      "execution_count": 2,
      "outputs": [
        {
          "output_type": "stream",
          "name": "stdout",
          "text": [
            "2024 is a leap year.\n"
          ]
        }
      ]
    },
    {
      "cell_type": "markdown",
      "source": [],
      "metadata": {
        "id": "aBLBLo-9DfwI"
      }
    }
  ]
}