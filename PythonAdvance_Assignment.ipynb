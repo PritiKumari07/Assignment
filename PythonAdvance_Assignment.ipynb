{
  "nbformat": 4,
  "nbformat_minor": 0,
  "metadata": {
    "colab": {
      "provenance": []
    },
    "kernelspec": {
      "name": "python3",
      "display_name": "Python 3"
    },
    "language_info": {
      "name": "python"
    }
  },
  "cells": [
    {
      "cell_type": "markdown",
      "source": [
        "Q1. Write a code to reverse a string."
      ],
      "metadata": {
        "id": "Lpox0ph7Wlgz"
      }
    },
    {
      "cell_type": "code",
      "source": [
        "a=\"Patty loves to play football.\"\n",
        "a[::-1]\n"
      ],
      "metadata": {
        "colab": {
          "base_uri": "https://localhost:8080/",
          "height": 35
        },
        "id": "JTFBSdOsWx5D",
        "outputId": "effbb9a2-bb8b-4e1a-8986-8764be06b454"
      },
      "execution_count": null,
      "outputs": [
        {
          "output_type": "execute_result",
          "data": {
            "text/plain": [
              "'.llabtoof yalp ot sevol yttaP'"
            ],
            "application/vnd.google.colaboratory.intrinsic+json": {
              "type": "string"
            }
          },
          "metadata": {},
          "execution_count": 13
        }
      ]
    },
    {
      "cell_type": "markdown",
      "source": [
        "Q2. Write a code to count the number of vowels in a string."
      ],
      "metadata": {
        "id": "sun-vCazXqLE"
      }
    },
    {
      "cell_type": "code",
      "source": [
        "a=\"Patty loves to play football.\"\n",
        "l=[\"a\",\"e\",\"i\",\"o\",\"u\"]\n",
        "count=0\n",
        "for char in a:\n",
        "  if char in l:\n",
        "    count+=1\n",
        "print(count)\n"
      ],
      "metadata": {
        "colab": {
          "base_uri": "https://localhost:8080/"
        },
        "id": "mIC1o3sxc1Ng",
        "outputId": "d0e7da90-3f2a-4dc1-fdb7-794037319dd8"
      },
      "execution_count": null,
      "outputs": [
        {
          "output_type": "stream",
          "name": "stdout",
          "text": [
            "8\n"
          ]
        }
      ]
    },
    {
      "cell_type": "markdown",
      "source": [
        "Q3. Write a code to check if a given string is palindrome or not."
      ],
      "metadata": {
        "id": "XOeVVy9BdaxW"
      }
    },
    {
      "cell_type": "code",
      "source": [
        "a=\"level\"\n",
        "if a==a[::-1]:\n",
        "  print(\"Palindrome\")"
      ],
      "metadata": {
        "colab": {
          "base_uri": "https://localhost:8080/"
        },
        "id": "U41QKIApd68Q",
        "outputId": "a677f7ec-4b66-480d-bfd1-9e043559f70f"
      },
      "execution_count": null,
      "outputs": [
        {
          "output_type": "stream",
          "name": "stdout",
          "text": [
            "Palindrome\n"
          ]
        }
      ]
    },
    {
      "cell_type": "markdown",
      "source": [
        "Q4. Write a code to check if two given strings are anagrams of each other."
      ],
      "metadata": {
        "id": "0zla7TJme32s"
      }
    },
    {
      "cell_type": "code",
      "source": [
        "a=\"listen\"\n",
        "b=\"silent\"\n",
        "\n",
        "if sorted(a)==sorted(b):\n",
        "  print(\"Anagrams\")"
      ],
      "metadata": {
        "colab": {
          "base_uri": "https://localhost:8080/"
        },
        "id": "6ftjkqQkfDf4",
        "outputId": "6bdeb01a-1b84-4801-824b-2c1ae9d807cc"
      },
      "execution_count": null,
      "outputs": [
        {
          "output_type": "stream",
          "name": "stdout",
          "text": [
            "Anagrams\n"
          ]
        }
      ]
    },
    {
      "cell_type": "markdown",
      "source": [
        "Q5. Write a code to find all the occurance of a given substring within another string."
      ],
      "metadata": {
        "id": "LO2-CAIHhJ1x"
      }
    },
    {
      "cell_type": "code",
      "source": [
        "def find_all_occurrences(main_string, substring):\n",
        "    occurrences = []\n",
        "    start = 0\n",
        "\n",
        "    while True:\n",
        "        start = main_string.find(substring, start)\n",
        "        if start == -1:\n",
        "            break\n",
        "        occurrences.append(start)\n",
        "        start += 1  # Move past the last found index\n",
        "\n",
        "    return occurrences\n",
        "\n",
        "\n",
        "main_string = \"This is a test. This test is only a test.\"\n",
        "substring = \"test\"\n",
        "positions = find_all_occurrences(main_string, substring)\n",
        "\n",
        "print(f\"Occurrences of '{substring}' found at positions: {positions}\")\n",
        "\n",
        "\n"
      ],
      "metadata": {
        "id": "rDf83ayDhmM4",
        "colab": {
          "base_uri": "https://localhost:8080/"
        },
        "outputId": "2488e707-06dd-4119-e577-b192e191cce6"
      },
      "execution_count": null,
      "outputs": [
        {
          "output_type": "stream",
          "name": "stdout",
          "text": [
            "Occurrences of 'test' found at positions: [10, 21, 36]\n"
          ]
        }
      ]
    },
    {
      "cell_type": "markdown",
      "source": [
        "Q6. Write a code to perform basic string compression using the counts of repeated characters."
      ],
      "metadata": {
        "id": "r2aWPBunlIXU"
      }
    },
    {
      "cell_type": "code",
      "source": [
        "def compress_string(s):\n",
        "    if not s:\n",
        "        return \"\"\n",
        "\n",
        "    compressed = []\n",
        "    count = 1\n",
        "\n",
        "    for i in range(1, len(s)):\n",
        "        if s[i] == s[i - 1]:\n",
        "            count += 1\n",
        "        else:\n",
        "            compressed.append(s[i - 1] + str(count))\n",
        "            count = 1\n",
        "\n",
        "\n",
        "    compressed.append(s[-1] + str(count))\n",
        "\n",
        "    compressed_string = ''.join(compressed)\n",
        "    return compressed_string if len(compressed_string) < len(s) else s\n",
        "\n",
        "input_string = \"aaabcccccaaa\"\n",
        "compress_string(input_string)\n",
        "\n",
        "print(f\"Compressed string: {compressed_string}\")\n"
      ],
      "metadata": {
        "id": "JxOG469WlIqf",
        "colab": {
          "base_uri": "https://localhost:8080/"
        },
        "outputId": "9f3d7294-e09d-45c9-cc0c-245d52eb170c"
      },
      "execution_count": null,
      "outputs": [
        {
          "output_type": "stream",
          "name": "stdout",
          "text": [
            "Compressed string: a3b1c5a3\n"
          ]
        }
      ]
    },
    {
      "cell_type": "markdown",
      "source": [
        "Q7. Write a code to determine if a string has all unique characters."
      ],
      "metadata": {
        "id": "JWCtOyBaKvZH"
      }
    },
    {
      "cell_type": "code",
      "source": [
        "def has_unique_characters(s):\n",
        "\n",
        "    char_set = set()\n",
        "\n",
        "    for char in s:\n",
        "        if char in char_set:\n",
        "            return False\n",
        "        char_set.add(char)\n",
        "\n",
        "    return True\n",
        "\n",
        "\n",
        "input_string = \"abcdefg\"\n",
        "has_unique_characters(input_string)\n",
        "\n",
        "print(f\"Does the string '{input_string}' have all unique characters? {result}\")\n"
      ],
      "metadata": {
        "colab": {
          "base_uri": "https://localhost:8080/"
        },
        "id": "q672-ndsLIGn",
        "outputId": "240bc2a7-83ae-43f3-8040-c6a5844b3a81"
      },
      "execution_count": null,
      "outputs": [
        {
          "output_type": "stream",
          "name": "stdout",
          "text": [
            "Does the string 'abcdefg' have all unique characters? True\n"
          ]
        }
      ]
    },
    {
      "cell_type": "markdown",
      "source": [
        "Q8. Write a code to convert a string into uppercase and lowercase."
      ],
      "metadata": {
        "id": "D9wDjCKHLPVY"
      }
    },
    {
      "cell_type": "code",
      "source": [
        "a=\"Hello World\"\n",
        "a.upper()\n"
      ],
      "metadata": {
        "colab": {
          "base_uri": "https://localhost:8080/",
          "height": 35
        },
        "id": "OP2UaFiLLbnn",
        "outputId": "7afb65a9-4623-4728-dc01-f26e29784591"
      },
      "execution_count": null,
      "outputs": [
        {
          "output_type": "execute_result",
          "data": {
            "text/plain": [
              "'HELLO WORLD'"
            ],
            "application/vnd.google.colaboratory.intrinsic+json": {
              "type": "string"
            }
          },
          "metadata": {},
          "execution_count": 8
        }
      ]
    },
    {
      "cell_type": "code",
      "source": [
        "a.lower()"
      ],
      "metadata": {
        "colab": {
          "base_uri": "https://localhost:8080/",
          "height": 35
        },
        "id": "Avx2dxgzMdp7",
        "outputId": "fcf281f5-0475-49dc-c513-f1872923118c"
      },
      "execution_count": null,
      "outputs": [
        {
          "output_type": "execute_result",
          "data": {
            "text/plain": [
              "'hello world'"
            ],
            "application/vnd.google.colaboratory.intrinsic+json": {
              "type": "string"
            }
          },
          "metadata": {},
          "execution_count": 9
        }
      ]
    },
    {
      "cell_type": "markdown",
      "source": [
        "Q9. Write a code to count the number of words in a string."
      ],
      "metadata": {
        "id": "ZZHnxsQGMk_b"
      }
    },
    {
      "cell_type": "code",
      "source": [
        "def count_words(s):\n",
        "    words = s.split()\n",
        "    return len(words)\n",
        "input_string = \"This is an example string with seven words.\"\n",
        "count_words(input_string)\n",
        "\n",
        "print(f\"The number of words in the string is: {word_count}\")\n"
      ],
      "metadata": {
        "colab": {
          "base_uri": "https://localhost:8080/"
        },
        "id": "IMdw99g2NiMF",
        "outputId": "485234e1-ca24-4516-9922-755a7474fcb4"
      },
      "execution_count": null,
      "outputs": [
        {
          "output_type": "stream",
          "name": "stdout",
          "text": [
            "The number of words in the string is: 8\n"
          ]
        }
      ]
    },
    {
      "cell_type": "markdown",
      "source": [
        "Q10. Write a code to concatenate two strings without using + operator.\n"
      ],
      "metadata": {
        "id": "hgKix8luN32p"
      }
    },
    {
      "cell_type": "code",
      "source": [
        "a=\"Hello\"\n",
        "b=\"World\"\n",
        "print(f\"{a} {b}\")"
      ],
      "metadata": {
        "colab": {
          "base_uri": "https://localhost:8080/"
        },
        "id": "zvg9FF5COEDu",
        "outputId": "817a79d8-a6a2-4f16-e10e-a6300c81ce80"
      },
      "execution_count": null,
      "outputs": [
        {
          "output_type": "stream",
          "name": "stdout",
          "text": [
            "Hello World\n"
          ]
        }
      ]
    },
    {
      "cell_type": "markdown",
      "source": [
        "Q11. Write a code to remove all occurances of a specific element from a list.\n"
      ],
      "metadata": {
        "id": "tpSDa_-0O0B3"
      }
    },
    {
      "cell_type": "code",
      "source": [
        "def remove_element(list, element):\n",
        "    new_list = []\n",
        "    for i in list:\n",
        "        if i != element:\n",
        "            new_list.append(i)\n",
        "    return new_list\n",
        "remove_element(list=[1, 2, 3, 4, 2, 5, 2], element=2)"
      ],
      "metadata": {
        "colab": {
          "base_uri": "https://localhost:8080/"
        },
        "id": "209ka2e9FO_T",
        "outputId": "0b9fc43f-f807-401a-85d0-df8d493e9310"
      },
      "execution_count": null,
      "outputs": [
        {
          "output_type": "execute_result",
          "data": {
            "text/plain": [
              "[1, 3, 4, 5]"
            ]
          },
          "metadata": {},
          "execution_count": 12
        }
      ]
    },
    {
      "cell_type": "markdown",
      "source": [
        "Q12. Implement a code to find the second largest number in a given list of integers."
      ],
      "metadata": {
        "id": "18zL690NGOCL"
      }
    },
    {
      "cell_type": "code",
      "source": [
        "def second_largest(lst):\n",
        "    if len(lst) < 2:\n",
        "        return None\n",
        "    first = max(lst)\n",
        "    lst = [x for x in lst if x != first]\n",
        "    return max(lst) if lst else None\n",
        "numbers = [10, 20, 4, 45, 99, 99]\n",
        "print(second_largest(numbers))\n",
        "\n"
      ],
      "metadata": {
        "colab": {
          "base_uri": "https://localhost:8080/"
        },
        "id": "qdyum9bjHYyp",
        "outputId": "ece50461-f60a-43f8-c2f1-533f0d93595f"
      },
      "execution_count": null,
      "outputs": [
        {
          "output_type": "stream",
          "name": "stdout",
          "text": [
            "45\n"
          ]
        }
      ]
    },
    {
      "cell_type": "markdown",
      "source": [
        "Q13. Create a code to count the occurence of each element in a list and return a dictionary with elements as keys and counts as values."
      ],
      "metadata": {
        "id": "gF1OIwbgI0G7"
      }
    },
    {
      "cell_type": "code",
      "source": [
        "def count_elements(lst):\n",
        "    element_counts = {}\n",
        "    for element in lst:\n",
        "        if element in element_counts:\n",
        "            element_counts[element] += 1\n",
        "        else:\n",
        "            element_counts[element] = 1\n",
        "    return element_counts\n",
        "\n",
        "sample_list = [1, 2, 2, 3, 3, 3, 4, 4, 4, 4]\n",
        "print(count_elements(sample_list))\n"
      ],
      "metadata": {
        "id": "O9cpTjjtKWcE",
        "colab": {
          "base_uri": "https://localhost:8080/"
        },
        "outputId": "13953a06-5082-42e3-c4e6-8bee73ae6bbe"
      },
      "execution_count": null,
      "outputs": [
        {
          "output_type": "stream",
          "name": "stdout",
          "text": [
            "{1: 1, 2: 2, 3: 3, 4: 4}\n"
          ]
        }
      ]
    },
    {
      "cell_type": "markdown",
      "source": [
        "Q14. Write a code to reverse a list in-place without using any built in reverse function."
      ],
      "metadata": {
        "id": "mvJHa_ThLgCD"
      }
    },
    {
      "cell_type": "code",
      "source": [
        "def reverse_list(lst):\n",
        "    left = 0\n",
        "    right = len(lst) - 1\n",
        "\n",
        "    while left < right:\n",
        "        # Swap elements at left and right indices\n",
        "        lst[left], lst[right] = lst[right], lst[left]\n",
        "\n",
        "        # Move towards the center\n",
        "        left += 1\n",
        "        right -= 1\n",
        "\n",
        "\n",
        "sample_list = [1, 2, 3, 4, 5]\n",
        "reverse_list(sample_list)\n",
        "print(sample_list)\n"
      ],
      "metadata": {
        "colab": {
          "base_uri": "https://localhost:8080/"
        },
        "id": "frFokYMKMXxT",
        "outputId": "1c392b89-90e2-4379-c60f-1e02613ac557"
      },
      "execution_count": null,
      "outputs": [
        {
          "output_type": "stream",
          "name": "stdout",
          "text": [
            "[5, 4, 3, 2, 1]\n"
          ]
        }
      ]
    },
    {
      "cell_type": "markdown",
      "source": [
        "Q15. Implement a code to find and remove duplicates from a list while preserving the original order of elements."
      ],
      "metadata": {
        "id": "xAALnRtyMsD4"
      }
    },
    {
      "cell_type": "code",
      "source": [
        "def remove_duplicates(lst):\n",
        "    seen = set()\n",
        "    result = []\n",
        "\n",
        "    for element in lst:\n",
        "        if element not in seen:\n",
        "            seen.add(element)\n",
        "            result.append(element)\n",
        "\n",
        "    return result\n",
        "\n",
        "\n",
        "sample_list = [1, 2, 2, 3, 4, 3, 5, 4]\n",
        "print(remove_duplicates(sample_list))\n"
      ],
      "metadata": {
        "colab": {
          "base_uri": "https://localhost:8080/"
        },
        "id": "d_5tZTJNNQty",
        "outputId": "0d6a9042-4230-49aa-cffe-ad0c03250501"
      },
      "execution_count": null,
      "outputs": [
        {
          "output_type": "stream",
          "name": "stdout",
          "text": [
            "[1, 2, 3, 4, 5]\n"
          ]
        }
      ]
    },
    {
      "cell_type": "markdown",
      "source": [
        "Q16. Create a code to check if a given list is sorted (either in descending or ascending order) or not."
      ],
      "metadata": {
        "id": "ySLJYPhiNfLy"
      }
    },
    {
      "cell_type": "code",
      "source": [
        "def is_sorted(lst):\n",
        "    ascending = True\n",
        "    descending = True\n",
        "\n",
        "    for i in range(len(lst) - 1):\n",
        "        if lst[i] > lst[i + 1]:\n",
        "            ascending = False\n",
        "        if lst[i] < lst[i + 1]:\n",
        "            descending = False\n",
        "\n",
        "    return ascending or descending\n",
        "\n",
        "\n",
        "sample_list1 = [1, 2, 3, 4, 5]\n",
        "sample_list2 = [5, 4, 3, 2, 1]\n",
        "sample_list3 = [1, 3, 2, 4, 5]\n",
        "\n",
        "print(is_sorted(sample_list1))\n",
        "print(is_sorted(sample_list2))\n",
        "print(is_sorted(sample_list3))"
      ],
      "metadata": {
        "colab": {
          "base_uri": "https://localhost:8080/"
        },
        "id": "dZtyTcelP3gz",
        "outputId": "318bddc4-111a-492f-cfc3-baa38da7f39d"
      },
      "execution_count": null,
      "outputs": [
        {
          "output_type": "stream",
          "name": "stdout",
          "text": [
            "True\n",
            "True\n",
            "False\n"
          ]
        }
      ]
    },
    {
      "cell_type": "markdown",
      "source": [
        "Q17. Write a code to merge two sorted lists into a single sorted lists."
      ],
      "metadata": {
        "id": "BkHfL7UPQX7u"
      }
    },
    {
      "cell_type": "code",
      "source": [
        "def merge_sorted_lists(list1, list2):\n",
        "    merged_list = []\n",
        "    i, j = 0, 0\n",
        "\n",
        "    # Traverse both lists and append the smaller element to the merged list\n",
        "    while i < len(list1) and j < len(list2):\n",
        "        if list1[i] < list2[j]:\n",
        "            merged_list.append(list1[i])\n",
        "            i += 1\n",
        "        else:\n",
        "            merged_list.append(list2[j])\n",
        "            j += 1\n",
        "\n",
        "    # Append remaining elements from list1, if any\n",
        "    while i < len(list1):\n",
        "        merged_list.append(list1[i])\n",
        "        i += 1\n",
        "\n",
        "    # Append remaining elements from list2, if any\n",
        "    while j < len(list2):\n",
        "        merged_list.append(list2[j])\n",
        "        j += 1\n",
        "\n",
        "    return merged_list\n",
        "\n",
        "\n",
        "list1 = [1, 3, 5, 7]\n",
        "list2 = [2, 4, 6, 8]\n",
        "print(merge_sorted_lists(list1, list2))\n"
      ],
      "metadata": {
        "colab": {
          "base_uri": "https://localhost:8080/"
        },
        "id": "wW_g79e2SrRX",
        "outputId": "c4f751ce-1612-4541-f8a4-fc48db4fadf6"
      },
      "execution_count": null,
      "outputs": [
        {
          "output_type": "stream",
          "name": "stdout",
          "text": [
            "[1, 2, 3, 4, 5, 6, 7, 8]\n"
          ]
        }
      ]
    },
    {
      "cell_type": "markdown",
      "source": [
        "Q18. Implement a code to find the intersection of two given lists."
      ],
      "metadata": {
        "id": "V_BPtfpnSvUu"
      }
    },
    {
      "cell_type": "code",
      "source": [
        "def intersection(list1, list2):\n",
        "    set1 = set(list1)\n",
        "    set2 = set(list2)\n",
        "    return list(set1 & set2)\n",
        "\n",
        "\n",
        "list1 = [\"coding\",\"hiking\",\"reading\"]\n",
        "list2 = [\"coding\",\"photography\",\"travelling\"]\n",
        "print(intersection(list1, list2))\n"
      ],
      "metadata": {
        "colab": {
          "base_uri": "https://localhost:8080/"
        },
        "id": "ca6cVbAdTYvv",
        "outputId": "cb85754f-0739-4432-8c82-7efd047badfd"
      },
      "execution_count": null,
      "outputs": [
        {
          "output_type": "stream",
          "name": "stdout",
          "text": [
            "['coding']\n"
          ]
        }
      ]
    },
    {
      "cell_type": "markdown",
      "source": [
        "Q19. Implement a code to find the union of two lists without any duplicates."
      ],
      "metadata": {
        "id": "khcszwz0UTcz"
      }
    },
    {
      "cell_type": "code",
      "source": [
        "def union(list1, list2):\n",
        "    return list(set(list1) | set(list2))\n",
        "\n",
        "\n",
        "list1 = [1, 2, 3, 4, 5]\n",
        "list2 = [4, 5, 6, 7, 8]\n",
        "print(union(list1, list2))\n"
      ],
      "metadata": {
        "colab": {
          "base_uri": "https://localhost:8080/"
        },
        "id": "tTAmemdCUnFI",
        "outputId": "d512effc-d671-4859-f732-b4ead511acfc"
      },
      "execution_count": null,
      "outputs": [
        {
          "output_type": "stream",
          "name": "stdout",
          "text": [
            "[1, 2, 3, 4, 5, 6, 7, 8]\n"
          ]
        }
      ]
    },
    {
      "cell_type": "markdown",
      "source": [
        "Q20. Write a code to shuffle a given list randomly without using any built-in shuffle functions."
      ],
      "metadata": {
        "id": "iglu71cYUr4u"
      }
    },
    {
      "cell_type": "code",
      "source": [
        "import random\n",
        "\n",
        "def shuffle_list(lst):\n",
        "    n = len(lst)\n",
        "    for i in range(n - 1, 0, -1):\n",
        "        # Generate a random index from 0 to i\n",
        "        j = random.randint(0, i)\n",
        "        # Swap elements at i and j\n",
        "        lst[i], lst[j] = lst[j], lst[i]\n",
        "sample_list = [1, 2, 3, 4, 5]\n",
        "shuffle_list(sample_list)\n",
        "print(sample_list)\n"
      ],
      "metadata": {
        "colab": {
          "base_uri": "https://localhost:8080/"
        },
        "id": "aiEJTS3eVB3O",
        "outputId": "aa914e4c-ee09-42e1-fe58-ca3f819eac06"
      },
      "execution_count": null,
      "outputs": [
        {
          "output_type": "stream",
          "name": "stdout",
          "text": [
            "[3, 1, 4, 2, 5]\n"
          ]
        }
      ]
    },
    {
      "cell_type": "markdown",
      "source": [
        "Q21. Write a code that takes two tuples as input and returns a new tuple containing elements that are common to both input tuples."
      ],
      "metadata": {
        "id": "Wt0XeEnxVM9p"
      }
    },
    {
      "cell_type": "code",
      "source": [
        "def common_elements(tuple1, tuple2):\n",
        "    set1 = set(tuple1)\n",
        "    set2 = set(tuple2)\n",
        "    common_set = set1 & set2  # Find the intersection\n",
        "    return tuple(common_set)   # Convert the set back to a tuple\n",
        "\n",
        "\n",
        "tuple1 = (1, 2, 3, 4, 5)\n",
        "tuple2 = (4, 5, 6, 7, 8)\n",
        "result = common_elements(tuple1, tuple2)\n",
        "print(result)\n"
      ],
      "metadata": {
        "colab": {
          "base_uri": "https://localhost:8080/"
        },
        "id": "mk2z5e-FV6IA",
        "outputId": "8b68f45e-d832-4114-8fdf-6f90e76ab224"
      },
      "execution_count": null,
      "outputs": [
        {
          "output_type": "stream",
          "name": "stdout",
          "text": [
            "(4, 5)\n"
          ]
        }
      ]
    },
    {
      "cell_type": "markdown",
      "source": [
        "Q22. Create a code that prompts the user to enter two sets of integers seperated by commas.Then print the intersection of these two sets."
      ],
      "metadata": {
        "id": "HfFODUbrV-qD"
      }
    },
    {
      "cell_type": "code",
      "source": [
        "\n",
        "set1 = set(map(int, input(\"Enter the first set of integers, separated by commas: \").split(',')))\n",
        "set2 = set(map(int, input(\"Enter the second set of integers, separated by commas: \").split(',')))\n",
        "\n",
        "\n",
        "intersection = set1.intersection(set2)\n",
        "print(\"The intersection of the two sets is:\", intersection)\n"
      ],
      "metadata": {
        "id": "URISvQkAKUaT"
      },
      "execution_count": null,
      "outputs": []
    },
    {
      "cell_type": "markdown",
      "source": [
        "Q23. Write a code to concatenate two tuples.The function should take two tuples as input and return a new tuple containing elements from both input tuples."
      ],
      "metadata": {
        "id": "nz9tPzI-KcZA"
      }
    },
    {
      "cell_type": "code",
      "source": [
        "def concatenate_tuples(tuple1, tuple2):\n",
        "\n",
        "    result = tuple1 + tuple2\n",
        "    return result\n",
        "\n",
        "\n",
        "tuple1 = (1, 2, 3)\n",
        "tuple2 = (4, 5, 6)\n",
        "\n",
        "concatenated_tuple = concatenate_tuples(tuple1, tuple2)\n",
        "print(\"Concatenated Tuple:\", concatenated_tuple)\n"
      ],
      "metadata": {
        "colab": {
          "base_uri": "https://localhost:8080/"
        },
        "id": "oweMOBuvLdT2",
        "outputId": "99fedfa8-22e7-43db-babb-99220811b8f5"
      },
      "execution_count": 1,
      "outputs": [
        {
          "output_type": "stream",
          "name": "stdout",
          "text": [
            "Concatenated Tuple: (1, 2, 3, 4, 5, 6)\n"
          ]
        }
      ]
    },
    {
      "cell_type": "markdown",
      "source": [
        "Q24. Develop a code that prompts the user to input two sets of strings. Then print the elements that are present in the first set but not in the second set."
      ],
      "metadata": {
        "id": "w6xWRSnYMlpc"
      }
    },
    {
      "cell_type": "code",
      "source": [
        "set1 = set(input(\"Enter elements of the first set (separated by spaces): \").split())\n",
        "set2 = set(input(\"Enter elements of the second set (separated by spaces): \").split())\n",
        "\n",
        "\n",
        "difference = set1 - set2\n",
        "\n",
        "\n",
        "print(\"Elements present in the first set but not in the second set:\", difference)\n"
      ],
      "metadata": {
        "colab": {
          "base_uri": "https://localhost:8080/"
        },
        "id": "3kw6fRagPdV_",
        "outputId": "1afecb61-d729-4030-fee4-0663cad76c53"
      },
      "execution_count": 4,
      "outputs": [
        {
          "output_type": "stream",
          "name": "stdout",
          "text": [
            "Enter elements of the first set (separated by spaces): apple orange banana\n",
            "Enter elements of the second set (separated by spaces): banana grape apple\n",
            "Elements present in the first set but not in the second set: {'orange'}\n"
          ]
        }
      ]
    },
    {
      "cell_type": "markdown",
      "source": [
        "Q25. Create a code that takes a tuple and two integers as input.The function should return a new tuple containing elements from the original tuple within the specified range of indices."
      ],
      "metadata": {
        "id": "tuzTxl1tPrqp"
      }
    },
    {
      "cell_type": "code",
      "source": [
        "def slice_tuple(tup, start, end):\n",
        "    \"\"\"\n",
        "    Returns a new tuple containing elements from the original tuple\n",
        "    within the specified range of indices.\n",
        "    \"\"\"\n",
        "\n",
        "    return tup[start:end]\n",
        "\n",
        "\n",
        "tup_input = input(\"Enter the elements of the tuple separated by spaces: \")\n",
        "\n",
        "tup = tuple(tup_input.split())\n",
        "\n",
        "\n",
        "start = int(input(\"Enter the start index: \"))\n",
        "end = int(input(\"Enter the end index: \"))\n",
        "\n",
        "\n",
        "result = slice_tuple(tup, start, end)\n",
        "print(\"New tuple with specified range:\", result)\n"
      ],
      "metadata": {
        "colab": {
          "base_uri": "https://localhost:8080/"
        },
        "id": "K0VN5mEpQqnA",
        "outputId": "771dfe90-6065-4437-90cf-3fd8dd994ce4"
      },
      "execution_count": 5,
      "outputs": [
        {
          "output_type": "stream",
          "name": "stdout",
          "text": [
            "Enter the elements of the tuple separated by spaces: apple banana cherry date fig\n",
            "Enter the start index: 1\n",
            "Enter the end index: 4\n",
            "New tuple with specified range: ('banana', 'cherry', 'date')\n"
          ]
        }
      ]
    },
    {
      "cell_type": "markdown",
      "source": [
        "Q26. Write a code that prompts the user to input two sets of characters.Then print the union of these two sets."
      ],
      "metadata": {
        "id": "6F-UL2GxRB1b"
      }
    },
    {
      "cell_type": "code",
      "source": [
        "\n",
        "set1 = set(input(\"Enter characters for the first set (no spaces needed): \"))\n",
        "set2 = set(input(\"Enter characters for the second set (no spaces needed): \"))\n",
        "\n",
        "\n",
        "union_set = set1 | set2\n",
        "\n",
        "\n",
        "print(\"Union of the two sets:\", union_set)\n"
      ],
      "metadata": {
        "colab": {
          "base_uri": "https://localhost:8080/"
        },
        "id": "Xitin6ojRZzb",
        "outputId": "71dfa2ce-471a-40d8-ac2f-41ced79b111b"
      },
      "execution_count": 6,
      "outputs": [
        {
          "output_type": "stream",
          "name": "stdout",
          "text": [
            "Enter characters for the first set (no spaces needed): abcde\n",
            "Enter characters for the second set (no spaces needed): cdef\n",
            "Union of the two sets: {'b', 'f', 'e', 'c', 'd', 'a'}\n"
          ]
        }
      ]
    },
    {
      "cell_type": "markdown",
      "source": [
        "Q27. Develop a code that takes the tuple of integers as input.The function should return the maximum and minimum values from the tuple using tuple unpacking."
      ],
      "metadata": {
        "id": "UG4yarGdRvu_"
      }
    },
    {
      "cell_type": "code",
      "source": [
        "def min_max(tup):\n",
        "    \"\"\"\n",
        "    Returns the minimum and maximum values from the tuple.\n",
        "    \"\"\"\n",
        "\n",
        "    min_val = min(tup)\n",
        "    max_val = max(tup)\n",
        "\n",
        "\n",
        "    return min_val, max_val\n",
        "\n",
        "\n",
        "tup_input = input(\"Enter the elements of the tuple separated by spaces: \")\n",
        "\n",
        "tup = tuple(map(int, tup_input.split()))\n",
        "\n",
        "\n",
        "min_value, max_value = min_max(tup)\n",
        "\n",
        "\n",
        "print(\"Minimum value:\", min_value)\n",
        "print(\"Maximum value:\", max_value)\n"
      ],
      "metadata": {
        "colab": {
          "base_uri": "https://localhost:8080/"
        },
        "id": "CyyDTyyJSaeZ",
        "outputId": "2f751401-e2c6-49d8-aa0e-343cfe71a9bb"
      },
      "execution_count": 7,
      "outputs": [
        {
          "output_type": "stream",
          "name": "stdout",
          "text": [
            "Enter the elements of the tuple separated by spaces: 10 5 3 8 15\n",
            "Minimum value: 3\n",
            "Maximum value: 15\n"
          ]
        }
      ]
    },
    {
      "cell_type": "markdown",
      "source": [
        "Q28. Create a code that defines two sets of integers.Then print the union, intersection and the difference of these two sets."
      ],
      "metadata": {
        "id": "dl9x4FPbSmme"
      }
    },
    {
      "cell_type": "code",
      "source": [
        "\n",
        "set1 = {1, 2, 3, 4, 5}\n",
        "set2 = {4, 5, 6, 7, 8}\n",
        "\n",
        "\n",
        "union_set = set1 | set2\n",
        "intersection_set = set1 & set2\n",
        "difference_set = set1 - set2\n",
        "\n",
        "\n",
        "print(\"Union of the two sets:\", union_set)\n",
        "print(\"Intersection of the two sets:\", intersection_set)\n",
        "print(\"Difference of the first set from the second set:\", difference_set)\n"
      ],
      "metadata": {
        "colab": {
          "base_uri": "https://localhost:8080/"
        },
        "id": "Zn9FJJZAS_cy",
        "outputId": "ef742997-bbc2-4c6a-8742-8cbaeb890a6c"
      },
      "execution_count": 8,
      "outputs": [
        {
          "output_type": "stream",
          "name": "stdout",
          "text": [
            "Union of the two sets: {1, 2, 3, 4, 5, 6, 7, 8}\n",
            "Intersection of the two sets: {4, 5}\n",
            "Difference of the first set from the second set: {1, 2, 3}\n"
          ]
        }
      ]
    },
    {
      "cell_type": "markdown",
      "source": [
        "Q29. Write a code that takes a tuple and an element as input.The function should return the count of occurances of the given element in the tuple."
      ],
      "metadata": {
        "id": "WT3Fm4j-TS8I"
      }
    },
    {
      "cell_type": "code",
      "source": [
        "def count_occurrences(tup, element):\n",
        "    \"\"\"\n",
        "    Returns the count of occurrences of the given element in the tuple.\n",
        "    \"\"\"\n",
        "    return tup.count(element)\n",
        "\n",
        "tup_input = input(\"Enter the elements of the tuple separated by spaces: \")\n",
        "\n",
        "tup = tuple(tup_input.split())\n",
        "\n",
        "\n",
        "element = input(\"Enter the element to count: \")\n",
        "\n",
        "\n",
        "count = count_occurrences(tup, element)\n",
        "print(f\"The element '{element}' occurs {count} time(s) in the tuple.\")\n"
      ],
      "metadata": {
        "colab": {
          "base_uri": "https://localhost:8080/"
        },
        "id": "6YIIKWZ_UO13",
        "outputId": "f8726706-0dc0-472b-80a4-dca7a4c33852"
      },
      "execution_count": 10,
      "outputs": [
        {
          "output_type": "stream",
          "name": "stdout",
          "text": [
            "Enter the elements of the tuple separated by spaces: apple banana apple cherry apple\n",
            "Enter the element to count: apple\n",
            "The element 'apple' occurs 3 time(s) in the tuple.\n"
          ]
        }
      ]
    },
    {
      "cell_type": "markdown",
      "source": [
        "Q30. Develop a code that prompts a user to input two sets of string.Then print the symmetric difference of these two sets."
      ],
      "metadata": {
        "id": "DYovrfb4Udg2"
      }
    },
    {
      "cell_type": "code",
      "source": [
        "\n",
        "set1 = set(input(\"Enter elements of the first set (separated by spaces): \").split())\n",
        "set2 = set(input(\"Enter elements of the second set (separated by spaces): \").split())\n",
        "\n",
        "\n",
        "symmetric_difference = set1 ^ set2\n",
        "\n",
        "print(\"Symmetric difference of the two sets:\", symmetric_difference)\n"
      ],
      "metadata": {
        "colab": {
          "base_uri": "https://localhost:8080/"
        },
        "id": "8bToy6SGU7AB",
        "outputId": "32a53de7-8a29-43ee-ba29-ee17f4f71868"
      },
      "execution_count": 11,
      "outputs": [
        {
          "output_type": "stream",
          "name": "stdout",
          "text": [
            "Enter elements of the first set (separated by spaces): apple banana cherry\n",
            "Enter elements of the second set (separated by spaces): banana cherry mango\n",
            "Symmetric difference of the two sets: {'apple', 'mango'}\n"
          ]
        }
      ]
    },
    {
      "cell_type": "markdown",
      "source": [
        "Q31. Write a code that takes a list of words as input and returns a dictionary where the keys are unique words and the values are the frequencies of those words in the input list."
      ],
      "metadata": {
        "id": "GCr1f70PVIx8"
      }
    },
    {
      "cell_type": "code",
      "source": [
        "def word_frequencies(word_list):\n",
        "    \"\"\"\n",
        "    Returns a dictionary with words as keys and their frequencies as values.\n",
        "    \"\"\"\n",
        "    frequency_dict = {}\n",
        "    for word in word_list:\n",
        "        if word in frequency_dict:\n",
        "            frequency_dict[word] += 1\n",
        "        else:\n",
        "            frequency_dict[word] = 1\n",
        "    return frequency_dict\n",
        "\n",
        "\n",
        "words_input = input(\"Enter a list of words separated by spaces: \")\n",
        "\n",
        "word_list = words_input.split()\n",
        "\n",
        "frequency_dict = word_frequencies(word_list)\n",
        "print(\"Word frequencies:\", frequency_dict)\n"
      ],
      "metadata": {
        "colab": {
          "base_uri": "https://localhost:8080/"
        },
        "id": "oidU8mllX_TW",
        "outputId": "93de7827-64ab-482d-d189-33cd2e00df91"
      },
      "execution_count": 12,
      "outputs": [
        {
          "output_type": "stream",
          "name": "stdout",
          "text": [
            "Enter a list of words separated by spaces: apple banana apple cherry apple banana\n",
            "Word frequencies: {'apple': 3, 'banana': 2, 'cherry': 1}\n"
          ]
        }
      ]
    },
    {
      "cell_type": "markdown",
      "source": [
        "Q32. Write a code that takes two dictionaries as input and merges them into a single dictionary .If there are common keys , the values should be added together."
      ],
      "metadata": {
        "id": "D2CBBkl3YKFP"
      }
    },
    {
      "cell_type": "code",
      "source": [
        "def merge_dictionaries(dict1, dict2):\n",
        "    \"\"\"\n",
        "    Merges two dictionaries, adding values of common keys.\n",
        "    \"\"\"\n",
        "    merged_dict = dict1.copy()\n",
        "    for key, value in dict2.items():\n",
        "        if key in merged_dict:\n",
        "            merged_dict[key] += value\n",
        "        else:\n",
        "            merged_dict[key] = value\n",
        "    return merged_dict\n",
        "\n",
        "dict1 = {'a': 1, 'b': 2, 'c': 3}\n",
        "dict2 = {'b': 3, 'c': 4, 'd': 5}\n",
        "\n",
        "\n",
        "result = merge_dictionaries(dict1, dict2)\n",
        "print(\"Merged dictionary:\", result)\n"
      ],
      "metadata": {
        "colab": {
          "base_uri": "https://localhost:8080/"
        },
        "id": "F2CIMF5jYrLM",
        "outputId": "4e2476b6-a7af-4f17-b025-7edde45905bc"
      },
      "execution_count": 13,
      "outputs": [
        {
          "output_type": "stream",
          "name": "stdout",
          "text": [
            "Merged dictionary: {'a': 1, 'b': 5, 'c': 7, 'd': 5}\n"
          ]
        }
      ]
    },
    {
      "cell_type": "markdown",
      "source": [
        "Q33. Write a code to access a value in a nested dictionary.The function should take the dictionary and list of keys as input and return the corresponding value. If any of the keys do not exist in the dictionary,the function should return none."
      ],
      "metadata": {
        "id": "Fez10xOQZEph"
      }
    },
    {
      "cell_type": "code",
      "source": [
        "def get_nested_value(nested_dict, keys):\n",
        "    \"\"\"\n",
        "    Returns the value from a nested dictionary using a list of keys.\n",
        "    If any key is missing, returns None.\n",
        "    \"\"\"\n",
        "    current = nested_dict\n",
        "    for key in keys:\n",
        "        if key in current:\n",
        "            current = current[key]\n",
        "        else:\n",
        "            return None\n",
        "    return current\n",
        "\n",
        "\n",
        "nested_dict = {\n",
        "    'a': {\n",
        "        'b': {\n",
        "            'c': 10\n",
        "        }\n",
        "    }\n",
        "}\n",
        "\n",
        "\n",
        "keys = input(\"Enter the keys separated by spaces: \").split()\n",
        "\n",
        "\n",
        "value = get_nested_value(nested_dict, keys)\n",
        "print(\"Value:\", value)\n"
      ],
      "metadata": {
        "colab": {
          "base_uri": "https://localhost:8080/"
        },
        "id": "PkpraCXxZ7zz",
        "outputId": "db4630eb-79fe-4a25-8e4c-1a88c1c57f33"
      },
      "execution_count": 14,
      "outputs": [
        {
          "output_type": "stream",
          "name": "stdout",
          "text": [
            "Enter the keys separated by spaces: a b c\n",
            "Value: 10\n"
          ]
        }
      ]
    },
    {
      "cell_type": "markdown",
      "source": [
        "Q34. Write a code that takes the dictionary as input and returns a sorted version of it based on the values.You can choose whether to sort in ascending or descending order."
      ],
      "metadata": {
        "id": "Mw-EXCiMaYGE"
      }
    },
    {
      "cell_type": "code",
      "source": [
        "def sort_dict_by_values(input_dict, ascending=True):\n",
        "    \"\"\"\n",
        "    Returns a dictionary sorted by values.\n",
        "\n",
        "    Parameters:\n",
        "    - input_dict: The dictionary to be sorted.\n",
        "    - ascending: Boolean indicating sort order (True for ascending, False for descending).\n",
        "    \"\"\"\n",
        "\n",
        "    sorted_dict = dict(sorted(input_dict.items(), key=lambda item: item[1], reverse=not ascending))\n",
        "    return sorted_dict\n",
        "\n",
        "\n",
        "dict_input = input(\"Enter the dictionary in the format key1:value1 key2:value2 ... : \")\n",
        "\n",
        "input_dict = dict(item.split(\":\") for item in dict_input.split())\n",
        "\n",
        "input_dict = {k: int(v) for k, v in input_dict.items()}\n",
        "\n",
        "\n",
        "order = input(\"Enter 'asc' for ascending or 'desc' for descending order: \").lower()\n",
        "ascending = order == 'asc'\n",
        "\n",
        "\n",
        "sorted_dict = sort_dict_by_values(input_dict, ascending)\n",
        "print(\"Sorted dictionary:\", sorted_dict)\n"
      ],
      "metadata": {
        "colab": {
          "base_uri": "https://localhost:8080/"
        },
        "id": "1SHPjy86a17-",
        "outputId": "589582e8-7dc0-4d5a-8e69-8d38845a76c0"
      },
      "execution_count": 15,
      "outputs": [
        {
          "output_type": "stream",
          "name": "stdout",
          "text": [
            "Enter the dictionary in the format key1:value1 key2:value2 ... :  a:5 b:3 c:8\n",
            "Enter 'asc' for ascending or 'desc' for descending order: asc\n",
            "Sorted dictionary: {'b': 3, 'a': 5, 'c': 8}\n"
          ]
        }
      ]
    },
    {
      "cell_type": "markdown",
      "source": [
        "Q35. Write a code that inverts a dictionary, swapping keys and values. Ensure that the inverted dictionary correctly handles cases where multiple keys have the same value by storing the keys as a list in the inverted dictionary."
      ],
      "metadata": {
        "id": "t8arMm7ybGGm"
      }
    },
    {
      "cell_type": "code",
      "source": [
        "def invert_dictionary(input_dict):\n",
        "    \"\"\"\n",
        "    Returns an inverted dictionary with keys and values swapped.\n",
        "    If multiple keys have the same value, they are stored as a list in the inverted dictionary.\n",
        "    \"\"\"\n",
        "    inverted_dict = {}\n",
        "    for key, value in input_dict.items():\n",
        "        if value in inverted_dict:\n",
        "\n",
        "            inverted_dict[value].append(key)\n",
        "        else:\n",
        "\n",
        "            inverted_dict[value] = [key]\n",
        "    return inverted_dict\n",
        "\n",
        "\n",
        "input_dict = {\n",
        "    'a': 1,\n",
        "    'b': 2,\n",
        "    'c': 1,\n",
        "    'd': 3,\n",
        "    'e': 2\n",
        "}\n",
        "\n",
        "\n",
        "inverted_dict = invert_dictionary(input_dict)\n",
        "print(\"Inverted dictionary:\", inverted_dict)\n"
      ],
      "metadata": {
        "colab": {
          "base_uri": "https://localhost:8080/"
        },
        "id": "21fpEvoecAin",
        "outputId": "84a9e5c9-00bd-49aa-bf72-c2c596ccb2cd"
      },
      "execution_count": 16,
      "outputs": [
        {
          "output_type": "stream",
          "name": "stdout",
          "text": [
            "Inverted dictionary: {1: ['a', 'c'], 2: ['b', 'e'], 3: ['d']}\n"
          ]
        }
      ]
    }
  ]
}