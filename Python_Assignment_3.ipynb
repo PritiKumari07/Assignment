{
  "nbformat": 4,
  "nbformat_minor": 0,
  "metadata": {
    "colab": {
      "provenance": []
    },
    "kernelspec": {
      "name": "python3",
      "display_name": "Python 3"
    },
    "language_info": {
      "name": "python"
    }
  },
  "cells": [
    {
      "cell_type": "markdown",
      "source": [
        "**Q1. WHAT IS THE DIFFERENCE BETWEEN A FUNCTION AND A METHOD IN PYTHON?**\n",
        "\n",
        "**Ans**. In Python, the terms \"function\" and \"method\" both refer to blocks of reusable code, but they are used in slightly different contexts:\n",
        "\n",
        "**Function**\n",
        "\n",
        "**Definition**: A function is a standalone block of code that performs a specific task. It can be defined using the def keyword.\n",
        "\n",
        "**Usage**: Functions can be called independently and are not tied to any object or class.\n",
        "\n",
        "**Example:**"
      ],
      "metadata": {
        "id": "I6bvFYbt7lmr"
      }
    },
    {
      "cell_type": "code",
      "source": [
        "def add(a, b):\n",
        "  result=a+b\n",
        "  return result\n",
        "add(3,5)\n",
        "\n"
      ],
      "metadata": {
        "id": "JXDDBD0q9rHT",
        "colab": {
          "base_uri": "https://localhost:8080/"
        },
        "outputId": "889c073f-76f1-4415-dca0-7911e095a557"
      },
      "execution_count": null,
      "outputs": [
        {
          "output_type": "execute_result",
          "data": {
            "text/plain": [
              "8"
            ]
          },
          "metadata": {},
          "execution_count": 1
        }
      ]
    },
    {
      "cell_type": "markdown",
      "source": [
        "**Method**\n",
        "\n",
        "**Definition**: A method is similar to a function but is associated with an object or class. Methods are defined within a class and typically operate on the instance of that class (the object).\n",
        "\n",
        "**Usage**: Methods are called on objects and usually have access to the data within that object (using self to refer to the instance).\n",
        "\n",
        "**Example:**"
      ],
      "metadata": {
        "id": "S8BC6VjJ91f3"
      }
    },
    {
      "cell_type": "code",
      "source": [
        "class Calculator:\n",
        "    def add(self, a, b):\n",
        "        return a + b\n",
        "\n",
        "calc = Calculator()  # Create an instance of Calculator\n",
        "result = calc.add(3, 5)  # Calls the method on the instance\n"
      ],
      "metadata": {
        "id": "MlGB7om4-Br-"
      },
      "execution_count": null,
      "outputs": []
    },
    {
      "cell_type": "markdown",
      "source": [
        "**Q2. EXPLAIN THE CONCEPT OF FUNCTION ARGUMENTS AND PARAMETERS IN PYTHON.**\n",
        "\n",
        "**Ans**. In Python, function arguments and parameters are fundamental concepts that allow functions to receive input values and operate on them.\n",
        "\n",
        "**Parameters**\n",
        "\n",
        "**Definition**: Parameters are the variables defined in the function declaration. They act as placeholders for the values that will be passed to the function when it is called.\n",
        "\n",
        "**Example**:"
      ],
      "metadata": {
        "id": "G7c7KlKZ-KMY"
      }
    },
    {
      "cell_type": "code",
      "source": [
        "def greet(name):  # 'name' is a parameter\n",
        "    print(\"Hello\", name)\n",
        "greet(\"Patty\")\n",
        "\n"
      ],
      "metadata": {
        "id": "Ny3T9K1P-sWb",
        "colab": {
          "base_uri": "https://localhost:8080/"
        },
        "outputId": "53a0c146-73d6-4d41-c7e2-ee0a335382a2"
      },
      "execution_count": null,
      "outputs": [
        {
          "output_type": "stream",
          "name": "stdout",
          "text": [
            "Hello Patty\n"
          ]
        }
      ]
    },
    {
      "cell_type": "markdown",
      "source": [
        "**Arguments**\n",
        "\n",
        "**Definition**: Arguments are the actual values you pass to the function when you call it. These values are assigned to the corresponding parameters in the function.\n",
        "\n",
        "**Example**:"
      ],
      "metadata": {
        "id": "ZVsxuaVn-wwz"
      }
    },
    {
      "cell_type": "code",
      "source": [
        "greet(\"Alice\")  # \"Alice\" is an argument\n"
      ],
      "metadata": {
        "id": "BaetR98X-2gd",
        "colab": {
          "base_uri": "https://localhost:8080/"
        },
        "outputId": "c216e7b4-e320-484f-ecd9-637825b584cc"
      },
      "execution_count": null,
      "outputs": [
        {
          "output_type": "stream",
          "name": "stdout",
          "text": [
            "Hello Alice\n"
          ]
        }
      ]
    },
    {
      "cell_type": "markdown",
      "source": [
        "**Types of Arguments**\n",
        "\n",
        "**1. Positional Arguments**: These are the most common type and must be provided in the same order as the parameters.\n"
      ],
      "metadata": {
        "id": "kGu5k2O2-5lm"
      }
    },
    {
      "cell_type": "code",
      "source": [
        "def add(a, b):\n",
        "    return a + b\n",
        "add(2, 3)  # 2 and 3 are positional arguments\n"
      ],
      "metadata": {
        "id": "7LcrdRVn_CaC",
        "colab": {
          "base_uri": "https://localhost:8080/"
        },
        "outputId": "fe74f3a8-e716-4b71-b7c5-e6d5e9f9c76f"
      },
      "execution_count": null,
      "outputs": [
        {
          "output_type": "execute_result",
          "data": {
            "text/plain": [
              "5"
            ]
          },
          "metadata": {},
          "execution_count": 13
        }
      ]
    },
    {
      "cell_type": "markdown",
      "source": [
        "**2. Keyword Argument**s: You can specify arguments by name, allowing you to pass them in any order."
      ],
      "metadata": {
        "id": "pRN-yOWS_Ein"
      }
    },
    {
      "cell_type": "code",
      "source": [
        "def describe_person(Name, age):\n",
        "    return (f\" {Name} is, {age} years old.\")\n",
        "describe_person(Name=\"Patty\",age=32)"
      ],
      "metadata": {
        "id": "t7zk0Gsn_Mat",
        "colab": {
          "base_uri": "https://localhost:8080/",
          "height": 35
        },
        "outputId": "7bab9983-157d-4ce6-c16d-1240adbb096d"
      },
      "execution_count": null,
      "outputs": [
        {
          "output_type": "execute_result",
          "data": {
            "text/plain": [
              "' Patty is, 32 years old.'"
            ],
            "application/vnd.google.colaboratory.intrinsic+json": {
              "type": "string"
            }
          },
          "metadata": {},
          "execution_count": 4
        }
      ]
    },
    {
      "cell_type": "markdown",
      "source": [
        "**3. Default Arguments**: You can provide default values for parameters, making them optional when calling the function."
      ],
      "metadata": {
        "id": "qDvNb2BW_PWA"
      }
    },
    {
      "cell_type": "code",
      "source": [
        "def multiply(x, y=2):  # y has a default value of 2\n",
        "    return x * y\n",
        "multiply(5)\n"
      ],
      "metadata": {
        "id": "-H9EyO7I_Ur4",
        "colab": {
          "base_uri": "https://localhost:8080/"
        },
        "outputId": "32febb76-5512-4d02-b804-f47dbf46439b"
      },
      "execution_count": null,
      "outputs": [
        {
          "output_type": "execute_result",
          "data": {
            "text/plain": [
              "10"
            ]
          },
          "metadata": {},
          "execution_count": 11
        }
      ]
    },
    {
      "cell_type": "markdown",
      "source": [
        "**4. Variable-length Arguments**: You can use args and kwargs to allow for a variable number of positional and keyword arguments, respectively."
      ],
      "metadata": {
        "id": "qIMkJ_OA_fKS"
      }
    },
    {
      "cell_type": "code",
      "source": [
        "def sum_all(*args):  # Accepts any number of positional arguments\n",
        "    return sum(args)\n",
        "sum_all(1,2,3,4,5,6,7)"
      ],
      "metadata": {
        "id": "tJ9qEhPq_iW_",
        "colab": {
          "base_uri": "https://localhost:8080/"
        },
        "outputId": "139fe823-1449-4578-fa34-39a14579f4ea"
      },
      "execution_count": null,
      "outputs": [
        {
          "output_type": "execute_result",
          "data": {
            "text/plain": [
              "28"
            ]
          },
          "metadata": {},
          "execution_count": 6
        }
      ]
    },
    {
      "cell_type": "code",
      "source": [
        "def print_student_info(**kwargs):\n",
        "    for key, value in kwargs.items():\n",
        "        print(f\"{key}: {value}\")\n",
        "print_student_info(name=\"Alice\", age=20, major=\"Computer Science\")\n"
      ],
      "metadata": {
        "colab": {
          "base_uri": "https://localhost:8080/"
        },
        "id": "AjD-bgu5GW72",
        "outputId": "167b34dc-7350-4398-d364-47e9779c94fe"
      },
      "execution_count": null,
      "outputs": [
        {
          "output_type": "stream",
          "name": "stdout",
          "text": [
            "name: Alice\n",
            "age: 20\n",
            "major: Computer Science\n"
          ]
        }
      ]
    },
    {
      "cell_type": "markdown",
      "source": [
        "**Q3. WHAT ARE THE DIFFERENT WAYS TO DEFINE AND CALL A FUNCTION IN PYTHON?**\n",
        "\n",
        "**Ans**. In Python, there are several ways to define and call functions, each with its own syntax and use cases. Here’s an overview of the different methods:\n",
        "\n",
        "**1. Standard Function Definition**\n",
        "\n",
        "You can define a standard function using the def keyword.\n",
        "\n",
        "**Definition**:"
      ],
      "metadata": {
        "id": "pUVF0J8Z_qmC"
      }
    },
    {
      "cell_type": "code",
      "source": [
        "def add(a, b):\n",
        "    return a + b\n"
      ],
      "metadata": {
        "id": "C2q0W2FEFr1R"
      },
      "execution_count": null,
      "outputs": []
    },
    {
      "cell_type": "markdown",
      "source": [
        "**Call:**"
      ],
      "metadata": {
        "id": "m_75Ksz4FtNb"
      }
    },
    {
      "cell_type": "code",
      "source": [
        "result = add(3, 5)\n"
      ],
      "metadata": {
        "id": "fHYj_-j5F0PP"
      },
      "execution_count": null,
      "outputs": []
    },
    {
      "cell_type": "markdown",
      "source": [
        "**2. Function with Default Parameters**\n",
        "\n",
        "You can provide default values for parameters, making them optional when calling the function.\n",
        "\n",
        "**Definition:**"
      ],
      "metadata": {
        "id": "Ouy9MPwXF2Ol"
      }
    },
    {
      "cell_type": "code",
      "source": [
        "def greet(name=\"Guest\"):\n",
        "  return f\"Hello, {name}!\"\n"
      ],
      "metadata": {
        "id": "7NqWVPr1F7N1"
      },
      "execution_count": null,
      "outputs": []
    },
    {
      "cell_type": "markdown",
      "source": [
        "**Call**"
      ],
      "metadata": {
        "id": "wE7BcWzFF9Td"
      }
    },
    {
      "cell_type": "code",
      "source": [
        "greet()        # Uses default value\n",
        "greet(\"Alice\")   # Uses provided argument\n"
      ],
      "metadata": {
        "id": "RPng1LcXF9oL"
      },
      "execution_count": null,
      "outputs": []
    },
    {
      "cell_type": "markdown",
      "source": [
        "**3. Variable-length Arguments**\n",
        "\n",
        "You can use args to accept a variable number of positional arguments, and\n",
        "kwargs for a variable number of keyword arguments.\n",
        "\n",
        "**Definition:**"
      ],
      "metadata": {
        "id": "ThF9PzEjGQZq"
      }
    },
    {
      "cell_type": "code",
      "source": [
        "def sum_all(*args):\n",
        "    return args\n",
        "\n",
        "def print_info(**kwargs):\n",
        "    for key, value in kwargs.items():\n",
        "        print(f\"{key}: {value}\")\n"
      ],
      "metadata": {
        "id": "J0zvZjhVG1SW"
      },
      "execution_count": null,
      "outputs": []
    },
    {
      "cell_type": "markdown",
      "source": [
        "**Call:**"
      ],
      "metadata": {
        "id": "GRZ98zUGHSeX"
      }
    },
    {
      "cell_type": "code",
      "source": [
        "sum_all(1, 2, 3)           # Calls with multiple arguments\n",
        "print_info(name=\"Alice\", age=30)    # Calls with keyword arguments\n"
      ],
      "metadata": {
        "id": "yVo0VJa7X29d"
      },
      "execution_count": null,
      "outputs": []
    },
    {
      "cell_type": "markdown",
      "source": [
        "**4. Lambda Functions**\n",
        "\n",
        "You can define small, anonymous functions using the lambda keyword. These are often used for short operations or in functional programming contexts.\n",
        "\n",
        "**Definition:**"
      ],
      "metadata": {
        "id": "SseX7kovHbyC"
      }
    },
    {
      "cell_type": "code",
      "source": [
        "multiply = lambda x, y: x * y\n"
      ],
      "metadata": {
        "id": "Qpqq8id8HqK3"
      },
      "execution_count": null,
      "outputs": []
    },
    {
      "cell_type": "markdown",
      "source": [
        "**Call:**"
      ],
      "metadata": {
        "id": "rVB396DAHss4"
      }
    },
    {
      "cell_type": "code",
      "source": [
        "multiply(4, 5)\n"
      ],
      "metadata": {
        "id": "_aNtW4BTHs33",
        "colab": {
          "base_uri": "https://localhost:8080/"
        },
        "outputId": "e9d270e3-a0be-41f9-9109-bbed6601fc10"
      },
      "execution_count": null,
      "outputs": [
        {
          "output_type": "execute_result",
          "data": {
            "text/plain": [
              "20"
            ]
          },
          "metadata": {},
          "execution_count": 12
        }
      ]
    },
    {
      "cell_type": "markdown",
      "source": [
        "**Q4. WHAT IS THE PURPOSE OF THE 'RETURN' STATEMENT IN PYTHON?**\n",
        "\n",
        "**Ans.** The return statement in Python serves several important purposes within a function:\n",
        "\n",
        "**1. Exiting a Function**\n",
        "\n",
        "The return statement immediately terminates the function's execution. Once return is encountered, the function stops running, and control is passed back to the caller.\n",
        "\n",
        "**2. Returning Values**\n",
        "\n",
        "The return statement allows a function to send a value back to the caller. This value can be of any data type (e.g., integers, strings, lists, objects).\n",
        "\n",
        "Example:"
      ],
      "metadata": {
        "id": "0wVVEEtKIXuI"
      }
    },
    {
      "cell_type": "code",
      "source": [
        "def add(a, b):\n",
        "    return a + b  # Returns the sum of a and b\n",
        "\n",
        "add(3, 5)\n"
      ],
      "metadata": {
        "id": "j7h8UefwI6MS",
        "colab": {
          "base_uri": "https://localhost:8080/"
        },
        "outputId": "76b71ebc-23e1-48f9-baeb-32b26864444c"
      },
      "execution_count": null,
      "outputs": [
        {
          "output_type": "execute_result",
          "data": {
            "text/plain": [
              "8"
            ]
          },
          "metadata": {},
          "execution_count": 18
        }
      ]
    },
    {
      "cell_type": "markdown",
      "source": [
        "**3. Returning Multiple Values**\n",
        "\n",
        "You can return multiple values from a function as a tuple by separating them with commas. The caller can then unpack the values.\n",
        "\n",
        "Example:"
      ],
      "metadata": {
        "id": "2LxmMcXgI8GF"
      }
    },
    {
      "cell_type": "code",
      "source": [
        "def calculate(a, b):\n",
        "    sum_value = a + b\n",
        "    product_value = a * b\n",
        "    return sum_value, product_value  # Returns both values as a tuple\n",
        "\n",
        "calculate(3, 5)  # total is 8, product is 15\n"
      ],
      "metadata": {
        "id": "j-KAXrxbJBVK",
        "colab": {
          "base_uri": "https://localhost:8080/"
        },
        "outputId": "beff7d2c-2d63-41f3-b54d-e34bf56adb2d"
      },
      "execution_count": null,
      "outputs": [
        {
          "output_type": "execute_result",
          "data": {
            "text/plain": [
              "(8, 15)"
            ]
          },
          "metadata": {},
          "execution_count": 19
        }
      ]
    },
    {
      "cell_type": "markdown",
      "source": [
        "**4. Returning None**\n",
        "\n",
        "If no value is specified after the return keyword, or if the return statement is omitted, the function returns None by default.\n",
        "\n",
        "Example:"
      ],
      "metadata": {
        "id": "wNVUmdn7JIAo"
      }
    },
    {
      "cell_type": "code",
      "source": [
        "def do_nothing():\n",
        "    return  # Implicitly returns None\n",
        "\n",
        "do_nothing()  # result will be None\n"
      ],
      "metadata": {
        "id": "CZPSI9fNJL_B"
      },
      "execution_count": null,
      "outputs": []
    },
    {
      "cell_type": "markdown",
      "source": [
        "**5. Conditional Returns**\n",
        "\n",
        "You can use return statements within conditional statements to return different values based on certain conditions.\n",
        "\n",
        "Example:"
      ],
      "metadata": {
        "id": "zumthS9hJNiM"
      }
    },
    {
      "cell_type": "code",
      "source": [
        "def check_number(n):\n",
        "    if n > 0:\n",
        "        return \"Positive\"\n",
        "    elif n < 0:\n",
        "        return \"Negative\"\n",
        "    else:\n",
        "        return \"Zero\"\n",
        "\n",
        "check_number(n=12)\n"
      ],
      "metadata": {
        "id": "bDGBiNc5JUND",
        "colab": {
          "base_uri": "https://localhost:8080/",
          "height": 35
        },
        "outputId": "bcf8d401-a984-490b-9171-f9150ded278f"
      },
      "execution_count": null,
      "outputs": [
        {
          "output_type": "execute_result",
          "data": {
            "text/plain": [
              "'Positive'"
            ],
            "application/vnd.google.colaboratory.intrinsic+json": {
              "type": "string"
            }
          },
          "metadata": {},
          "execution_count": 21
        }
      ]
    },
    {
      "cell_type": "markdown",
      "source": [
        "**Q5. WHAT ARE THE ITERATORS IN PYTHON AND HOW DO THEY DIFFER FROM ITERABLES?**\n",
        "\n",
        "**Ans:** In Python, Iterables are objects that can be iterated over, while iterators are the objects that perform the iteration, keeping track of where they are in the sequence.\n",
        "\n",
        "An iterable can create an iterator, but an iterator is a specific type of object that provides access to its values one at a time.\n",
        "\n",
        "**Iterables**\n",
        "\n",
        "**Definition:** An iterable is any Python object that can be looped over (iterated) using a for loop or by passing it to functions like list(), tuple(), or set(). Common examples include lists, tuples, dictionaries, sets, and strings.\n",
        "\n",
        "**Key Feature:** An iterable implements the __iter__() method, which returns an iterator.\n",
        "\n",
        "**Example:**"
      ],
      "metadata": {
        "id": "Jhz-BbffJZDo"
      }
    },
    {
      "cell_type": "code",
      "source": [
        "my_list = [1, 2, 3]  # A list is iterable\n",
        "for item in my_list:\n",
        "    print(item)\n"
      ],
      "metadata": {
        "id": "9oKHxFrAKJ7N"
      },
      "execution_count": null,
      "outputs": []
    },
    {
      "cell_type": "markdown",
      "source": [
        "**Iterators**\n",
        "\n",
        "**Definition:** An iterator is an object that represents a stream of data; it produces values one at a time and keeps track of its current position in the iteration. An iterator implements two methods: __iter__() and __next__().\n",
        "\n",
        "**Key Features:**\n",
        "\n",
        "The __iter__() method returns the iterator object itself.\n",
        "\n",
        "The __next__() method returns the next value from the iterator. If there are no more items to return, it raises a StopIteration exception.\n",
        "\n",
        "Example:\n"
      ],
      "metadata": {
        "id": "1ZdexuXQKLS3"
      }
    },
    {
      "cell_type": "code",
      "source": [
        "my_list = [1, 2, 3]\n",
        "iterator = iter(my_list)  # Creates an iterator from the list\n",
        "\n",
        "next(iterator)\n"
      ],
      "metadata": {
        "id": "IW-6l7dvKZIA",
        "colab": {
          "base_uri": "https://localhost:8080/"
        },
        "outputId": "ade156d4-1686-4a70-cbdf-915562a6da6d"
      },
      "execution_count": null,
      "outputs": [
        {
          "output_type": "execute_result",
          "data": {
            "text/plain": [
              "1"
            ]
          },
          "metadata": {},
          "execution_count": 22
        }
      ]
    },
    {
      "cell_type": "code",
      "source": [
        "next(iterator)"
      ],
      "metadata": {
        "colab": {
          "base_uri": "https://localhost:8080/"
        },
        "id": "ID7sT3Dek1x6",
        "outputId": "759ffc3e-579a-495f-e014-7c4b836d4ca5"
      },
      "execution_count": null,
      "outputs": [
        {
          "output_type": "execute_result",
          "data": {
            "text/plain": [
              "2"
            ]
          },
          "metadata": {},
          "execution_count": 23
        }
      ]
    },
    {
      "cell_type": "code",
      "source": [
        "next(iterator)"
      ],
      "metadata": {
        "colab": {
          "base_uri": "https://localhost:8080/"
        },
        "id": "oMPAI4Ywk5-Q",
        "outputId": "79d13997-acaf-4b9a-b7c3-a133d92f8dff"
      },
      "execution_count": null,
      "outputs": [
        {
          "output_type": "execute_result",
          "data": {
            "text/plain": [
              "3"
            ]
          },
          "metadata": {},
          "execution_count": 24
        }
      ]
    },
    {
      "cell_type": "markdown",
      "source": [
        "**Q6. EXPLAIN THE CONCEPT OF GENERATORS IN PYTHON AND HOW THEY ARE DEFINED.**\n",
        "\n",
        "**Ans.** Generators are a simple way to create iterators using functions and the yield keyword instead of returning values.\n",
        "\n",
        "Generators in Python are a type of iterable that allows you to create an iterator in a very concise and efficient way. They are particularly useful for handling large datasets or streams of data because they yield items one at a time, rather than generating all items at once and storing them in memory.\n",
        "\n",
        "**Key Concepts of Generators**\n",
        "\n",
        "**1. Lazy Evaluation**: Generators produce values on-the-fly and only when requested, which means they use memory more efficiently than regular functions that return lists or other collections.\n",
        "\n",
        "**2. State Preservation**: When a generator function is called, its state is preserved between calls. Each time the generator's __next__() method is called, execution resumes right after the last yield statement.\n",
        "\n",
        "**3. Simplicity**: Generators can simplify your code by allowing you to define a sequence of values without the need for explicit iterator classes.\n",
        "\n",
        "**Using a Generator**\n",
        "\n",
        "You can use the generator in a loop or retrieve values one at a time:\n",
        "\n",
        "**Example of Using the Generator:**"
      ],
      "metadata": {
        "id": "2qGOXZqcKtTn"
      }
    },
    {
      "cell_type": "code",
      "source": [
        "def sq_no(n):\n",
        "  for i in range(n):\n",
        "    yield i**2\n",
        "sq_no(3)"
      ],
      "metadata": {
        "colab": {
          "base_uri": "https://localhost:8080/"
        },
        "id": "Lle2dH_NMS9R",
        "outputId": "5e522ccd-71d9-4b0b-c5df-9eac19b68075"
      },
      "execution_count": null,
      "outputs": [
        {
          "output_type": "execute_result",
          "data": {
            "text/plain": [
              "<generator object sq_no at 0x7cb69afb7680>"
            ]
          },
          "metadata": {},
          "execution_count": 25
        }
      ]
    },
    {
      "cell_type": "code",
      "source": [
        "gen=sq_no(10)\n",
        "next(gen)"
      ],
      "metadata": {
        "colab": {
          "base_uri": "https://localhost:8080/"
        },
        "id": "ZwSxjZJdlmCr",
        "outputId": "87f1259b-8490-45e7-c193-59bd8e455b39"
      },
      "execution_count": null,
      "outputs": [
        {
          "output_type": "execute_result",
          "data": {
            "text/plain": [
              "0"
            ]
          },
          "metadata": {},
          "execution_count": 26
        }
      ]
    },
    {
      "cell_type": "code",
      "source": [
        "next(gen)"
      ],
      "metadata": {
        "colab": {
          "base_uri": "https://localhost:8080/"
        },
        "id": "sJ3-C-cnlwe_",
        "outputId": "22b06a55-8277-4267-b5b9-4f54e1c339bb"
      },
      "execution_count": null,
      "outputs": [
        {
          "output_type": "execute_result",
          "data": {
            "text/plain": [
              "1"
            ]
          },
          "metadata": {},
          "execution_count": 27
        }
      ]
    },
    {
      "cell_type": "code",
      "source": [
        "next(gen)"
      ],
      "metadata": {
        "colab": {
          "base_uri": "https://localhost:8080/"
        },
        "id": "YvpStpTclyZO",
        "outputId": "1133e545-82b4-47bc-ba25-3769651b3c97"
      },
      "execution_count": null,
      "outputs": [
        {
          "output_type": "execute_result",
          "data": {
            "text/plain": [
              "4"
            ]
          },
          "metadata": {},
          "execution_count": 28
        }
      ]
    },
    {
      "cell_type": "code",
      "source": [
        "next(gen)"
      ],
      "metadata": {
        "colab": {
          "base_uri": "https://localhost:8080/"
        },
        "id": "BQYcJZZol1vj",
        "outputId": "13e074b7-32cb-4301-81e0-d77a7d1de944"
      },
      "execution_count": null,
      "outputs": [
        {
          "output_type": "execute_result",
          "data": {
            "text/plain": [
              "9"
            ]
          },
          "metadata": {},
          "execution_count": 29
        }
      ]
    },
    {
      "cell_type": "markdown",
      "source": [
        "**Q7. WHAT ARE THE ADVANTAGES OF USING GENERATORS OVER REGULAR FUNCTIONS ?**\n",
        "\n",
        "**Ans**. Generators offer several advantages over regular functions, especially when dealing with large datasets or streams of data.\n",
        "\n",
        "Here are some key benefits:\n",
        "\n",
        "1. Regular functions return a single value and occupy memory for all their data. Generators, on the other hand, yield one item at a time, which means they don’t need to store the entire output in memory.\n",
        "\n"
      ],
      "metadata": {
        "id": "fgLv1MKCl6IJ"
      }
    },
    {
      "cell_type": "code",
      "source": [
        "def large_sequence(n):\n",
        "    for i in range(n):\n",
        "        yield i  # Generates one value at a time\n",
        "\n",
        "gen = large_sequence(1000000)  # Uses minimal memory\n"
      ],
      "metadata": {
        "id": "ANiZ6Kshm0PI"
      },
      "execution_count": null,
      "outputs": []
    },
    {
      "cell_type": "markdown",
      "source": [
        "2. Generators can start producing values immediately, rather than waiting for the entire output to be computed. This can lead to quicker access to the first few results.Since they yield results one at a time, generators can be more efficient when dealing with streams of data or infinite sequences.\n",
        "\n",
        "3. Generators can easily represent infinite sequences, such as all even numbers or Fibonacci numbers, without the risk of running out of memory.\n"
      ],
      "metadata": {
        "id": "3BBALmPem48S"
      }
    },
    {
      "cell_type": "code",
      "source": [
        "def fib(n):\n",
        "    a = 0\n",
        "    b = 1\n",
        "    for i in range(n): #if n=5, 0, 1, 2, 3, 4\n",
        "        yield a\n",
        "        a,b=b,a+b\n"
      ],
      "metadata": {
        "id": "8hOwwJignFYj"
      },
      "execution_count": null,
      "outputs": []
    },
    {
      "cell_type": "code",
      "source": [
        "f = fib(10000000000000)\n",
        "f"
      ],
      "metadata": {
        "colab": {
          "base_uri": "https://localhost:8080/"
        },
        "id": "-lxG2USznrna",
        "outputId": "fb90909b-77dd-4b29-a760-063d4adf2f30"
      },
      "execution_count": null,
      "outputs": [
        {
          "output_type": "execute_result",
          "data": {
            "text/plain": [
              "<generator object fib at 0x7cb6867b98c0>"
            ]
          },
          "metadata": {},
          "execution_count": 44
        }
      ]
    },
    {
      "cell_type": "code",
      "source": [
        "next(f)"
      ],
      "metadata": {
        "colab": {
          "base_uri": "https://localhost:8080/"
        },
        "id": "pHLFyq7cofI8",
        "outputId": "33ea81dd-a8de-4519-fb35-f94322d54ff0"
      },
      "execution_count": null,
      "outputs": [
        {
          "output_type": "execute_result",
          "data": {
            "text/plain": [
              "0"
            ]
          },
          "metadata": {},
          "execution_count": 45
        }
      ]
    },
    {
      "cell_type": "code",
      "source": [
        "next(f)"
      ],
      "metadata": {
        "colab": {
          "base_uri": "https://localhost:8080/"
        },
        "id": "bxuPo4a5ogeB",
        "outputId": "3b3e9aa3-1329-4509-e99c-c6466e25b5bc"
      },
      "execution_count": null,
      "outputs": [
        {
          "output_type": "execute_result",
          "data": {
            "text/plain": [
              "1"
            ]
          },
          "metadata": {},
          "execution_count": 46
        }
      ]
    },
    {
      "cell_type": "code",
      "source": [
        "next(f)"
      ],
      "metadata": {
        "colab": {
          "base_uri": "https://localhost:8080/"
        },
        "id": "XZ00YeNqoiIx",
        "outputId": "8b4836b2-5c52-4b1f-f281-e099c27dd102"
      },
      "execution_count": null,
      "outputs": [
        {
          "output_type": "execute_result",
          "data": {
            "text/plain": [
              "1"
            ]
          },
          "metadata": {},
          "execution_count": 47
        }
      ]
    },
    {
      "cell_type": "code",
      "source": [
        "next(f)"
      ],
      "metadata": {
        "colab": {
          "base_uri": "https://localhost:8080/"
        },
        "id": "aMhDPsFeolE2",
        "outputId": "f61d3c47-2b0b-4788-a350-8fa82ac5335d"
      },
      "execution_count": null,
      "outputs": [
        {
          "output_type": "execute_result",
          "data": {
            "text/plain": [
              "2"
            ]
          },
          "metadata": {},
          "execution_count": 48
        }
      ]
    },
    {
      "cell_type": "markdown",
      "source": [
        "**Q8. WHAT IS A LAMBDA FUNCTION IN PYTHON AND WHEN IT IS TYPICALLY USED?**\n",
        "\n",
        "**Ans**. A lambda function in Python is a small, anonymous function defined using the lambda keyword. It can take any number of arguments but can only have one expression.\n",
        "\n",
        " **The syntax is:**\n",
        "\n",
        " lambda arguments: expression\n",
        "\n",
        " **Uses of Lambda Functions:**\n",
        "\n",
        "1. **Short, Throwaway Functions**: When you need a simple function for a short period and don't want to formally define it using def.\n",
        "\n",
        "2. **Sorting**: Used as a key function in sorting operations.\n"
      ],
      "metadata": {
        "id": "nIPZzir7oy7F"
      }
    },
    {
      "cell_type": "code",
      "source": [
        "x=[\"Network\",\"Zip\",\"Ajay\"]\n",
        "sorted(x,key=lambda x:len(x))            #Sorting based on the length of element in the list"
      ],
      "metadata": {
        "colab": {
          "base_uri": "https://localhost:8080/"
        },
        "id": "bo8PWahupxTR",
        "outputId": "c0995199-fc0a-4f82-ed31-56d9c6909413"
      },
      "execution_count": null,
      "outputs": [
        {
          "output_type": "execute_result",
          "data": {
            "text/plain": [
              "['Zip', 'Ajay', 'Network']"
            ]
          },
          "metadata": {},
          "execution_count": 50
        }
      ]
    },
    {
      "cell_type": "markdown",
      "source": [
        "3. **Functional Programming**: Often used in functions like map(), filter(), and reduce(), where you need to apply a function to a sequence of data.\n",
        "\n",
        "Example with map():"
      ],
      "metadata": {
        "id": "KvpGBZbrq3em"
      }
    },
    {
      "cell_type": "code",
      "source": [
        "numbers = [1, 2, 3, 4]\n",
        "list(map(lambda x: x ** 2, numbers))\n"
      ],
      "metadata": {
        "colab": {
          "base_uri": "https://localhost:8080/"
        },
        "id": "dRrOvj_hslG-",
        "outputId": "77c6a936-8715-4717-e0aa-ccb132864f28"
      },
      "execution_count": null,
      "outputs": [
        {
          "output_type": "execute_result",
          "data": {
            "text/plain": [
              "[1, 4, 9, 16]"
            ]
          },
          "metadata": {},
          "execution_count": 53
        }
      ]
    },
    {
      "cell_type": "markdown",
      "source": [
        "Example with filter():"
      ],
      "metadata": {
        "id": "nkcup98mszDZ"
      }
    },
    {
      "cell_type": "code",
      "source": [
        "list(filter(lambda x: x % 2 == 0, numbers))\n"
      ],
      "metadata": {
        "colab": {
          "base_uri": "https://localhost:8080/"
        },
        "id": "stIycrQGs1tf",
        "outputId": "7549dd63-ad70-4fea-c4f8-fc7b8562995e"
      },
      "execution_count": null,
      "outputs": [
        {
          "output_type": "execute_result",
          "data": {
            "text/plain": [
              "[2, 4]"
            ]
          },
          "metadata": {},
          "execution_count": 54
        }
      ]
    },
    {
      "cell_type": "markdown",
      "source": [
        "**Q9. EXPLAIN THE PURPOSE AND USAGE OF THE MAP() FUNCTION IN PYTHON.**\n",
        "\n",
        "**Ans**. The map() function in Python is designed to apply a specified function to every item in an iterable (like a list, tuple, or string) and return a new iterable (a map object) containing the results. It’s a powerful tool for functional programming and helps streamline data transformation processes.\n",
        "\n",
        "**Purpose**:\n",
        "\n",
        "**Transformation:** map() is primarily used for transforming data, allowing you to perform operations on each element of an iterable efficiently.\n",
        "\n",
        "**Conciseness:** It provides a more concise way to apply a function to an iterable compared to using a loop.\n",
        "\n",
        "**Usage:**"
      ],
      "metadata": {
        "id": "1WNCK53qu0je"
      }
    },
    {
      "cell_type": "code",
      "source": [
        "\n",
        "numbers = [1, 2, 3, 4]\n",
        "\n",
        "\n",
        "list(map(lambda x: x ** 2, numbers))\n"
      ],
      "metadata": {
        "colab": {
          "base_uri": "https://localhost:8080/"
        },
        "id": "4Ex6macBvkgw",
        "outputId": "aed946f9-120f-4029-aa41-d966c7d93a0a"
      },
      "execution_count": null,
      "outputs": [
        {
          "output_type": "execute_result",
          "data": {
            "text/plain": [
              "[1, 4, 9, 16]"
            ]
          },
          "metadata": {},
          "execution_count": 58
        }
      ]
    },
    {
      "cell_type": "markdown",
      "source": [
        "**Q10. EXPLAIN THE PURPOSE AND USADE OF THE MAP(),REDUCE() AND FILTER() FUNCTIONS IN PYTHON.**\n",
        "\n",
        "**Ans.** In Python, map(), reduce(), and filter() are built-in functions that facilitate functional programming allowing to process collections of data in a more concise and expressive way.\n",
        "\n",
        "1. map()\n",
        "\n",
        " map() applies a given function to every item in an iterable (like a list or tuple) and returns a new iterable (a map object, which can be converted to a list).\n",
        "\n",
        "Usage:"
      ],
      "metadata": {
        "id": "WeunjSKytAVA"
      }
    },
    {
      "cell_type": "code",
      "source": [
        "# Example: Squaring each number in a list\n",
        "\n",
        "\n",
        "numbers = [1, 2, 3, 4]\n",
        "list(map(lambda x: x ** 2, numbers))\n",
        "\n"
      ],
      "metadata": {
        "colab": {
          "base_uri": "https://localhost:8080/"
        },
        "id": "V-8JytDJt7H1",
        "outputId": "ad169520-3ec5-4829-a020-5f2a05a05971"
      },
      "execution_count": null,
      "outputs": [
        {
          "output_type": "execute_result",
          "data": {
            "text/plain": [
              "[1, 4, 9, 16]"
            ]
          },
          "metadata": {},
          "execution_count": 59
        }
      ]
    },
    {
      "cell_type": "markdown",
      "source": [
        "2. filter()\n",
        "\n",
        " filter() constructs an iterator from elements of an iterable for which a function returns True. It effectively filters out elements based on a condition.\n",
        "\n",
        "Usage:"
      ],
      "metadata": {
        "id": "_dkSv2R9uB-k"
      }
    },
    {
      "cell_type": "code",
      "source": [
        "# Example: Filtering even numbers from a list\n",
        "\n",
        "\n",
        "numbers = [1, 2, 3, 4]\n",
        "list(filter(lambda x: x % 2 == 0, numbers))\n",
        "\n"
      ],
      "metadata": {
        "colab": {
          "base_uri": "https://localhost:8080/"
        },
        "id": "RcEIU7OvuIVR",
        "outputId": "8937e1ef-a6a0-4772-bd60-d2c8c71d34ba"
      },
      "execution_count": null,
      "outputs": [
        {
          "output_type": "execute_result",
          "data": {
            "text/plain": [
              "[2, 4]"
            ]
          },
          "metadata": {},
          "execution_count": 56
        }
      ]
    },
    {
      "cell_type": "markdown",
      "source": [
        "3. reduce()\n",
        "\n",
        "   reduce() is used to apply a binary function cumulatively to the items of an iterable, from left to right, so as to reduce the iterable to a single cumulative value. Note that reduce() is not a built-in function in Python 3 and needs to be imported from the functools module.\n",
        "\n",
        "Usage:\n",
        "\n"
      ],
      "metadata": {
        "id": "aj919vwfuPmd"
      }
    },
    {
      "cell_type": "code",
      "source": [
        "from functools import reduce\n",
        "\n",
        "# Example: Calculating the product of a list of numbers\n",
        "\n",
        "\n",
        "numbers = [1, 2, 3, 4]\n",
        "reduce(lambda x, y: x * y, numbers)\n",
        "\n"
      ],
      "metadata": {
        "colab": {
          "base_uri": "https://localhost:8080/"
        },
        "id": "i7tFv1KEuYTa",
        "outputId": "da940721-bf0e-441d-8d6f-1f09d95a8c26"
      },
      "execution_count": null,
      "outputs": [
        {
          "output_type": "execute_result",
          "data": {
            "text/plain": [
              "24"
            ]
          },
          "metadata": {},
          "execution_count": 57
        }
      ]
    },
    {
      "cell_type": "markdown",
      "source": [
        "**Q11. WRITE THE INTERNAL MECHANISM OF SUM OPERATION USING REDUCE FUNCTION ON THIS GIVEN LIST:[47,11,42,13]**.\n",
        "\n",
        "**Ans.**\n",
        "\n",
        "![WhatsApp Image 2024-10-20 at 18.40.48.jpeg](data:image/jpeg;base64,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)"
      ],
      "metadata": {
        "id": "urVJDs8-uh6f"
      }
    },
    {
      "cell_type": "code",
      "source": [
        "numbers = [47, 11, 42, 13]\n",
        "reduce(lambda x,y:x+y,numbers)\n"
      ],
      "metadata": {
        "colab": {
          "base_uri": "https://localhost:8080/"
        },
        "id": "FTz4CgCeEU2U",
        "outputId": "2e2e78c1-5a43-4e58-807c-2f05d4de4343"
      },
      "execution_count": 68,
      "outputs": [
        {
          "output_type": "execute_result",
          "data": {
            "text/plain": [
              "113"
            ]
          },
          "metadata": {},
          "execution_count": 68
        }
      ]
    }
  ]
}