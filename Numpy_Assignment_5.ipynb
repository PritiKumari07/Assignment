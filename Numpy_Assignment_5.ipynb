{
  "nbformat": 4,
  "nbformat_minor": 0,
  "metadata": {
    "colab": {
      "provenance": []
    },
    "kernelspec": {
      "name": "python3",
      "display_name": "Python 3"
    },
    "language_info": {
      "name": "python"
    }
  },
  "cells": [
    {
      "cell_type": "markdown",
      "source": [
        "# **THEORITICAL QUESTIONS**\n",
        "\n",
        "\n",
        "\n",
        "\n",
        "\n",
        "**Q1. EXPLAIN THE PURPOSE AND ADVANTAGES OF NUMPY IN SCIENTIFIC COMPUTING AND DATA ANALYSIS. HOW DOES IT ENHANCE PYTHON'S CAPABILITIES FOR NUMERICAL OPERATIONS?**\n",
        "\n",
        "**ANS:** **The primary purposes of NumPy include:**\n",
        "\n",
        "**1. Efficient Data Storage and Manipulation:** NumPy arrays allow for the efficient storage of large amounts of numerical data, which can be processed in bulk.\n",
        "\n",
        "**2. Fast Mathematical Operations:** NumPy includes a wide range of mathematical operations optimized for performance, making it well-suited for computational-heavy tasks.\n",
        "\n",
        "**3. Foundation for Other Libraries:** NumPy serves as a foundation for many other libraries in Python’s scientific ecosystem (like Numpy,Pandas), which rely on its fast, efficient data handling capabilities.\n",
        "\n",
        "\n",
        "**Advantages of NumPy in Scientific Computing and Data Analysis:**\n",
        "\n",
        "**1. Powerful Array and Matrix Capabilities:**\n",
        "\n",
        "* **ndarray:** NumPy's core data structure, ndarray, can represent vectors, matrices, and even higher-dimensional arrays. This enables more complex data manipulation and supports scientific tasks that require multidimensional datasets.\n",
        "\n",
        "* **Broadcasting:** NumPy’s broadcasting feature allows you to perform operations on arrays of different shapes and sizes, which is especially useful for scientific computing where you might need to work with arrays that aren't always the same shape.  \n",
        "\n",
        "\n",
        "\n",
        "**2. Comprehensive Mathematical Functions:**\n",
        "\n",
        "NumPy provides a vast array of mathematical functions for linear algebra, statistics, Fourier transforms, and more. These functions are essential for data analysis and scientific computations, as they eliminate the need for complex, custom implementations.\n",
        "\n",
        "Functions like dot() for matrix multiplication, mean() for averaging, and std() for standard deviation make data analysis tasks straightforward and efficient.\n",
        "\n",
        "**3. Interfacing with Other Languages:**\n",
        "\n",
        "**C and Fortran Interfacing:** NumPy can interface with C and Fortran libraries, which is advantageous for high-performance scientific computing. You can use NumPy with libraries written in these languages, allowing the combination of Python’s ease of use with the speed of compiled languages.\n",
        "\n",
        "**4. Foundation for Machine Learning and Data Science:**\n",
        "\n",
        "Since machine learning algorithms involve heavy mathematical computation on large datasets, NumPy’s capabilities make it essential in this field. Libraries like scikit-learn, TensorFlow, and PyTorch are built on top of NumPy arrays or compatible with them, enabling easy integration of machine learning into data analysis workflows.\n",
        "\n",
        "**NumPy enhances Python's capabilities for Numerical Operations by:**\n",
        "\n",
        "1. Replacing Python Lists with Fast ndarrays:\n",
        "\n",
        "Native Python lists are flexible but not ideal for numerical operations, especially in scientific contexts. NumPy arrays (ndarray) replace lists for numerical data, improving both memory efficiency and speed.\n",
        "\n",
        "2. Optimized Mathematical Operations:\n",
        "\n",
        "With NumPy, mathematical operations can be performed in a highly optimized manner due to its C-based implementation, making computations significantly faster than with standard Python.\n",
        "\n",
        "3. Enabling Complex Calculations:\n",
        "\n",
        "From linear algebra to matrix decompositions and Fourier transforms, NumPy equips Python with the computational tools needed for advanced scientific applications.\n",
        "\n",
        "\n",
        "\n",
        "\n",
        "\n",
        "\n"
      ],
      "metadata": {
        "id": "VEW9kYxAVORB"
      }
    },
    {
      "cell_type": "markdown",
      "source": [
        "**Q2. COMPARE AND CONTRAST np.mean() and np.average() FUNCTIONS IN NUMPY.WHEN WOULD YOU USE ONE OVER OTHER?**\n",
        "\n",
        "**ANS:** In NumPy, both np.mean() and np.average() are used to calculate the average of an array or list of numbers, but they have some differences in functionality and usage.\n",
        "\n",
        "**np.mean():**\n",
        "\n",
        "Calculates the arithmetic mean (or simple average) of the elements in an array. This function operates over the specified axis and doesn’t take weights into account.\n",
        "\n",
        "**np.average():**\n",
        "\n",
        " Also calculates the arithmetic mean, but with the added option of computing a weighted average if weights are provided. When weights are not specified, it behaves similarly to np.mean().\n",
        "\n",
        "\n",
        "**When to Use Each Function**\n",
        "\n",
        "**Use np.mean():**\n",
        "\n",
        "When you need a simple average and no weighting is required.\n",
        "When performance is a priority, and you don’t need any extra features like weight handling.\n",
        "For typical applications where all values contribute equally to the mean, like computing the mean of temperature readings or scores.\n",
        "\n",
        "**Use np.average():**\n",
        "\n",
        "When you need a weighted average, where some elements should have a greater or lesser effect on the result.\n",
        "In applications like finance or physics, where different elements carry different levels of importance. For example, calculating the weighted average return of a portfolio where each asset has a different investment weight.\n",
        "If you want to retrieve the sum of weights along with the average, which np.mean() doesn’t provide.\n"
      ],
      "metadata": {
        "id": "jLN85fb3brLn"
      }
    },
    {
      "cell_type": "markdown",
      "source": [
        "**Q3. DESCRIBE A METHODS FOR REVERSING A NUMPY ARRAY ALONG DIFFERENT AXES. PROVIDE EXAMPLE FOR 1D AND 2D ARRAY.**\n",
        "\n",
        "**ANS:** Reversing a NumPy array along different axes can be done using various methods. The most common techniques include using slicing, the np.flip() function, and np.flipud() / np.fliplr() for 2D arrays. Below are descriptions of these methods along with examples for both 1D and 2D arrays.\n",
        "\n",
        "1. Reversing a 1D Array\n",
        "\n",
        "Method: Slicing\n",
        "\n",
        "You can reverse a 1D array by using slicing with a step of -1.\n",
        "\n",
        "Example:"
      ],
      "metadata": {
        "id": "3z_Kzp2vdUSc"
      }
    },
    {
      "cell_type": "code",
      "source": [
        "import numpy as np\n",
        "\n",
        "\n",
        "array_1d = np.array([1, 2, 3, 4, 5])\n",
        "\n",
        "reversed_array_1d = array_1d[::-1]\n",
        "\n",
        "print(\"Original 1D array:\", array_1d)\n",
        "print(\"Reversed 1D array:\", reversed_array_1d)\n"
      ],
      "metadata": {
        "colab": {
          "base_uri": "https://localhost:8080/"
        },
        "id": "HJT7Oo5tm5yN",
        "outputId": "6325d92b-0339-417b-f185-7c8ecbb0fc97"
      },
      "execution_count": 1,
      "outputs": [
        {
          "output_type": "stream",
          "name": "stdout",
          "text": [
            "Original 1D array: [1 2 3 4 5]\n",
            "Reversed 1D array: [5 4 3 2 1]\n"
          ]
        }
      ]
    },
    {
      "cell_type": "markdown",
      "source": [
        "Method: Using np.flip()\n",
        "\n",
        "You can also use the np.flip() function, which allows for reversing along specified axes (for 1D, it will only reverse the entire array).\n",
        "\n",
        "Example:"
      ],
      "metadata": {
        "id": "gjOU9TpJnF5d"
      }
    },
    {
      "cell_type": "code",
      "source": [
        "\n",
        "reversed_array_1d_flip = np.flip(array_1d)\n",
        "\n",
        "print(\"Reversed 1D array using np.flip():\", reversed_array_1d_flip)\n"
      ],
      "metadata": {
        "colab": {
          "base_uri": "https://localhost:8080/"
        },
        "id": "cMAIHOJPnH6q",
        "outputId": "f3841081-67f8-40cc-8edf-14384cd729f6"
      },
      "execution_count": 2,
      "outputs": [
        {
          "output_type": "stream",
          "name": "stdout",
          "text": [
            "Reversed 1D array using np.flip(): [5 4 3 2 1]\n"
          ]
        }
      ]
    },
    {
      "cell_type": "markdown",
      "source": [
        "2. Reversing a 2D Array\n",
        "\n",
        "Method: Slicing\n",
        "\n",
        "You can reverse a 2D array along different axes using slicing. The axis can be specified by using : for the desired dimensions.\n",
        "\n",
        "Example:"
      ],
      "metadata": {
        "id": "b54N6PpPnRqN"
      }
    },
    {
      "cell_type": "code",
      "source": [
        "\n",
        "array_2d = np.array([[1, 2, 3],\n",
        "                     [4, 5, 6],\n",
        "                     [7, 8, 9]])\n",
        "\n",
        "\n",
        "reversed_array_2d = array_2d[::-1, ::-1]\n",
        "\n",
        "print(\"Original 2D array:\")\n",
        "print(array_2d)\n",
        "print(\"Reversed 2D array:\")\n",
        "print(reversed_array_2d)\n"
      ],
      "metadata": {
        "colab": {
          "base_uri": "https://localhost:8080/"
        },
        "id": "jPh8IrH-nSxa",
        "outputId": "fe3810b2-f125-4435-e18d-4f8ddcc15cb5"
      },
      "execution_count": 3,
      "outputs": [
        {
          "output_type": "stream",
          "name": "stdout",
          "text": [
            "Original 2D array:\n",
            "[[1 2 3]\n",
            " [4 5 6]\n",
            " [7 8 9]]\n",
            "Reversed 2D array:\n",
            "[[9 8 7]\n",
            " [6 5 4]\n",
            " [3 2 1]]\n"
          ]
        }
      ]
    },
    {
      "cell_type": "markdown",
      "source": [
        "Method: Using np.flip()\n",
        "\n",
        "You can use np.flip() to reverse the array along a specific axis:\n",
        "\n",
        "Reversing along axis 0 (rows): Flips the array vertically.\n",
        "Reversing along axis 1 (columns): Flips the array horizontally.\n",
        "\n",
        "Example:"
      ],
      "metadata": {
        "id": "Hrypcd3fnZo0"
      }
    },
    {
      "cell_type": "code",
      "source": [
        "\n",
        "reversed_array_2d_axis0 = np.flip(array_2d, axis=0)\n",
        "\n",
        "\n",
        "reversed_array_2d_axis1 = np.flip(array_2d, axis=1)\n",
        "\n",
        "print(\"Reversed 2D array along axis 0 (rows):\")\n",
        "print(reversed_array_2d_axis0)\n",
        "print(\"Reversed 2D array along axis 1 (columns):\")\n",
        "print(reversed_array_2d_axis1)\n"
      ],
      "metadata": {
        "colab": {
          "base_uri": "https://localhost:8080/"
        },
        "id": "XH5SugJdnd0N",
        "outputId": "4cf4ed8a-ec7f-4279-e5aa-47f8b018f63e"
      },
      "execution_count": 4,
      "outputs": [
        {
          "output_type": "stream",
          "name": "stdout",
          "text": [
            "Reversed 2D array along axis 0 (rows):\n",
            "[[7 8 9]\n",
            " [4 5 6]\n",
            " [1 2 3]]\n",
            "Reversed 2D array along axis 1 (columns):\n",
            "[[3 2 1]\n",
            " [6 5 4]\n",
            " [9 8 7]]\n"
          ]
        }
      ]
    },
    {
      "cell_type": "markdown",
      "source": [
        "**Q4. HOW CAN YOU DETERMINE THE DATA TYPE OF ELEMENTS IN A NUMPY ARRAY? DISCUSS THE IMPORTANCE OF DATA TYPES IN MEMORY MANAGEMENT AND PERFORMANCE.**\n",
        "\n",
        "**ANS:** To determine the data type of elements in a NumPy array, .dtype attribute is used.\n",
        "\n"
      ],
      "metadata": {
        "id": "ZVYhjIltnla8"
      }
    },
    {
      "cell_type": "code",
      "source": [
        "import numpy as np\n",
        "\n",
        "\n",
        "array = np.array([1, 2, 3, 4])\n",
        "\n",
        "array.dtype\n"
      ],
      "metadata": {
        "colab": {
          "base_uri": "https://localhost:8080/"
        },
        "id": "GsymWAnNoUf5",
        "outputId": "527007f8-8961-452c-892c-62a748ac64e5"
      },
      "execution_count": 5,
      "outputs": [
        {
          "output_type": "execute_result",
          "data": {
            "text/plain": [
              "dtype('int64')"
            ]
          },
          "metadata": {},
          "execution_count": 5
        }
      ]
    },
    {
      "cell_type": "markdown",
      "source": [
        "**Importance of Data Types in Memory Management and Performance**\n",
        "\n",
        "\n",
        "1. Memory Efficiency\n",
        "\n",
        "Different data types have different memory requirements. For example, int8 (8-bit integer) requires 1 byte per element, while int64 (64-bit integer) requires 8 bytes per element.\n",
        "Choosing an appropriate data type can save memory, which is especially important when dealing with large datasets.\n",
        "For instance, an array of 1,000,000 elements with int8 data type will consume only 1 MB of memory, whereas an array with int64 will consume 8 MB for the same data.\n",
        "\n",
        "2. Performance Optimization\n",
        "\n",
        "Operations on smaller data types (e.g., int8 or float32) are typically faster than on larger types (e.g., int64 or float64).\n",
        "Choosing a smaller data type can lead to significant performance gains when performing calculations, as less memory needs to be accessed and processed.\n",
        "For example, in applications that require real-time computations (such as signal processing or image processing), using float32 instead of float64 can speed up calculations without significantly affecting accuracy.\n",
        "\n",
        "3. Compatibility and Precision\n",
        "\n",
        "Using the correct data type helps maintain accuracy, especially for floating-point calculations. For instance, float64 provides higher precision than float32, which can be essential for scientific calculations where precision is crucial.\n",
        "Mismatched data types can lead to unexpected results or overflow errors. For instance, if an array of int8 (range -128 to 127) encounters a value beyond this range, it may cause overflow and wrap around, yielding incorrect results.\n",
        "\n",
        "4. Operations and Broadcasting\n",
        "\n",
        "NumPy arrays with different data types can sometimes lead to issues in operations, as arrays of the same data type are required for element-wise operations and broadcasting.\n",
        "Knowing and standardizing the data types across arrays can prevent errors and make computations more straightforward."
      ],
      "metadata": {
        "id": "x9Pg3c0DodTs"
      }
    },
    {
      "cell_type": "markdown",
      "source": [
        "**Q5. DEFINE ndarrays IN NUMPY AND EXPLAIN THEIR KEY FEATURES. HOW DO THEY DIFFERE FROM STANDARD PYTHON LISTS?**\n",
        "\n",
        "**ANS:** An ndarray is an n-dimensional, homogeneous array, meaning that all elements within the array are of the same data type. It can represent data in one dimension (1D), like a list of numbers, or in higher dimensions, such as matrices (2D) or tensors (3D and above).\n",
        "\n",
        "**Key Features of ndarrays**\n",
        "\n",
        "**1. Homogeneous Data Type:**\n",
        "\n",
        "All elements in an ndarray must be of the same data type (e.g., all integers, all floats, or all strings).\n",
        "This consistency allows for efficient storage and quick calculations, as memory layout and element size are predictable.\n",
        "\n",
        "**2. Multidimensional Support:**\n",
        "\n",
        "ndarrays can have multiple dimensions, from 1D (a simple array) to n-dimensional, where n can be any non-negative integer. For example, a 2D ndarray represents a matrix, while a 3D ndarray can represent a tensor.\n",
        "\n",
        "**3. Fixed Size:**\n",
        "\n",
        "Once created, the size (number of elements) of an ndarray is fixed. You can reshape the array but cannot directly change its size.\n",
        "This differs from Python lists, which are dynamically resizable.\n",
        "\n",
        "**4. Efficient Memory Layout:**\n",
        "\n",
        "ndarrays use contiguous memory blocks, which optimizes performance for operations like slicing, accessing, and performing mathematical operations.\n",
        "They store data in a compact form, making them memory-efficient, especially compared to lists of lists in Python.\n",
        "\n",
        "**Differences Between ndarrays and Python Lists**\n",
        "\n",
        "**ndarray\tPython List**\n",
        "\n",
        "*  DATA TYPE: Homogeneous (same data type)\n",
        "*  MEMORY LAYOUT: Contiguous and optimized\n",
        "*  DIMENSIONS: Supports n-dimensions\n",
        "*  PERFORMANCE: Highly optimized for numerical operations\n",
        "\n",
        "\n",
        "**Python List**\n",
        "\n",
        "*  DATA TYPE: Heterogeneous (mixed data types)\n",
        "*  MEMORY LAYOUT: Not contiguous; linked references\n",
        "*  DIMENSIONS: 1D; requires nested lists for 2D+\n",
        "*  PERFORMANCE: Slower for numerical computations\n",
        "\n",
        "\n",
        "\n",
        "\n",
        "\n",
        "\n"
      ],
      "metadata": {
        "id": "rtTo4lQhoxo9"
      }
    },
    {
      "cell_type": "markdown",
      "source": [
        "**Q6. ANALYZE THE PERFORMANCE BENEFITS OF NUMPY ARRAYS OVER PYTHON LISTS FOR LARGE-SCALE NUMERICAL OPERATIONS.**\n",
        "\n",
        "**ANS:** Key Performance Benefits of NumPy Arrays over Python Lists\n",
        "\n",
        "1. Efficient Memory Layout:\n",
        "\n",
        "Fixed Data Type: NumPy arrays are homogeneous, meaning all elements are of the same data type, unlike Python lists, which are heterogeneous and can store elements of different types. This homogeneity allows NumPy arrays to store elements in contiguous blocks of memory, making memory access and retrieval faster.\n",
        "\n",
        "Compact Storage: Because NumPy knows the type of data it is storing, it can allocate just the right amount of memory for each element. For example, an int32 array uses exactly 4 bytes per integer, whereas Python lists use additional memory to store type information and references for each element.\n",
        "\n",
        "2. Vectorized Operations:\n",
        "\n",
        "NumPy supports vectorized operations, meaning that mathematical and logical operations can be applied to entire arrays at once without explicit loops. Python lists, on the other hand, require looping through elements to perform similar operations.\n",
        "\n",
        "Vectorized operations are internally implemented in low-level languages like C, allowing NumPy to perform computations at a much faster speed than Python's interpreted loop-based approach.\n",
        "\n",
        "For example, multiplying each element of a NumPy array by 2 is significantly faster than iterating through a Python list and performing the same operation.\n",
        "\n",
        "3. Broadcasting:\n",
        "\n",
        "Broadcasting is a feature that allows NumPy to perform operations between arrays of different shapes without needing to manually reshape or expand them. This capability reduces the amount of code required and improves performance by minimizing unnecessary data replication.\n",
        "\n",
        "4. Optimized Mathematical and Statistical Functions:\n",
        "NumPy provides a vast library of highly optimized functions for common numerical tasks (e.g., sum, mean, standard deviation), all implemented in lower-level languages like C, which are much faster than their Python equivalents.\n",
        "\n",
        "For instance, calculating the mean of a NumPy array using np.mean() is far quicker than calculating it with a loop over a Python list.\n"
      ],
      "metadata": {
        "id": "GVmHWVvtrRop"
      }
    },
    {
      "cell_type": "markdown",
      "source": [
        "**Q7. COMPARE VSTACK() AND HSTACK() FUNCTIONS IN NUMPY. PROVIDE EXAMPLES DEMONSTRATING THEIR USAGE AND OUTPUT.**\n",
        "\n",
        "**ANS:** The vstack() and hstack() functions in NumPy are used to stack arrays along different axes, enabling you to combine arrays either vertically or horizontally. Here’s a comparison of the two functions, along with examples that demonstrate their usage.\n",
        "\n",
        "**numpy.vstack()**\n",
        "\n",
        "The vstack() function (short for \"vertical stack\") stacks arrays vertically, i.e., along rows. It requires that the arrays have the same number of columns but allows a different number of rows. vstack() can be used with both 1D and 2D arrays, but it will add a new row for each input if they’re 1D arrays.\n",
        "\n",
        "Axis for stacking: Along the first axis (axis=0), which corresponds to rows.\n",
        "\n",
        "Shape compatibility: Arrays must have the same number of columns (second dimension).\n",
        "\n"
      ],
      "metadata": {
        "id": "IcfobyEZtMA4"
      }
    },
    {
      "cell_type": "code",
      "source": [
        "#Example with 1D Arrays:\n",
        "import numpy as np\n",
        "\n",
        "\n",
        "array1 = np.array([1, 2, 3])\n",
        "array2 = np.array([4, 5, 6])\n",
        "\n",
        "\n",
        "result_vstack_1d = np.vstack((array1, array2))\n",
        "print(\"Result of vstack with 1D arrays:\")\n",
        "print(result_vstack_1d)\n"
      ],
      "metadata": {
        "colab": {
          "base_uri": "https://localhost:8080/"
        },
        "id": "1A_BtaLXuDr5",
        "outputId": "1dd67509-6d67-4faa-f0d0-f9438b6932c0"
      },
      "execution_count": 6,
      "outputs": [
        {
          "output_type": "stream",
          "name": "stdout",
          "text": [
            "Result of vstack with 1D arrays:\n",
            "[[1 2 3]\n",
            " [4 5 6]]\n"
          ]
        }
      ]
    },
    {
      "cell_type": "code",
      "source": [
        "#Example with 2D Arrays:\n",
        "\n",
        "\n",
        "array3 = np.array([[1, 2, 3],\n",
        "                   [4, 5, 6]])\n",
        "array4 = np.array([[7, 8, 9],\n",
        "                   [10, 11, 12]])\n",
        "\n",
        "\n",
        "result_vstack_2d = np.vstack((array3, array4))\n",
        "print(\"Result of vstack with 2D arrays:\")\n",
        "print(result_vstack_2d)\n"
      ],
      "metadata": {
        "colab": {
          "base_uri": "https://localhost:8080/"
        },
        "id": "cTo9BEqruKnZ",
        "outputId": "f7bc2957-df68-4bf4-a3a7-f5d3848dc13e"
      },
      "execution_count": 7,
      "outputs": [
        {
          "output_type": "stream",
          "name": "stdout",
          "text": [
            "Result of vstack with 2D arrays:\n",
            "[[ 1  2  3]\n",
            " [ 4  5  6]\n",
            " [ 7  8  9]\n",
            " [10 11 12]]\n"
          ]
        }
      ]
    },
    {
      "cell_type": "markdown",
      "source": [
        "**numpy.hstack()**\n",
        "\n",
        "The hstack() function (short for \"horizontal stack\") stacks arrays horizontally, i.e., along columns. It requires that the arrays have the same number of rows but allows a different number of columns. hstack() can be used with both 1D and 2D arrays, and if the arrays are 1D, they will be combined into a single row.\n",
        "\n",
        "Axis for stacking: Along the second axis (axis=1), which corresponds to columns.\n",
        "\n",
        "Shape compatibility: Arrays must have the same number of rows (first dimension)."
      ],
      "metadata": {
        "id": "V6VImI-gugbf"
      }
    },
    {
      "cell_type": "code",
      "source": [
        "#Example with 1D Arrays:\n",
        "\n",
        "result_hstack_1d = np.hstack((array1, array2))\n",
        "print(\"Result of hstack with 1D arrays:\")\n",
        "print(result_hstack_1d)\n"
      ],
      "metadata": {
        "colab": {
          "base_uri": "https://localhost:8080/"
        },
        "id": "I9zia5V7umWX",
        "outputId": "dbdba7b4-c046-4e3b-b898-8f6d78559fc3"
      },
      "execution_count": 8,
      "outputs": [
        {
          "output_type": "stream",
          "name": "stdout",
          "text": [
            "Result of hstack with 1D arrays:\n",
            "[1 2 3 4 5 6]\n"
          ]
        }
      ]
    },
    {
      "cell_type": "code",
      "source": [
        "#Example with 2D Arrays:\n",
        "\n",
        "\n",
        "array5 = np.array([[1, 2],\n",
        "                   [3, 4]])\n",
        "array6 = np.array([[5, 6],\n",
        "                   [7, 8]])\n",
        "\n",
        "\n",
        "result_hstack_2d = np.hstack((array5, array6))\n",
        "print(\"Result of hstack with 2D arrays:\")\n",
        "print(result_hstack_2d)\n"
      ],
      "metadata": {
        "colab": {
          "base_uri": "https://localhost:8080/"
        },
        "id": "tLzhumVPuuD5",
        "outputId": "fedc60b8-7148-4752-d1fb-863801466cb8"
      },
      "execution_count": 9,
      "outputs": [
        {
          "output_type": "stream",
          "name": "stdout",
          "text": [
            "Result of hstack with 2D arrays:\n",
            "[[1 2 5 6]\n",
            " [3 4 7 8]]\n"
          ]
        }
      ]
    },
    {
      "cell_type": "markdown",
      "source": [
        "**Q8. EXPLAIN THE DIFFERENCES BETWEEN fliplr() and flipud() METHODS IN NUMPY,INCLUDING THEIR EFFECTS ON VARIOUS ARRAY DIMENSIONS.**\n",
        "\n",
        "**ANS:** In NumPy, the fliplr() and flipud() functions are used to reverse the elements of arrays along specific axes. These functions provide simple ways to mirror an array along different dimensions, making them useful in data manipulation and transformation tasks.\n",
        "\n",
        "**numpy.fliplr()**\n",
        "\n",
        "The fliplr() function (short for \"flip left to right\") reverses the elements of an array along the second axis (columns), effectively flipping the array horizontally. It is typically used with 2D arrays or higher-dimensional arrays where there is a second axis to operate on.\n",
        "\n",
        "**Effect:** Flips the array horizontally by reversing the order of columns.\n",
        "Axis: Works along axis 1 (columns).\n",
        "\n",
        "**Requirement:** The array must have at least 2 dimensions; otherwise, fliplr() will raise an error."
      ],
      "metadata": {
        "id": "RDm4S8Wiu2gf"
      }
    },
    {
      "cell_type": "code",
      "source": [
        "#EXAMPLE WITH 2D ARRAY\n",
        "\n",
        "\n",
        "import numpy as np\n",
        "\n",
        "\n",
        "array_2d = np.array([[1, 2, 3],\n",
        "                     [4, 5, 6],\n",
        "                     [7, 8, 9]])\n",
        "\n",
        "\n",
        "result_fliplr = np.fliplr(array_2d)\n",
        "print(\"Original array:\\n\", array_2d)\n",
        "print(\"\\nArray after fliplr:\\n\", result_fliplr)\n"
      ],
      "metadata": {
        "colab": {
          "base_uri": "https://localhost:8080/"
        },
        "id": "zxpIEdK1vlaC",
        "outputId": "7b73d76a-17fa-45c3-cf78-ea83e8e7c4cf"
      },
      "execution_count": 10,
      "outputs": [
        {
          "output_type": "stream",
          "name": "stdout",
          "text": [
            "Original array:\n",
            " [[1 2 3]\n",
            " [4 5 6]\n",
            " [7 8 9]]\n",
            "\n",
            "Array after fliplr:\n",
            " [[3 2 1]\n",
            " [6 5 4]\n",
            " [9 8 7]]\n"
          ]
        }
      ]
    },
    {
      "cell_type": "code",
      "source": [
        "#EXAMPLE WITH 3D ARRAY\n",
        "\n",
        "array_3d = np.array([[[1, 2, 3],\n",
        "                      [4, 5, 6]],\n",
        "\n",
        "                     [[7, 8, 9],\n",
        "                      [10, 11, 12]]])\n",
        "\n",
        "\n",
        "result_fliplr_3d = np.fliplr(array_3d)\n",
        "print(\"Original 3D array:\\n\", array_3d)\n",
        "print(\"\\n3D array after fliplr:\\n\", result_fliplr_3d)\n"
      ],
      "metadata": {
        "colab": {
          "base_uri": "https://localhost:8080/"
        },
        "id": "4tPUyyHovxOs",
        "outputId": "c8bb79da-ed5a-499e-c4d2-20fcb6c55edb"
      },
      "execution_count": 11,
      "outputs": [
        {
          "output_type": "stream",
          "name": "stdout",
          "text": [
            "Original 3D array:\n",
            " [[[ 1  2  3]\n",
            "  [ 4  5  6]]\n",
            "\n",
            " [[ 7  8  9]\n",
            "  [10 11 12]]]\n",
            "\n",
            "3D array after fliplr:\n",
            " [[[ 4  5  6]\n",
            "  [ 1  2  3]]\n",
            "\n",
            " [[10 11 12]\n",
            "  [ 7  8  9]]]\n"
          ]
        }
      ]
    },
    {
      "cell_type": "markdown",
      "source": [
        "**numpy.flipud()**\n",
        "\n",
        "The flipud() function (short for \"flip up to down\") reverses the elements of an array along the first axis (rows), effectively flipping the array vertically. This function is used primarily with 2D arrays or higher-dimensional arrays with at least one row.\n",
        "\n",
        "Effect: Flips the array vertically by reversing the order of rows.\n",
        "Axis: Works along axis 0 (rows).\n",
        "\n",
        "Requirement: Can be applied to any array with at least one dimension."
      ],
      "metadata": {
        "id": "pH-SUA5wv7nv"
      }
    },
    {
      "cell_type": "code",
      "source": [
        "#EXAMPLE WITH 2D ARRAY\n",
        "\n",
        "array_2d = np.array([[1, 2, 3],\n",
        "                     [4, 5, 6],\n",
        "                     [7, 8, 9]])\n",
        "\n",
        "\n",
        "result_flipud = np.flipud(array_2d)\n",
        "print(\"Original array:\\n\", array_2d)\n",
        "print(\"\\nArray after flipud:\\n\", result_flipud)\n"
      ],
      "metadata": {
        "colab": {
          "base_uri": "https://localhost:8080/"
        },
        "id": "D0e4GFAOwPah",
        "outputId": "6bce6ff9-b824-4fda-bf24-79717350f056"
      },
      "execution_count": 12,
      "outputs": [
        {
          "output_type": "stream",
          "name": "stdout",
          "text": [
            "Original array:\n",
            " [[1 2 3]\n",
            " [4 5 6]\n",
            " [7 8 9]]\n",
            "\n",
            "Array after flipud:\n",
            " [[7 8 9]\n",
            " [4 5 6]\n",
            " [1 2 3]]\n"
          ]
        }
      ]
    },
    {
      "cell_type": "code",
      "source": [
        "#EXAMPLE WITH 3D ARRAY\n",
        "\n",
        "# Define a 3D array\n",
        "array_3d = np.array([[[1, 2, 3],\n",
        "                      [4, 5, 6]],\n",
        "\n",
        "                     [[7, 8, 9],\n",
        "                      [10, 11, 12]]])\n",
        "\n",
        "# Apply flipud\n",
        "result_flipud_3d = np.flipud(array_3d)\n",
        "print(\"Original 3D array:\\n\", array_3d)\n",
        "print(\"\\n3D array after flipud:\\n\", result_flipud_3d)\n"
      ],
      "metadata": {
        "colab": {
          "base_uri": "https://localhost:8080/"
        },
        "id": "c_EB6b2SwWs5",
        "outputId": "157e7b5d-1544-45b7-9c2b-989083a31a93"
      },
      "execution_count": 13,
      "outputs": [
        {
          "output_type": "stream",
          "name": "stdout",
          "text": [
            "Original 3D array:\n",
            " [[[ 1  2  3]\n",
            "  [ 4  5  6]]\n",
            "\n",
            " [[ 7  8  9]\n",
            "  [10 11 12]]]\n",
            "\n",
            "3D array after flipud:\n",
            " [[[ 7  8  9]\n",
            "  [10 11 12]]\n",
            "\n",
            " [[ 1  2  3]\n",
            "  [ 4  5  6]]]\n"
          ]
        }
      ]
    },
    {
      "cell_type": "markdown",
      "source": [
        "**Q9. DISCUSS THE FUNTIONALITY OF THE ARRAY _SPLIT() METHOD IN NUMPY.HOW DOES IT HANDLE UNEVEN SPLITS?**\n",
        "\n",
        "**ANS:** The array_split() function divides an array into a specified number of sections or at specified indices along a given axis. If the array cannot be split evenly into the specified sections, array_split() adjusts the splits to ensure each section has as close to the same number of elements as possible.\n",
        "\n",
        "**Handling Uneven Splits**\n",
        "\n",
        "If indices_or_sections is an integer, and the array does not divide evenly into the specified number of splits, array_split() will create some sub-arrays that contain an extra element, if necessary. This ensures that the array is split as evenly as possible, and each resulting sub-array is contiguous.\n",
        "\n",
        "For example, if you have an array of 10 elements and you split it into 3 sections, the first two sections will contain 4 elements, and the last section will contain 2 elements.\n",
        "\n"
      ],
      "metadata": {
        "id": "7UJcCCFtxFd6"
      }
    },
    {
      "cell_type": "markdown",
      "source": [
        "**Q10. EXPLAIN THE CONCEPTS OF VECTORIZATION AND BROADCASTING IN NUMPY. HOW DO THEY CONTRIBUTE TO EFFICIENT ARRAY OPERATIONS?**\n",
        "\n",
        "**ANS:** **Vectorization**\n",
        "\n",
        "Vectorization refers to the process of applying operations directly on entire arrays (or \"vectors\") without needing to loop through individual elements. NumPy’s internal functions are optimized for such vectorized operations, often implemented in lower-level languages (like C or Fortran) for maximum performance.\n",
        "\n",
        "**In vectorization:**\n",
        "\n",
        "1. Operations are applied element-wise on arrays.\n",
        "\n",
        "2. Calculations are parallelized internally, taking advantage of hardware optimizations such as SIMD (Single Instruction, Multiple Data).\n",
        "\n",
        "3. It allows you to perform complex mathematical computations in a single line, making code more concise and readable.\n",
        "\n",
        "\n",
        "**Broadcasting**\n",
        "\n",
        "Broadcasting is a technique that enables NumPy to perform operations on arrays of different shapes and sizes by automatically \"stretching\" one or both arrays to make their shapes compatible. When two arrays are not the same shape, broadcasting makes them compatible by virtually expanding the smaller array (without copying data), so that element-wise operations can be performed.\n",
        "\n",
        "**Broadcasting Rules**\n",
        "\n",
        "1. If arrays have different numbers of dimensions: The smaller array is padded with ones on its left side until both arrays have the same number of dimensions.\n",
        "\n",
        "2. If arrays have the same number of dimensions but different shapes: For each dimension, if the sizes are unequal, the smaller dimension is either:\n",
        "\n",
        "\n",
        "*   Expanded (or \"stretched\") to match the larger dimension, if it is 1.\n",
        "*   Otherwise, the operation fails with a ValueError.\n",
        "\n",
        "Broadcasting allows efficient computation without duplicating data, as NumPy performs operations by virtually expanding the smaller array as needed.\n",
        "\n",
        "\n",
        "**Benefits of Vectorization and Broadcasting**\n",
        "\n",
        "1. Performance Optimization:\n",
        "\n",
        "Vectorized and broadcasted operations avoid explicit loops, making computations much faster.\n",
        "Both techniques leverage low-level, optimized C code, resulting in faster execution compared to pure Python loops.\n",
        "\n",
        "2. Memory Efficiency:\n",
        "\n",
        "Broadcasting avoids unnecessary duplication of data, as NumPy doesn’t create multiple copies of the smaller array.\n",
        "These techniques allow for efficient use of memory, which is especially beneficial when working with large datasets.\n",
        "\n",
        "3. Readable and Concise Code:\n",
        "\n",
        "Vectorization and broadcasting allow complex array operations to be expressed in a single line of code, improving readability and reducing the chance of errors.\n",
        "\n",
        "4. Parallel Processing:\n",
        "\n",
        "These operations can take advantage of hardware-level parallelism, such as multi-core CPUs or GPUs, for faster computation.\n"
      ],
      "metadata": {
        "id": "Ss2whXguyn62"
      }
    },
    {
      "cell_type": "markdown",
      "source": [
        "# **PRACTICAL QUESTIONS**\n",
        "\n",
        "\n",
        "Q1. CREATE A 3*3 NUMPY ARRAY WITH RANDOM INTEGERS BETWEEN 1 AND 100. THEN INTERCHANGE ITS ROWS AND COLUMNS."
      ],
      "metadata": {
        "id": "PAepcM3c0PyU"
      }
    },
    {
      "cell_type": "code",
      "source": [
        "import numpy as np\n",
        "\n",
        "array = np.random.randint(1, 100, size=(3, 3))\n",
        "array\n"
      ],
      "metadata": {
        "colab": {
          "base_uri": "https://localhost:8080/"
        },
        "id": "zrS88oJO42bk",
        "outputId": "1bac7d10-7d10-4ff8-8a47-7f2c0f9e32dd"
      },
      "execution_count": 29,
      "outputs": [
        {
          "output_type": "execute_result",
          "data": {
            "text/plain": [
              "array([[30, 24, 18],\n",
              "       [37, 88, 80],\n",
              "       [95, 27, 63]])"
            ]
          },
          "metadata": {},
          "execution_count": 29
        }
      ]
    },
    {
      "cell_type": "code",
      "source": [
        "array.T"
      ],
      "metadata": {
        "colab": {
          "base_uri": "https://localhost:8080/"
        },
        "id": "TMUeko5d5EYj",
        "outputId": "b7909e06-5710-4281-a3b0-02b9ccc68712"
      },
      "execution_count": 30,
      "outputs": [
        {
          "output_type": "execute_result",
          "data": {
            "text/plain": [
              "array([[30, 37, 95],\n",
              "       [24, 88, 27],\n",
              "       [18, 80, 63]])"
            ]
          },
          "metadata": {},
          "execution_count": 30
        }
      ]
    },
    {
      "cell_type": "markdown",
      "source": [
        "Q2. GENERATE A 1D NUMPY ARRAY WITH 10 ELEMENTS. RESHAPE IT INTO A 2*5 ARRAY, THEN INTO A 5*2 ARRAY."
      ],
      "metadata": {
        "id": "B5F6ovc-5UqM"
      }
    },
    {
      "cell_type": "code",
      "source": [
        "arr=np.array([2,3,11,33,4,5,56,6,76,23])\n",
        "\n",
        "arr.reshape(2,5)"
      ],
      "metadata": {
        "colab": {
          "base_uri": "https://localhost:8080/"
        },
        "id": "WiOKWzJ-6nZ9",
        "outputId": "ca7beac3-cf69-4785-fe15-c74c16eb73dd"
      },
      "execution_count": 31,
      "outputs": [
        {
          "output_type": "execute_result",
          "data": {
            "text/plain": [
              "array([[ 2,  3, 11, 33,  4],\n",
              "       [ 5, 56,  6, 76, 23]])"
            ]
          },
          "metadata": {},
          "execution_count": 31
        }
      ]
    },
    {
      "cell_type": "code",
      "source": [
        "arr.reshape(5,2)"
      ],
      "metadata": {
        "colab": {
          "base_uri": "https://localhost:8080/"
        },
        "id": "0XUBZMva8cNK",
        "outputId": "36128a5a-d554-49e5-ec6f-3fdd01674287"
      },
      "execution_count": 32,
      "outputs": [
        {
          "output_type": "execute_result",
          "data": {
            "text/plain": [
              "array([[ 2,  3],\n",
              "       [11, 33],\n",
              "       [ 4,  5],\n",
              "       [56,  6],\n",
              "       [76, 23]])"
            ]
          },
          "metadata": {},
          "execution_count": 32
        }
      ]
    },
    {
      "cell_type": "markdown",
      "source": [
        "Q3. CREATE A 4*4 NUMPY ARRAY WITH RANDOM FLOAT VALUES.ADD A BORDER OF ZEROES AROUND IT, RESULTING IN A 6*6 ARRAY."
      ],
      "metadata": {
        "id": "RhzdnVOm8gio"
      }
    },
    {
      "cell_type": "code",
      "source": [
        "original_array=np.random.rand(4, 4)\n",
        "\n",
        "bordered_array = np.pad(original_array, pad_width=1, mode='constant', constant_values=0)\n",
        "\n",
        "\n",
        "print(\"Original 4x4 Array:\\n\", original_array)\n",
        "print(\"\\nBordered 6x6 Array:\\n\", bordered_array)"
      ],
      "metadata": {
        "colab": {
          "base_uri": "https://localhost:8080/"
        },
        "id": "VnrcicWC9BMI",
        "outputId": "4ef1cff6-dc9d-411e-f485-156fcdd28f82"
      },
      "execution_count": 36,
      "outputs": [
        {
          "output_type": "stream",
          "name": "stdout",
          "text": [
            "Original 4x4 Array:\n",
            " [[0.29257907 0.56506176 0.31484184 0.73034296]\n",
            " [0.17798961 0.49159653 0.02060806 0.55425289]\n",
            " [0.53509145 0.01477047 0.38604362 0.81654737]\n",
            " [0.70598465 0.50263001 0.59835234 0.61962666]]\n",
            "\n",
            "Bordered 6x6 Array:\n",
            " [[0.         0.         0.         0.         0.         0.        ]\n",
            " [0.         0.29257907 0.56506176 0.31484184 0.73034296 0.        ]\n",
            " [0.         0.17798961 0.49159653 0.02060806 0.55425289 0.        ]\n",
            " [0.         0.53509145 0.01477047 0.38604362 0.81654737 0.        ]\n",
            " [0.         0.70598465 0.50263001 0.59835234 0.61962666 0.        ]\n",
            " [0.         0.         0.         0.         0.         0.        ]]\n"
          ]
        }
      ]
    },
    {
      "cell_type": "markdown",
      "source": [
        "Q4. USING NUMPY , CREATE AN ARRAY OF INTEGERS FROM 10 TO 60 WITH A STEP OF 5."
      ],
      "metadata": {
        "id": "0RNV5GRe-OKs"
      }
    },
    {
      "cell_type": "code",
      "source": [
        "\n",
        "\n",
        "\n",
        "array = np.arange(10, 60, 5)\n",
        "array\n"
      ],
      "metadata": {
        "colab": {
          "base_uri": "https://localhost:8080/"
        },
        "id": "dvsjGbxR-hei",
        "outputId": "13899921-8a8b-4306-df61-874719d65b0d"
      },
      "execution_count": 38,
      "outputs": [
        {
          "output_type": "execute_result",
          "data": {
            "text/plain": [
              "array([10, 15, 20, 25, 30, 35, 40, 45, 50, 55])"
            ]
          },
          "metadata": {},
          "execution_count": 38
        }
      ]
    },
    {
      "cell_type": "markdown",
      "source": [
        "Q5. CREATE A NUMPY ARRAY OF STRINGS ['python','numpy','pandas'].APPLY DIFFERENT CASE TRANSFORMATIONS (UPPERCASE,LOWERCASE,TITLE CASE ETC) TO EACH ELEMENT."
      ],
      "metadata": {
        "id": "XFI9_HNv-wxq"
      }
    },
    {
      "cell_type": "code",
      "source": [
        "\n",
        "strings = np.array(['python', 'numpy', 'pandas'])\n",
        "\n",
        "\n",
        "uppercase = np.char.upper(strings)\n",
        "lowercase = np.char.lower(strings)\n",
        "titlecase = np.char.title(strings)\n",
        "capitalize = np.char.capitalize(strings)\n",
        "\n",
        "print(\"Original Array:\", strings)\n",
        "print(\"Uppercase:\", uppercase)\n",
        "print(\"Lowercase:\", lowercase)\n",
        "print(\"Title Case:\", titlecase)\n",
        "print(\"Capitalized:\", capitalize)\n"
      ],
      "metadata": {
        "colab": {
          "base_uri": "https://localhost:8080/"
        },
        "id": "5LcP8dn0_Sww",
        "outputId": "01371f1d-2bd4-40e4-8e9e-4f95eeae2786"
      },
      "execution_count": 39,
      "outputs": [
        {
          "output_type": "stream",
          "name": "stdout",
          "text": [
            "Original Array: ['python' 'numpy' 'pandas']\n",
            "Uppercase: ['PYTHON' 'NUMPY' 'PANDAS']\n",
            "Lowercase: ['python' 'numpy' 'pandas']\n",
            "Title Case: ['Python' 'Numpy' 'Pandas']\n",
            "Capitalized: ['Python' 'Numpy' 'Pandas']\n"
          ]
        }
      ]
    },
    {
      "cell_type": "markdown",
      "source": [
        "Q6. GENERATE A NUMPY ARRAY OF WORDS . INSERT A SPACE BETWEEN EACH CHARACTER OF EVERY WORD IN THE ARRAY."
      ],
      "metadata": {
        "id": "KS-QFbdZ_fCB"
      }
    },
    {
      "cell_type": "code",
      "source": [
        "\n",
        "words = np.array(['hello', 'numpy', 'python', 'array'])\n",
        "\n",
        "\n",
        "spaced_words = np.char.join(' ', words)\n",
        "\n",
        "\n",
        "print(\"Original Array:\", words)\n",
        "print(\"Spaced Words:\", spaced_words)\n"
      ],
      "metadata": {
        "colab": {
          "base_uri": "https://localhost:8080/"
        },
        "id": "yhBFFF73_wxW",
        "outputId": "f4e3b7ce-90d2-4862-a6f8-af7729d83d77"
      },
      "execution_count": 40,
      "outputs": [
        {
          "output_type": "stream",
          "name": "stdout",
          "text": [
            "Original Array: ['hello' 'numpy' 'python' 'array']\n",
            "Spaced Words: ['h e l l o' 'n u m p y' 'p y t h o n' 'a r r a y']\n"
          ]
        }
      ]
    },
    {
      "cell_type": "markdown",
      "source": [
        "Q7. CREATE TWO 2D NUMPY ARRAYS AND PERFORM ELEMENT-WISE ADDITION, SUBSTRACTION, MULTIPLICATION AND DIVISION."
      ],
      "metadata": {
        "id": "N-WFtxB3_3gM"
      }
    },
    {
      "cell_type": "code",
      "source": [
        "\n",
        "array1 = np.array([[1, 2, 3], [4, 5, 6]])\n",
        "array2 = np.array([[7, 8, 9], [10, 11, 12]])\n",
        "\n",
        "\n",
        "array1 + array2\n"
      ],
      "metadata": {
        "colab": {
          "base_uri": "https://localhost:8080/"
        },
        "id": "-yDU1xkYAQT8",
        "outputId": "bd6512ff-3261-49d2-fbf9-0cc332c2edec"
      },
      "execution_count": 41,
      "outputs": [
        {
          "output_type": "execute_result",
          "data": {
            "text/plain": [
              "array([[ 8, 10, 12],\n",
              "       [14, 16, 18]])"
            ]
          },
          "metadata": {},
          "execution_count": 41
        }
      ]
    },
    {
      "cell_type": "code",
      "source": [
        "array1 - array2\n"
      ],
      "metadata": {
        "colab": {
          "base_uri": "https://localhost:8080/"
        },
        "id": "YGjJINgrAX8r",
        "outputId": "aebb2deb-a1cd-46ea-f311-bcd7c8406cfa"
      },
      "execution_count": 42,
      "outputs": [
        {
          "output_type": "execute_result",
          "data": {
            "text/plain": [
              "array([[-6, -6, -6],\n",
              "       [-6, -6, -6]])"
            ]
          },
          "metadata": {},
          "execution_count": 42
        }
      ]
    },
    {
      "cell_type": "code",
      "source": [
        " array1 * array2\n",
        "\n"
      ],
      "metadata": {
        "colab": {
          "base_uri": "https://localhost:8080/"
        },
        "id": "ZY7_QREvAdKI",
        "outputId": "c348b253-d786-41f0-d207-93bd51c79982"
      },
      "execution_count": 43,
      "outputs": [
        {
          "output_type": "execute_result",
          "data": {
            "text/plain": [
              "array([[ 7, 16, 27],\n",
              "       [40, 55, 72]])"
            ]
          },
          "metadata": {},
          "execution_count": 43
        }
      ]
    },
    {
      "cell_type": "code",
      "source": [
        "array1 / array2\n"
      ],
      "metadata": {
        "colab": {
          "base_uri": "https://localhost:8080/"
        },
        "id": "RCU9qF5YAdaE",
        "outputId": "95447f0d-339c-4e69-9781-3d06f2648058"
      },
      "execution_count": 44,
      "outputs": [
        {
          "output_type": "execute_result",
          "data": {
            "text/plain": [
              "array([[0.14285714, 0.25      , 0.33333333],\n",
              "       [0.4       , 0.45454545, 0.5       ]])"
            ]
          },
          "metadata": {},
          "execution_count": 44
        }
      ]
    },
    {
      "cell_type": "markdown",
      "source": [
        "Q8. USE NUMPY TO CREATE A 5*5 IDENTITY MATRIX ,THEN EXTRACT ITS DIAGONAL ELEMENTS."
      ],
      "metadata": {
        "id": "ZzMs4rnKAlhI"
      }
    },
    {
      "cell_type": "code",
      "source": [
        "a=np.eye(5)\n",
        "a"
      ],
      "metadata": {
        "colab": {
          "base_uri": "https://localhost:8080/"
        },
        "id": "yW7ivsqsA1f8",
        "outputId": "3c0ac81d-ba7f-4b97-df7b-c67785f79173"
      },
      "execution_count": 47,
      "outputs": [
        {
          "output_type": "execute_result",
          "data": {
            "text/plain": [
              "array([[1., 0., 0., 0., 0.],\n",
              "       [0., 1., 0., 0., 0.],\n",
              "       [0., 0., 1., 0., 0.],\n",
              "       [0., 0., 0., 1., 0.],\n",
              "       [0., 0., 0., 0., 1.]])"
            ]
          },
          "metadata": {},
          "execution_count": 47
        }
      ]
    },
    {
      "cell_type": "code",
      "source": [
        "np.diagonal(a)"
      ],
      "metadata": {
        "colab": {
          "base_uri": "https://localhost:8080/"
        },
        "id": "DEg0GsmAA-Ju",
        "outputId": "bdc3ef50-59df-4a58-8bd5-24857131d1e5"
      },
      "execution_count": 48,
      "outputs": [
        {
          "output_type": "execute_result",
          "data": {
            "text/plain": [
              "array([1., 1., 1., 1., 1.])"
            ]
          },
          "metadata": {},
          "execution_count": 48
        }
      ]
    },
    {
      "cell_type": "markdown",
      "source": [
        "Q9. GENERATE A NUMPY ARRAY OF 100 RANDOM INTEGERS BETWEEN 0 AND 1000. FIND AND DISPLAY ALL PRIME NUMBERS IN THIS ARRAY."
      ],
      "metadata": {
        "id": "h6Cz6KWqBXfv"
      }
    },
    {
      "cell_type": "code",
      "source": [
        "def is_prime(n):\n",
        "    if n <= 1:\n",
        "        return False\n",
        "    for i in range(2, int(n**0.5) + 1):\n",
        "        if n % i == 0:\n",
        "            return False\n",
        "    return True\n",
        "\n",
        "\n",
        "random_integers = np.random.randint(0, 1000, size=100)\n",
        "\n",
        "\n",
        "prime_numbers = [num for num in random_integers if is_prime(num)]\n",
        "\n",
        "\n",
        "print(\"Random Integers:\\n\", random_integers)\n",
        "print(\"\\nPrime Numbers:\", prime_numbers)\n"
      ],
      "metadata": {
        "colab": {
          "base_uri": "https://localhost:8080/"
        },
        "id": "IDaAEjW1BwIe",
        "outputId": "81656ba6-472b-4087-9460-8525ea449a16"
      },
      "execution_count": 50,
      "outputs": [
        {
          "output_type": "stream",
          "name": "stdout",
          "text": [
            "Random Integers:\n",
            " [616 677 340 644 208 960 344 884 238 343 455 810 750 397 195 825 304 523\n",
            " 681 394 545 466 539 254 661 118 660 551 189 836 687  96 802 938  30  75\n",
            " 652 673 447 636 104 955 574 261  62 306  90 917 535 309 694 441 413  46\n",
            " 130 244 442 535 934 984 826 980 299 940 154 318 534 404 617 776 549 424\n",
            " 400 892 845 855 429 554 925  84 391 658 895 870 108 680 252 340 119 499\n",
            " 685 139 714 278 362  62 102 948 901  32]\n",
            "\n",
            "Prime Numbers: [677, 397, 523, 661, 673, 617, 499, 139]\n"
          ]
        }
      ]
    },
    {
      "cell_type": "markdown",
      "source": [
        "Q10. CREATE A NUMPY ARRAY REPRESENTING DAILY TEMPERATURES FOR A MONTH. CALCULATE AND DISPLAY THE WEEKLY AVERAGES."
      ],
      "metadata": {
        "id": "sTaikT_UDqjO"
      }
    },
    {
      "cell_type": "code",
      "source": [
        "\n",
        "np.random.seed(0)\n",
        "daily_temperatures = np.random.randint(15, 31, size=28)\n",
        "\n",
        "\n",
        "weekly_temperatures = daily_temperatures.reshape(4, 7)\n",
        "\n",
        "\n",
        "weekly_averages = np.mean(weekly_temperatures, axis=1)\n",
        "\n",
        "\n",
        "print(\"Daily Temperatures for the Month:\\n\", daily_temperatures)\n",
        "print(\"\\nWeekly Temperatures:\\n\", weekly_temperatures)\n",
        "print(\"\\nWeekly Averages:\", weekly_averages)"
      ],
      "metadata": {
        "colab": {
          "base_uri": "https://localhost:8080/"
        },
        "id": "qyDJ1StKD_8z",
        "outputId": "f3f7b420-9dec-4297-cc06-0e0c64ebfa63"
      },
      "execution_count": 54,
      "outputs": [
        {
          "output_type": "stream",
          "name": "stdout",
          "text": [
            "Daily Temperatures for the Month:\n",
            " [27 30 20 15 18 26 18 22 24 18 20 17 19 22 21 23 23 27 25 16 21 22 22 29\n",
            " 23 16 20 24]\n",
            "\n",
            "Weekly Temperatures:\n",
            " [[27 30 20 15 18 26 18]\n",
            " [22 24 18 20 17 19 22]\n",
            " [21 23 23 27 25 16 21]\n",
            " [22 22 29 23 16 20 24]]\n",
            "\n",
            "Weekly Averages: [22.         20.28571429 22.28571429 22.28571429]\n"
          ]
        }
      ]
    }
  ]
}